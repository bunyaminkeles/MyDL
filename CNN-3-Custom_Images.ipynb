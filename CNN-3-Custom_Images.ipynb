{
 "cells": [
  {
   "cell_type": "markdown",
   "metadata": {},
   "source": [
    "\n",
    "## CNN With Custom Images\n",
    "\n",
    "The dataset contains 2 folders - Infected - Uninfected\n",
    "\n",
    "And a total of 27,558 images.\n",
    "\n",
    "\n",
    "This Dataset is taken from the official NIH Website: https://ceb.nlm.nih.gov/repositories/malaria-datasets/ "
   ]
  },
  {
   "cell_type": "code",
   "execution_count": 91,
   "metadata": {},
   "outputs": [],
   "source": [
    "import os\n",
    "import pandas as pd\n",
    "import numpy as np\n",
    "import seaborn as sns\n",
    "import matplotlib.pyplot as plt\n",
    "from matplotlib.image import imread\n",
    "import warnings\n",
    "warnings.filterwarnings('ignore')"
   ]
  },
  {
   "cell_type": "code",
   "execution_count": 2,
   "metadata": {},
   "outputs": [
    {
     "data": {
      "text/plain": [
       "'C:\\\\Users\\\\bunyaminkeles\\\\Documents\\\\_IT\\\\02_DataScience\\\\02_DeepLearning\\\\CNN_4\\\\cell_images'"
      ]
     },
     "execution_count": 2,
     "metadata": {},
     "output_type": "execute_result"
    }
   ],
   "source": [
    "pwd"
   ]
  },
  {
   "cell_type": "code",
   "execution_count": 3,
   "metadata": {},
   "outputs": [],
   "source": [
    "my_data_dir = 'C:\\\\Users\\\\bunyaminkeles\\\\Documents\\\\_IT\\\\02_DataScience\\\\02_DeepLearning\\\\CNN_4\\\\cell_images'"
   ]
  },
  {
   "cell_type": "code",
   "execution_count": 4,
   "metadata": {},
   "outputs": [
    {
     "data": {
      "text/plain": [
       "['.ipynb_checkpoints',\n",
       " 'catdogclassifier_student.ipynb',\n",
       " 'cell_images.zip',\n",
       " 'CNN-3-Custom_Images.ipynb',\n",
       " 'test',\n",
       " 'train']"
      ]
     },
     "execution_count": 4,
     "metadata": {},
     "output_type": "execute_result"
    }
   ],
   "source": [
    "# CONFIRM THAT THIS REPORTS BACK 'test', and 'train'\n",
    "os.listdir(my_data_dir) "
   ]
  },
  {
   "cell_type": "code",
   "execution_count": 5,
   "metadata": {},
   "outputs": [],
   "source": [
    "test_path = my_data_dir+'\\\\test\\\\'\n",
    "train_path = my_data_dir+'\\\\train\\\\'"
   ]
  },
  {
   "cell_type": "code",
   "execution_count": 6,
   "metadata": {},
   "outputs": [
    {
     "data": {
      "text/plain": [
       "['parasitized', 'uninfected']"
      ]
     },
     "execution_count": 6,
     "metadata": {},
     "output_type": "execute_result"
    }
   ],
   "source": [
    "os.listdir(test_path)"
   ]
  },
  {
   "cell_type": "code",
   "execution_count": 7,
   "metadata": {},
   "outputs": [
    {
     "data": {
      "text/plain": [
       "['parasitized', 'uninfected']"
      ]
     },
     "execution_count": 7,
     "metadata": {},
     "output_type": "execute_result"
    }
   ],
   "source": [
    "os.listdir(train_path)"
   ]
  },
  {
   "cell_type": "code",
   "execution_count": 8,
   "metadata": {
    "collapsed": true
   },
   "outputs": [
    {
     "data": {
      "text/plain": [
       "['C100P61ThinF_IMG_20150918_144104_cell_162.png',\n",
       " 'C100P61ThinF_IMG_20150918_144104_cell_163.png',\n",
       " 'C100P61ThinF_IMG_20150918_144104_cell_164.png',\n",
       " 'C100P61ThinF_IMG_20150918_144104_cell_165.png',\n",
       " 'C100P61ThinF_IMG_20150918_144104_cell_166.png',\n",
       " 'C100P61ThinF_IMG_20150918_144104_cell_167.png',\n",
       " 'C100P61ThinF_IMG_20150918_144104_cell_168.png',\n",
       " 'C100P61ThinF_IMG_20150918_144104_cell_169.png',\n",
       " 'C100P61ThinF_IMG_20150918_144104_cell_170.png',\n",
       " 'C100P61ThinF_IMG_20150918_144104_cell_171.png',\n",
       " 'C100P61ThinF_IMG_20150918_144348_cell_138.png',\n",
       " 'C100P61ThinF_IMG_20150918_144348_cell_139.png',\n",
       " 'C100P61ThinF_IMG_20150918_144348_cell_140.png',\n",
       " 'C100P61ThinF_IMG_20150918_144348_cell_141.png',\n",
       " 'C100P61ThinF_IMG_20150918_144348_cell_142.png',\n",
       " 'C100P61ThinF_IMG_20150918_144348_cell_143.png',\n",
       " 'C100P61ThinF_IMG_20150918_144823_cell_157.png',\n",
       " 'C100P61ThinF_IMG_20150918_144823_cell_158.png',\n",
       " 'C100P61ThinF_IMG_20150918_144823_cell_159.png',\n",
       " 'C100P61ThinF_IMG_20150918_144823_cell_160.png',\n",
       " 'C100P61ThinF_IMG_20150918_144823_cell_161.png',\n",
       " 'C100P61ThinF_IMG_20150918_144823_cell_162.png',\n",
       " 'C100P61ThinF_IMG_20150918_145042_cell_162.png',\n",
       " 'C100P61ThinF_IMG_20150918_145042_cell_163.png',\n",
       " 'C100P61ThinF_IMG_20150918_145042_cell_164.png',\n",
       " 'C100P61ThinF_IMG_20150918_145042_cell_165.png',\n",
       " 'C100P61ThinF_IMG_20150918_145042_cell_166.png',\n",
       " 'C100P61ThinF_IMG_20150918_145042_cell_167.png',\n",
       " 'C100P61ThinF_IMG_20150918_145422_cell_163.png',\n",
       " 'C100P61ThinF_IMG_20150918_145422_cell_164.png',\n",
       " 'C100P61ThinF_IMG_20150918_145422_cell_166.png',\n",
       " 'C100P61ThinF_IMG_20150918_145422_cell_167.png',\n",
       " 'C100P61ThinF_IMG_20150918_145422_cell_168.png',\n",
       " 'C100P61ThinF_IMG_20150918_145422_cell_169.png',\n",
       " 'C100P61ThinF_IMG_20150918_145609_cell_144.png',\n",
       " 'C100P61ThinF_IMG_20150918_145609_cell_146.png',\n",
       " 'C100P61ThinF_IMG_20150918_145609_cell_147.png',\n",
       " 'C100P61ThinF_IMG_20150918_145609_cell_148.png',\n",
       " 'C100P61ThinF_IMG_20150918_145609_cell_151.png',\n",
       " 'C100P61ThinF_IMG_20150918_145938_cell_167.png',\n",
       " 'C100P61ThinF_IMG_20150918_145938_cell_168.png',\n",
       " 'C100P61ThinF_IMG_20150918_145938_cell_169.png',\n",
       " 'C100P61ThinF_IMG_20150918_145938_cell_170.png',\n",
       " 'C100P61ThinF_IMG_20150918_145938_cell_171.png',\n",
       " 'C100P61ThinF_IMG_20150918_145938_cell_172.png',\n",
       " 'C100P61ThinF_IMG_20150918_145938_cell_173.png',\n",
       " 'C100P61ThinF_IMG_20150918_145938_cell_174.png',\n",
       " 'C100P61ThinF_IMG_20150918_150041_cell_146.png',\n",
       " 'C100P61ThinF_IMG_20150918_150041_cell_147.png',\n",
       " 'C100P61ThinF_IMG_20150918_150041_cell_149.png',\n",
       " 'C101P62ThinF_IMG_20150918_151006_cell_61.png',\n",
       " 'C101P62ThinF_IMG_20150918_151006_cell_62.png',\n",
       " 'C101P62ThinF_IMG_20150918_151006_cell_63.png',\n",
       " 'C101P62ThinF_IMG_20150918_151006_cell_65.png',\n",
       " 'C101P62ThinF_IMG_20150918_151006_cell_66.png',\n",
       " 'C101P62ThinF_IMG_20150918_151006_cell_67.png',\n",
       " 'C101P62ThinF_IMG_20150918_151006_cell_68.png',\n",
       " 'C101P62ThinF_IMG_20150918_151006_cell_69.png',\n",
       " 'C101P62ThinF_IMG_20150918_151006_cell_70.png',\n",
       " 'C101P62ThinF_IMG_20150918_151006_cell_71.png',\n",
       " 'C101P62ThinF_IMG_20150918_151006_cell_72.png',\n",
       " 'C101P62ThinF_IMG_20150918_151006_cell_73.png',\n",
       " 'C101P62ThinF_IMG_20150918_151006_cell_74.png',\n",
       " 'C101P62ThinF_IMG_20150918_151006_cell_75.png',\n",
       " 'C101P62ThinF_IMG_20150918_151006_cell_76.png',\n",
       " 'C101P62ThinF_IMG_20150918_151006_cell_77.png',\n",
       " 'C101P62ThinF_IMG_20150918_151006_cell_78.png',\n",
       " 'C101P62ThinF_IMG_20150918_151006_cell_79.png',\n",
       " 'C101P62ThinF_IMG_20150918_151006_cell_80.png',\n",
       " 'C101P62ThinF_IMG_20150918_151006_cell_81.png',\n",
       " 'C101P62ThinF_IMG_20150918_151006_cell_82.png',\n",
       " 'C101P62ThinF_IMG_20150918_151006_cell_83.png',\n",
       " 'C101P62ThinF_IMG_20150918_151006_cell_84.png',\n",
       " 'C101P62ThinF_IMG_20150918_151006_cell_85.png',\n",
       " 'C101P62ThinF_IMG_20150918_151006_cell_86.png',\n",
       " 'C101P62ThinF_IMG_20150918_151149_cell_68.png',\n",
       " 'C101P62ThinF_IMG_20150918_151149_cell_69.png',\n",
       " 'C101P62ThinF_IMG_20150918_151149_cell_70.png',\n",
       " 'C101P62ThinF_IMG_20150918_151149_cell_71.png',\n",
       " 'C101P62ThinF_IMG_20150918_151149_cell_72.png',\n",
       " 'C101P62ThinF_IMG_20150918_151149_cell_73.png',\n",
       " 'C101P62ThinF_IMG_20150918_151149_cell_74.png',\n",
       " 'C101P62ThinF_IMG_20150918_151149_cell_75.png',\n",
       " 'C101P62ThinF_IMG_20150918_151149_cell_76.png',\n",
       " 'C101P62ThinF_IMG_20150918_151149_cell_77.png',\n",
       " 'C101P62ThinF_IMG_20150918_151149_cell_78.png',\n",
       " 'C101P62ThinF_IMG_20150918_151149_cell_79.png',\n",
       " 'C101P62ThinF_IMG_20150918_151149_cell_80.png',\n",
       " 'C101P62ThinF_IMG_20150918_151149_cell_81.png',\n",
       " 'C101P62ThinF_IMG_20150918_151149_cell_82.png',\n",
       " 'C101P62ThinF_IMG_20150918_151149_cell_83.png',\n",
       " 'C101P62ThinF_IMG_20150918_151149_cell_84.png',\n",
       " 'C101P62ThinF_IMG_20150918_151149_cell_85.png',\n",
       " 'C101P62ThinF_IMG_20150918_151149_cell_86.png',\n",
       " 'C101P62ThinF_IMG_20150918_151149_cell_87.png',\n",
       " 'C101P62ThinF_IMG_20150918_151149_cell_88.png',\n",
       " 'C101P62ThinF_IMG_20150918_151239_cell_100.png',\n",
       " 'C101P62ThinF_IMG_20150918_151239_cell_74.png',\n",
       " 'C101P62ThinF_IMG_20150918_151239_cell_75.png',\n",
       " 'C101P62ThinF_IMG_20150918_151239_cell_76.png',\n",
       " 'C101P62ThinF_IMG_20150918_151239_cell_77.png',\n",
       " 'C101P62ThinF_IMG_20150918_151239_cell_78.png',\n",
       " 'C101P62ThinF_IMG_20150918_151239_cell_79.png',\n",
       " 'C101P62ThinF_IMG_20150918_151239_cell_81.png',\n",
       " 'C101P62ThinF_IMG_20150918_151239_cell_82.png',\n",
       " 'C101P62ThinF_IMG_20150918_151239_cell_83.png',\n",
       " 'C101P62ThinF_IMG_20150918_151239_cell_84.png',\n",
       " 'C101P62ThinF_IMG_20150918_151239_cell_85.png',\n",
       " 'C101P62ThinF_IMG_20150918_151239_cell_86.png',\n",
       " 'C101P62ThinF_IMG_20150918_151239_cell_87.png',\n",
       " 'C101P62ThinF_IMG_20150918_151239_cell_89.png',\n",
       " 'C101P62ThinF_IMG_20150918_151239_cell_90.png',\n",
       " 'C101P62ThinF_IMG_20150918_151239_cell_91.png',\n",
       " 'C101P62ThinF_IMG_20150918_151239_cell_92.png',\n",
       " 'C101P62ThinF_IMG_20150918_151239_cell_93.png',\n",
       " 'C101P62ThinF_IMG_20150918_151239_cell_94.png',\n",
       " 'C101P62ThinF_IMG_20150918_151239_cell_95.png',\n",
       " 'C101P62ThinF_IMG_20150918_151239_cell_96.png',\n",
       " 'C101P62ThinF_IMG_20150918_151239_cell_97.png',\n",
       " 'C101P62ThinF_IMG_20150918_151239_cell_98.png',\n",
       " 'C101P62ThinF_IMG_20150918_151335_cell_51.png',\n",
       " 'C101P62ThinF_IMG_20150918_151335_cell_52.png',\n",
       " 'C101P62ThinF_IMG_20150918_151335_cell_53.png',\n",
       " 'C101P62ThinF_IMG_20150918_151335_cell_54.png',\n",
       " 'C101P62ThinF_IMG_20150918_151335_cell_55.png',\n",
       " 'C101P62ThinF_IMG_20150918_151335_cell_56.png',\n",
       " 'C101P62ThinF_IMG_20150918_151335_cell_57.png',\n",
       " 'C101P62ThinF_IMG_20150918_151335_cell_59.png',\n",
       " 'C101P62ThinF_IMG_20150918_151335_cell_60.png',\n",
       " 'C101P62ThinF_IMG_20150918_151335_cell_61.png',\n",
       " 'C101P62ThinF_IMG_20150918_151335_cell_62.png',\n",
       " 'C101P62ThinF_IMG_20150918_151335_cell_63.png',\n",
       " 'C101P62ThinF_IMG_20150918_151335_cell_64.png',\n",
       " 'C101P62ThinF_IMG_20150918_151335_cell_65.png',\n",
       " 'C101P62ThinF_IMG_20150918_151335_cell_67.png',\n",
       " 'C101P62ThinF_IMG_20150918_151335_cell_68.png',\n",
       " 'C101P62ThinF_IMG_20150918_151335_cell_69.png',\n",
       " 'C101P62ThinF_IMG_20150918_151335_cell_70.png',\n",
       " 'C101P62ThinF_IMG_20150918_151335_cell_71.png',\n",
       " 'C101P62ThinF_IMG_20150918_151335_cell_72.png',\n",
       " 'C101P62ThinF_IMG_20150918_151335_cell_73.png',\n",
       " 'C101P62ThinF_IMG_20150918_151335_cell_74.png',\n",
       " 'C101P62ThinF_IMG_20150918_151335_cell_75.png',\n",
       " 'C101P62ThinF_IMG_20150918_151335_cell_76.png',\n",
       " 'C101P62ThinF_IMG_20150918_151335_cell_77.png',\n",
       " 'C101P62ThinF_IMG_20150918_151335_cell_78.png',\n",
       " 'C101P62ThinF_IMG_20150918_151507_cell_49.png',\n",
       " 'C101P62ThinF_IMG_20150918_151507_cell_50.png',\n",
       " 'C101P62ThinF_IMG_20150918_151507_cell_51.png',\n",
       " 'C101P62ThinF_IMG_20150918_151507_cell_52.png',\n",
       " 'C101P62ThinF_IMG_20150918_151507_cell_53.png',\n",
       " 'C101P62ThinF_IMG_20150918_151507_cell_54.png',\n",
       " 'C101P62ThinF_IMG_20150918_151507_cell_55.png',\n",
       " 'C101P62ThinF_IMG_20150918_151507_cell_56.png',\n",
       " 'C101P62ThinF_IMG_20150918_151507_cell_57.png',\n",
       " 'C101P62ThinF_IMG_20150918_151507_cell_58.png',\n",
       " 'C101P62ThinF_IMG_20150918_151507_cell_59.png',\n",
       " 'C101P62ThinF_IMG_20150918_151507_cell_61.png',\n",
       " 'C101P62ThinF_IMG_20150918_151507_cell_62.png',\n",
       " 'C101P62ThinF_IMG_20150918_151507_cell_64.png',\n",
       " 'C101P62ThinF_IMG_20150918_151507_cell_66.png',\n",
       " 'C101P62ThinF_IMG_20150918_151507_cell_67.png',\n",
       " 'C101P62ThinF_IMG_20150918_151507_cell_68.png',\n",
       " 'C101P62ThinF_IMG_20150918_151507_cell_69.png',\n",
       " 'C101P62ThinF_IMG_20150918_151507_cell_71.png',\n",
       " 'C101P62ThinF_IMG_20150918_151507_cell_72.png',\n",
       " 'C101P62ThinF_IMG_20150918_151507_cell_74.png',\n",
       " 'C101P62ThinF_IMG_20150918_151507_cell_76.png',\n",
       " 'C101P62ThinF_IMG_20150918_151507_cell_77.png',\n",
       " 'C101P62ThinF_IMG_20150918_151942_cell_58.png',\n",
       " 'C101P62ThinF_IMG_20150918_151942_cell_59.png',\n",
       " 'C101P62ThinF_IMG_20150918_151942_cell_60.png',\n",
       " 'C101P62ThinF_IMG_20150918_151942_cell_61.png',\n",
       " 'C101P62ThinF_IMG_20150918_151942_cell_62.png',\n",
       " 'C101P62ThinF_IMG_20150918_151942_cell_64.png',\n",
       " 'C101P62ThinF_IMG_20150918_151942_cell_66.png',\n",
       " 'C101P62ThinF_IMG_20150918_151942_cell_67.png',\n",
       " 'C101P62ThinF_IMG_20150918_151942_cell_68.png',\n",
       " 'C101P62ThinF_IMG_20150918_151942_cell_69.png',\n",
       " 'C101P62ThinF_IMG_20150918_151942_cell_71.png',\n",
       " 'C101P62ThinF_IMG_20150918_151942_cell_72.png',\n",
       " 'C101P62ThinF_IMG_20150918_151942_cell_73.png',\n",
       " 'C101P62ThinF_IMG_20150918_151942_cell_74.png',\n",
       " 'C101P62ThinF_IMG_20150918_151942_cell_75.png',\n",
       " 'C101P62ThinF_IMG_20150918_151942_cell_76.png',\n",
       " 'C101P62ThinF_IMG_20150918_151942_cell_77.png',\n",
       " 'C101P62ThinF_IMG_20150918_151942_cell_78.png',\n",
       " 'C101P62ThinF_IMG_20150918_151942_cell_79.png',\n",
       " 'C101P62ThinF_IMG_20150918_151942_cell_80.png',\n",
       " 'C101P62ThinF_IMG_20150918_151942_cell_81.png',\n",
       " 'C101P62ThinF_IMG_20150918_151942_cell_82.png',\n",
       " 'C101P62ThinF_IMG_20150918_151942_cell_83.png',\n",
       " 'C101P62ThinF_IMG_20150918_151942_cell_84.png',\n",
       " 'C101P62ThinF_IMG_20150918_151942_cell_85.png',\n",
       " 'C101P62ThinF_IMG_20150918_151942_cell_88.png',\n",
       " 'C101P62ThinF_IMG_20150918_151942_cell_89.png',\n",
       " 'C101P62ThinF_IMG_20150918_151942_cell_90.png',\n",
       " 'C101P62ThinF_IMG_20150918_155026_cell_1.png',\n",
       " 'C101P62ThinF_IMG_20150918_155731_cell_61.png',\n",
       " 'C101P62ThinF_IMG_20150918_155731_cell_63.png',\n",
       " 'C101P62ThinF_IMG_20150918_155731_cell_64.png',\n",
       " 'C101P62ThinF_IMG_20150918_155731_cell_65.png',\n",
       " 'C101P62ThinF_IMG_20150918_155731_cell_68.png',\n",
       " 'C101P62ThinF_IMG_20150918_155731_cell_69.png',\n",
       " 'C101P62ThinF_IMG_20150918_155731_cell_70.png',\n",
       " 'C101P62ThinF_IMG_20150918_155731_cell_71.png',\n",
       " 'C101P62ThinF_IMG_20150918_155731_cell_73.png',\n",
       " 'C101P62ThinF_IMG_20150918_155731_cell_74.png',\n",
       " 'C101P62ThinF_IMG_20150918_155731_cell_75.png',\n",
       " 'C101P62ThinF_IMG_20150918_155731_cell_76.png',\n",
       " 'C101P62ThinF_IMG_20150918_155731_cell_77.png',\n",
       " 'C101P62ThinF_IMG_20150918_155731_cell_78.png',\n",
       " 'C101P62ThinF_IMG_20150918_155731_cell_79.png',\n",
       " 'C101P62ThinF_IMG_20150918_155731_cell_80.png',\n",
       " 'C101P62ThinF_IMG_20150918_155731_cell_81.png',\n",
       " 'C101P62ThinF_IMG_20150918_155731_cell_82.png',\n",
       " 'C101P62ThinF_IMG_20150918_155731_cell_83.png',\n",
       " 'C101P62ThinF_IMG_20150918_155731_cell_84.png',\n",
       " 'C101P62ThinF_IMG_20150923_165215_cell_1.png',\n",
       " 'C101P62ThinF_IMG_20150923_165215_cell_10.png',\n",
       " 'C101P62ThinF_IMG_20150923_165215_cell_11.png',\n",
       " 'C101P62ThinF_IMG_20150923_165215_cell_12.png',\n",
       " 'C101P62ThinF_IMG_20150923_165215_cell_13.png',\n",
       " 'C101P62ThinF_IMG_20150923_165215_cell_14.png',\n",
       " 'C101P62ThinF_IMG_20150923_165215_cell_15.png',\n",
       " 'C101P62ThinF_IMG_20150923_165215_cell_16.png',\n",
       " 'C101P62ThinF_IMG_20150923_165215_cell_17.png',\n",
       " 'C101P62ThinF_IMG_20150923_165215_cell_19.png',\n",
       " 'C101P62ThinF_IMG_20150923_165215_cell_20.png',\n",
       " 'C101P62ThinF_IMG_20150923_165215_cell_21.png',\n",
       " 'C101P62ThinF_IMG_20150923_165215_cell_22.png',\n",
       " 'C101P62ThinF_IMG_20150923_165215_cell_23.png',\n",
       " 'C101P62ThinF_IMG_20150923_165215_cell_24.png',\n",
       " 'C101P62ThinF_IMG_20150923_165215_cell_25.png',\n",
       " 'C101P62ThinF_IMG_20150923_165215_cell_26.png',\n",
       " 'C101P62ThinF_IMG_20150923_165215_cell_27.png',\n",
       " 'C101P62ThinF_IMG_20150923_165215_cell_28.png',\n",
       " 'C101P62ThinF_IMG_20150923_165215_cell_29.png',\n",
       " 'C101P62ThinF_IMG_20150923_165215_cell_3.png',\n",
       " 'C101P62ThinF_IMG_20150923_165215_cell_30.png',\n",
       " 'C101P62ThinF_IMG_20150923_165215_cell_32.png',\n",
       " 'C101P62ThinF_IMG_20150923_165215_cell_33.png',\n",
       " 'C101P62ThinF_IMG_20150923_165215_cell_34.png',\n",
       " 'C101P62ThinF_IMG_20150923_165215_cell_35.png',\n",
       " 'C101P62ThinF_IMG_20150923_165215_cell_37.png',\n",
       " 'C101P62ThinF_IMG_20150923_165215_cell_38.png',\n",
       " 'C101P62ThinF_IMG_20150923_165215_cell_39.png',\n",
       " 'C101P62ThinF_IMG_20150923_165215_cell_4.png',\n",
       " 'C101P62ThinF_IMG_20150923_165215_cell_40.png',\n",
       " 'C101P62ThinF_IMG_20150923_165215_cell_41.png',\n",
       " 'C101P62ThinF_IMG_20150923_165215_cell_5.png',\n",
       " 'C101P62ThinF_IMG_20150923_165215_cell_6.png',\n",
       " 'C101P62ThinF_IMG_20150923_165215_cell_7.png',\n",
       " 'C101P62ThinF_IMG_20150923_165215_cell_8.png',\n",
       " 'C101P62ThinF_IMG_20150923_165215_cell_9.png',\n",
       " 'C101P62ThinF_IMG_20150923_170110_cell_1.png',\n",
       " 'C101P62ThinF_IMG_20150923_170110_cell_10.png',\n",
       " 'C101P62ThinF_IMG_20150923_170110_cell_11.png',\n",
       " 'C101P62ThinF_IMG_20150923_170110_cell_12.png',\n",
       " 'C101P62ThinF_IMG_20150923_170110_cell_14.png',\n",
       " 'C101P62ThinF_IMG_20150923_170110_cell_15.png',\n",
       " 'C101P62ThinF_IMG_20150923_170110_cell_16.png',\n",
       " 'C101P62ThinF_IMG_20150923_170110_cell_17.png',\n",
       " 'C101P62ThinF_IMG_20150923_170110_cell_18.png',\n",
       " 'C101P62ThinF_IMG_20150923_170110_cell_19.png',\n",
       " 'C101P62ThinF_IMG_20150923_170110_cell_2.png',\n",
       " 'C101P62ThinF_IMG_20150923_170110_cell_20.png',\n",
       " 'C101P62ThinF_IMG_20150923_170110_cell_21.png',\n",
       " 'C101P62ThinF_IMG_20150923_170110_cell_22.png',\n",
       " 'C101P62ThinF_IMG_20150923_170110_cell_23.png',\n",
       " 'C101P62ThinF_IMG_20150923_170110_cell_24.png',\n",
       " 'C101P62ThinF_IMG_20150923_170110_cell_3.png',\n",
       " 'C101P62ThinF_IMG_20150923_170110_cell_4.png',\n",
       " 'C101P62ThinF_IMG_20150923_170110_cell_5.png',\n",
       " 'C101P62ThinF_IMG_20150923_170110_cell_6.png',\n",
       " 'C101P62ThinF_IMG_20150923_170110_cell_7.png',\n",
       " 'C101P62ThinF_IMG_20150923_170110_cell_8.png',\n",
       " 'C101P62ThinF_IMG_20150923_170110_cell_9.png',\n",
       " 'C101P62ThinF_IMG_20150923_170246_cell_62.png',\n",
       " 'C101P62ThinF_IMG_20150923_170246_cell_63.png',\n",
       " 'C101P62ThinF_IMG_20150923_170246_cell_64.png',\n",
       " 'C101P62ThinF_IMG_20150923_170246_cell_65.png',\n",
       " 'C101P62ThinF_IMG_20150923_170246_cell_66.png',\n",
       " 'C101P62ThinF_IMG_20150923_170246_cell_67.png',\n",
       " 'C101P62ThinF_IMG_20150923_170246_cell_68.png',\n",
       " 'C101P62ThinF_IMG_20150923_170246_cell_70.png',\n",
       " 'C101P62ThinF_IMG_20150923_170246_cell_71.png',\n",
       " 'C101P62ThinF_IMG_20150923_170246_cell_72.png',\n",
       " 'C101P62ThinF_IMG_20150923_170246_cell_74.png',\n",
       " 'C101P62ThinF_IMG_20150923_170246_cell_75.png',\n",
       " 'C101P62ThinF_IMG_20150923_170246_cell_76.png',\n",
       " 'C101P62ThinF_IMG_20150923_170246_cell_77.png',\n",
       " 'C101P62ThinF_IMG_20150923_170246_cell_78.png',\n",
       " 'C101P62ThinF_IMG_20150923_170246_cell_79.png',\n",
       " 'C101P62ThinF_IMG_20150923_170246_cell_80.png',\n",
       " 'C101P62ThinF_IMG_20150923_170246_cell_81.png',\n",
       " 'C101P62ThinF_IMG_20150923_170246_cell_82.png',\n",
       " 'C101P62ThinF_IMG_20150923_170246_cell_83.png',\n",
       " 'C101P62ThinF_IMG_20150923_170246_cell_84.png',\n",
       " 'C101P62ThinF_IMG_20150923_170246_cell_85.png',\n",
       " 'C101P62ThinF_IMG_20150923_170246_cell_87.png',\n",
       " 'C101P62ThinF_IMG_20150923_170246_cell_88.png',\n",
       " 'C101P62ThinF_IMG_20150923_170246_cell_89.png',\n",
       " 'C101P62ThinF_IMG_20150923_170246_cell_90.png',\n",
       " 'C101P62ThinF_IMG_20150923_170344_cell_100.png',\n",
       " 'C101P62ThinF_IMG_20150923_170344_cell_71.png',\n",
       " 'C101P62ThinF_IMG_20150923_170344_cell_72.png',\n",
       " 'C101P62ThinF_IMG_20150923_170344_cell_73.png',\n",
       " 'C101P62ThinF_IMG_20150923_170344_cell_74.png',\n",
       " 'C101P62ThinF_IMG_20150923_170344_cell_75.png',\n",
       " 'C101P62ThinF_IMG_20150923_170344_cell_76.png',\n",
       " 'C101P62ThinF_IMG_20150923_170344_cell_77.png',\n",
       " 'C101P62ThinF_IMG_20150923_170344_cell_78.png',\n",
       " 'C101P62ThinF_IMG_20150923_170344_cell_79.png',\n",
       " 'C101P62ThinF_IMG_20150923_170344_cell_80.png',\n",
       " 'C101P62ThinF_IMG_20150923_170344_cell_81.png',\n",
       " 'C101P62ThinF_IMG_20150923_170344_cell_82.png',\n",
       " 'C101P62ThinF_IMG_20150923_170344_cell_84.png',\n",
       " 'C101P62ThinF_IMG_20150923_170344_cell_86.png',\n",
       " 'C101P62ThinF_IMG_20150923_170344_cell_87.png',\n",
       " 'C101P62ThinF_IMG_20150923_170344_cell_88.png',\n",
       " 'C101P62ThinF_IMG_20150923_170344_cell_89.png',\n",
       " 'C101P62ThinF_IMG_20150923_170344_cell_90.png',\n",
       " 'C101P62ThinF_IMG_20150923_170344_cell_91.png',\n",
       " 'C101P62ThinF_IMG_20150923_170344_cell_92.png',\n",
       " 'C101P62ThinF_IMG_20150923_170344_cell_93.png',\n",
       " 'C101P62ThinF_IMG_20150923_170344_cell_94.png',\n",
       " 'C101P62ThinF_IMG_20150923_170344_cell_95.png',\n",
       " 'C101P62ThinF_IMG_20150923_170344_cell_97.png',\n",
       " 'C101P62ThinF_IMG_20150923_170344_cell_98.png',\n",
       " 'C102P63ThinF_IMG_20150918_161508_cell_190.png',\n",
       " 'C102P63ThinF_IMG_20150918_161508_cell_191.png',\n",
       " 'C102P63ThinF_IMG_20150918_161508_cell_192.png',\n",
       " 'C102P63ThinF_IMG_20150918_161508_cell_193.png',\n",
       " 'C102P63ThinF_IMG_20150918_161508_cell_194.png',\n",
       " 'C102P63ThinF_IMG_20150918_161508_cell_195.png',\n",
       " 'C102P63ThinF_IMG_20150918_161826_cell_170.png',\n",
       " 'C102P63ThinF_IMG_20150918_161826_cell_171.png',\n",
       " 'C102P63ThinF_IMG_20150918_161826_cell_172.png',\n",
       " 'C102P63ThinF_IMG_20150918_162051_cell_141.png',\n",
       " 'C102P63ThinF_IMG_20150918_162051_cell_142.png',\n",
       " 'C102P63ThinF_IMG_20150918_162051_cell_143.png',\n",
       " 'C102P63ThinF_IMG_20150918_162051_cell_144.png',\n",
       " 'C102P63ThinF_IMG_20150918_162051_cell_145.png',\n",
       " 'C102P63ThinF_IMG_20150918_162051_cell_146.png',\n",
       " 'C102P63ThinF_IMG_20150918_162051_cell_147.png',\n",
       " 'C102P63ThinF_IMG_20150918_162155_cell_132.png',\n",
       " 'C102P63ThinF_IMG_20150918_162155_cell_133.png',\n",
       " 'C102P63ThinF_IMG_20150918_162300_cell_180.png',\n",
       " 'C102P63ThinF_IMG_20150918_162300_cell_181.png',\n",
       " 'C102P63ThinF_IMG_20150918_162300_cell_182.png',\n",
       " 'C102P63ThinF_IMG_20150918_162511_cell_169.png',\n",
       " 'C102P63ThinF_IMG_20150918_162511_cell_170.png',\n",
       " 'C102P63ThinF_IMG_20150918_162511_cell_171.png',\n",
       " 'C102P63ThinF_IMG_20150918_162511_cell_172.png',\n",
       " 'C102P63ThinF_IMG_20150918_162511_cell_173.png',\n",
       " 'C102P63ThinF_IMG_20150918_162927_cell_1.png',\n",
       " 'C102P63ThinF_IMG_20150918_162927_cell_2.png',\n",
       " 'C102P63ThinF_IMG_20150918_162927_cell_3.png',\n",
       " 'C102P63ThinF_IMG_20150918_162927_cell_4.png',\n",
       " 'C102P63ThinF_IMG_20150918_162927_cell_5.png',\n",
       " 'C102P63ThinF_IMG_20150918_163054_cell_167.png',\n",
       " 'C102P63ThinF_IMG_20150918_163054_cell_168.png',\n",
       " 'C102P63ThinF_IMG_20150918_163054_cell_169.png',\n",
       " 'C102P63ThinF_IMG_20150918_163054_cell_170.png',\n",
       " 'C103P64ThinF_IMG_20150918_164250_cell_170.png',\n",
       " 'C103P64ThinF_IMG_20150918_164250_cell_172.png',\n",
       " 'C103P64ThinF_IMG_20150918_164250_cell_173.png',\n",
       " 'C103P64ThinF_IMG_20150918_164250_cell_174.png',\n",
       " 'C103P64ThinF_IMG_20150918_164331_cell_185.png',\n",
       " 'C103P64ThinF_IMG_20150918_164331_cell_186.png',\n",
       " 'C103P64ThinF_IMG_20150918_164331_cell_187.png',\n",
       " 'C103P64ThinF_IMG_20150918_164553_cell_167.png',\n",
       " 'C103P64ThinF_IMG_20150918_164553_cell_168.png',\n",
       " 'C103P64ThinF_IMG_20150918_164553_cell_169.png',\n",
       " 'C103P64ThinF_IMG_20150918_164553_cell_170.png',\n",
       " 'C103P64ThinF_IMG_20150918_164553_cell_172.png',\n",
       " 'C103P64ThinF_IMG_20150918_164553_cell_173.png',\n",
       " 'C103P64ThinF_IMG_20150918_165016_cell_158.png',\n",
       " 'C103P64ThinF_IMG_20150918_165016_cell_159.png',\n",
       " 'C103P64ThinF_IMG_20150918_165016_cell_160.png',\n",
       " 'C103P64ThinF_IMG_20150918_165016_cell_161.png',\n",
       " 'C103P64ThinF_IMG_20150918_165016_cell_162.png',\n",
       " 'C103P64ThinF_IMG_20150918_165125_cell_163.png',\n",
       " 'C103P64ThinF_IMG_20150918_165125_cell_164.png',\n",
       " 'C103P64ThinF_IMG_20150918_165125_cell_165.png',\n",
       " 'C103P64ThinF_IMG_20150918_165125_cell_166.png',\n",
       " 'C103P64ThinF_IMG_20150918_165510_cell_176.png',\n",
       " 'C103P64ThinF_IMG_20150918_165510_cell_177.png',\n",
       " 'C103P64ThinF_IMG_20150918_165510_cell_178.png',\n",
       " 'C103P64ThinF_IMG_20150918_165510_cell_179.png',\n",
       " 'C103P64ThinF_IMG_20150918_165510_cell_180.png',\n",
       " 'C103P64ThinF_IMG_20150918_165510_cell_181.png',\n",
       " 'C103P64ThinF_IMG_20150918_165510_cell_182.png',\n",
       " 'C103P64ThinF_IMG_20150918_165510_cell_183.png',\n",
       " 'C103P64ThinF_IMG_20150918_165510_cell_184.png',\n",
       " 'C103P64ThinF_IMG_20150918_165510_cell_185.png',\n",
       " 'C103P64ThinF_IMG_20150918_165510_cell_186.png',\n",
       " 'C103P64ThinF_IMG_20150918_165510_cell_188.png',\n",
       " 'C104P65ThinF_IMG_20150918_170850_cell_204.png',\n",
       " 'C104P65ThinF_IMG_20150918_171154_cell_212.png',\n",
       " 'C104P65ThinF_IMG_20150918_171154_cell_213.png',\n",
       " 'C104P65ThinF_IMG_20150918_171751_cell_186.png',\n",
       " 'C104P65ThinF_IMG_20150918_171751_cell_187.png',\n",
       " 'C104P65ThinF_IMG_20150918_172053_cell_187.png',\n",
       " 'C104P65ThinF_IMG_20150918_172537_cell_149.png',\n",
       " 'C104P65ThinF_IMG_20150918_172639_cell_182.png',\n",
       " 'C104P65ThinF_IMG_20150918_172639_cell_184.png',\n",
       " 'C105P66ThinF_IMG_20150924_094800_cell_136.png',\n",
       " 'C105P66ThinF_IMG_20150924_094800_cell_137.png',\n",
       " 'C105P66ThinF_IMG_20150924_095034_cell_148.png',\n",
       " 'C105P66ThinF_IMG_20150924_095034_cell_149.png',\n",
       " 'C105P66ThinF_IMG_20150924_095034_cell_150.png',\n",
       " 'C105P66ThinF_IMG_20150924_095130_cell_155.png',\n",
       " 'C105P66ThinF_IMG_20150924_095130_cell_156.png',\n",
       " 'C105P66ThinF_IMG_20150924_095130_cell_157.png',\n",
       " 'C105P66ThinF_IMG_20150924_095130_cell_158.png',\n",
       " 'C105P66ThinF_IMG_20150924_095633_cell_126.png',\n",
       " 'C105P66ThinF_IMG_20150924_095716_cell_113.png',\n",
       " 'C105P66ThinF_IMG_20150924_095716_cell_114.png',\n",
       " 'C105P66ThinF_IMG_20150924_095913_cell_117.png',\n",
       " 'C105P66ThinF_IMG_20150924_095913_cell_118.png',\n",
       " 'C105P66ThinF_IMG_20150924_100655_cell_123.png',\n",
       " 'C105P66ThinF_IMG_20150924_100655_cell_124.png',\n",
       " 'C105P66ThinF_IMG_20150924_100655_cell_125.png',\n",
       " 'C106P67ThinF_IMG_20150924_102245_cell_164.png',\n",
       " 'C106P67ThinF_IMG_20150924_102245_cell_165.png',\n",
       " 'C106P67ThinF_IMG_20150924_102245_cell_166.png',\n",
       " 'C106P67ThinF_IMG_20150924_102413_cell_190.png',\n",
       " 'C106P67ThinF_IMG_20150924_102826_cell_143.png',\n",
       " 'C106P67ThinF_IMG_20150924_103245_cell_143.png',\n",
       " 'C106P67ThinF_IMG_20150924_103811_cell_180.png',\n",
       " 'C106P67ThinF_IMG_20150924_103811_cell_181.png',\n",
       " 'C106P67ThinF_IMG_20150924_103811_cell_182.png',\n",
       " 'C106P67ThinF_IMG_20150924_103811_cell_183.png',\n",
       " 'C106P67ThinF_IMG_20150924_104044_cell_167.png',\n",
       " 'C106P67ThinF_IMG_20150924_104044_cell_168.png',\n",
       " 'C107P68ThinF_IMG_20150924_221632_cell_169.png',\n",
       " 'C107P68ThinF_IMG_20150924_221632_cell_170.png',\n",
       " 'C107P68ThinF_IMG_20150924_221632_cell_172.png',\n",
       " 'C107P68ThinF_IMG_20150924_221632_cell_173.png',\n",
       " 'C107P68ThinF_IMG_20150924_221632_cell_174.png',\n",
       " 'C107P68ThinF_IMG_20150924_221632_cell_175.png',\n",
       " 'C107P68ThinF_IMG_20150924_221632_cell_176.png',\n",
       " 'C107P68ThinF_IMG_20150924_221632_cell_177.png',\n",
       " 'C107P68ThinF_IMG_20150924_221632_cell_178.png',\n",
       " 'C107P68ThinF_IMG_20150924_221632_cell_179.png',\n",
       " 'C107P68ThinF_IMG_20150924_221632_cell_180.png',\n",
       " 'C107P68ThinF_IMG_20150924_221909_cell_156.png',\n",
       " 'C107P68ThinF_IMG_20150924_221909_cell_159.png',\n",
       " 'C107P68ThinF_IMG_20150924_221909_cell_160.png',\n",
       " 'C107P68ThinF_IMG_20150924_221909_cell_161.png',\n",
       " 'C107P68ThinF_IMG_20150924_221909_cell_162.png',\n",
       " 'C107P68ThinF_IMG_20150924_221909_cell_163.png',\n",
       " 'C107P68ThinF_IMG_20150924_222233_cell_150.png',\n",
       " 'C107P68ThinF_IMG_20150924_222233_cell_151.png',\n",
       " 'C107P68ThinF_IMG_20150924_222233_cell_153.png',\n",
       " 'C107P68ThinF_IMG_20150924_222233_cell_154.png',\n",
       " 'C107P68ThinF_IMG_20150924_222233_cell_156.png',\n",
       " 'C107P68ThinF_IMG_20150924_222233_cell_157.png',\n",
       " 'C107P68ThinF_IMG_20150924_222233_cell_158.png',\n",
       " 'C107P68ThinF_IMG_20150924_222233_cell_159.png',\n",
       " 'C107P68ThinF_IMG_20150924_222233_cell_160.png',\n",
       " 'C107P68ThinF_IMG_20150924_222233_cell_161.png',\n",
       " 'C107P68ThinF_IMG_20150924_222233_cell_162.png',\n",
       " 'C107P68ThinF_IMG_20150924_222233_cell_163.png',\n",
       " 'C107P68ThinF_IMG_20150924_222415_cell_172.png',\n",
       " 'C107P68ThinF_IMG_20150924_222415_cell_173.png',\n",
       " 'C107P68ThinF_IMG_20150924_222415_cell_174.png',\n",
       " 'C107P68ThinF_IMG_20150924_222415_cell_175.png',\n",
       " 'C107P68ThinF_IMG_20150924_222415_cell_176.png',\n",
       " 'C107P68ThinF_IMG_20150924_222415_cell_177.png',\n",
       " 'C107P68ThinF_IMG_20150924_222415_cell_178.png',\n",
       " 'C107P68ThinF_IMG_20150924_222415_cell_179.png',\n",
       " 'C107P68ThinF_IMG_20150924_222415_cell_180.png',\n",
       " 'C107P68ThinF_IMG_20150924_222415_cell_181.png',\n",
       " 'C107P68ThinF_IMG_20150924_222415_cell_182.png',\n",
       " 'C107P68ThinF_IMG_20150924_222415_cell_183.png',\n",
       " 'C107P68ThinF_IMG_20150924_222535_cell_139.png',\n",
       " 'C107P68ThinF_IMG_20150924_222535_cell_140.png',\n",
       " 'C107P68ThinF_IMG_20150924_222535_cell_141.png',\n",
       " 'C107P68ThinF_IMG_20150924_222535_cell_142.png',\n",
       " 'C107P68ThinF_IMG_20150924_222535_cell_143.png',\n",
       " 'C107P68ThinF_IMG_20150924_222535_cell_144.png',\n",
       " 'C107P68ThinF_IMG_20150924_222535_cell_145.png',\n",
       " 'C107P68ThinF_IMG_20150924_222535_cell_146.png',\n",
       " 'C107P68ThinF_IMG_20150924_222535_cell_147.png',\n",
       " 'C107P68ThinF_IMG_20150924_222535_cell_148.png',\n",
       " 'C107P68ThinF_IMG_20150924_222630_cell_174.png',\n",
       " 'C107P68ThinF_IMG_20150924_222630_cell_175.png',\n",
       " 'C107P68ThinF_IMG_20150924_222630_cell_176.png',\n",
       " 'C107P68ThinF_IMG_20150924_222630_cell_177.png',\n",
       " 'C108P69ThinF_IMG_20150924_223834_cell_218.png',\n",
       " 'C108P69ThinF_IMG_20150924_223834_cell_219.png',\n",
       " 'C108P69ThinF_IMG_20150924_223834_cell_220.png',\n",
       " 'C108P69ThinF_IMG_20150924_223834_cell_221.png',\n",
       " 'C108P69ThinF_IMG_20150924_224038_cell_188.png',\n",
       " 'C108P69ThinF_IMG_20150924_224038_cell_189.png',\n",
       " 'C108P69ThinF_IMG_20150924_224038_cell_190.png',\n",
       " 'C108P69ThinF_IMG_20150924_224616_cell_195.png',\n",
       " 'C108P69ThinF_IMG_20150924_224616_cell_196.png',\n",
       " 'C108P69ThinF_IMG_20150924_224616_cell_197.png',\n",
       " 'C108P69ThinF_IMG_20150924_224616_cell_198.png',\n",
       " 'C108P69ThinF_IMG_20150924_224909_cell_226.png',\n",
       " 'C108P69ThinF_IMG_20150924_225004_cell_221.png',\n",
       " 'C108P69ThinF_IMG_20150924_225004_cell_222.png',\n",
       " 'C108P69ThinF_IMG_20150924_225004_cell_223.png',\n",
       " 'C108P69ThinF_IMG_20150924_225004_cell_224.png',\n",
       " 'C108P69ThinF_IMG_20150924_225004_cell_225.png',\n",
       " 'C108P69ThinF_IMG_20150924_225511_cell_182.png',\n",
       " 'C108P69ThinF_IMG_20150924_225511_cell_183.png',\n",
       " 'C108P69ThinF_IMG_20150924_225511_cell_184.png',\n",
       " 'C109P70ThinF_IMG_20150930_102716_cell_185.png',\n",
       " 'C109P70ThinF_IMG_20150930_102716_cell_186.png',\n",
       " 'C109P70ThinF_IMG_20150930_102716_cell_187.png',\n",
       " 'C109P70ThinF_IMG_20150930_102944_cell_171.png',\n",
       " 'C109P70ThinF_IMG_20150930_102944_cell_172.png',\n",
       " 'C109P70ThinF_IMG_20150930_103113_cell_160.png',\n",
       " 'C109P70ThinF_IMG_20150930_103113_cell_162.png',\n",
       " 'C109P70ThinF_IMG_20150930_103214_cell_182.png',\n",
       " 'C109P70ThinF_IMG_20150930_103214_cell_183.png',\n",
       " 'C109P70ThinF_IMG_20150930_103214_cell_184.png',\n",
       " 'C109P70ThinF_IMG_20150930_103214_cell_185.png',\n",
       " 'C109P70ThinF_IMG_20150930_103645_cell_172.png',\n",
       " 'C109P70ThinF_IMG_20150930_103645_cell_173.png',\n",
       " 'C109P70ThinF_IMG_20150930_103645_cell_174.png',\n",
       " 'C109P70ThinF_IMG_20150930_103645_cell_175.png',\n",
       " 'C109P70ThinF_IMG_20150930_103811_cell_157.png',\n",
       " 'C109P70ThinF_IMG_20150930_103811_cell_158.png',\n",
       " 'C110P71ThinF_IMG_20150930_105319_cell_185.png',\n",
       " 'C110P71ThinF_IMG_20150930_105319_cell_186.png',\n",
       " 'C110P71ThinF_IMG_20150930_105319_cell_187.png',\n",
       " 'C110P71ThinF_IMG_20150930_105319_cell_188.png',\n",
       " 'C110P71ThinF_IMG_20150930_105319_cell_189.png',\n",
       " 'C110P71ThinF_IMG_20150930_105319_cell_190.png',\n",
       " 'C110P71ThinF_IMG_20150930_105559_cell_199.png',\n",
       " 'C110P71ThinF_IMG_20150930_105559_cell_200.png',\n",
       " 'C110P71ThinF_IMG_20150930_105559_cell_201.png',\n",
       " 'C110P71ThinF_IMG_20150930_105559_cell_202.png',\n",
       " 'C110P71ThinF_IMG_20150930_105729_cell_207.png',\n",
       " 'C110P71ThinF_IMG_20150930_105925_cell_221.png',\n",
       " 'C110P71ThinF_IMG_20150930_110052_cell_238.png',\n",
       " 'C110P71ThinF_IMG_20150930_110052_cell_239.png',\n",
       " 'C110P71ThinF_IMG_20150930_110052_cell_240.png',\n",
       " 'C110P71ThinF_IMG_20150930_110052_cell_241.png',\n",
       " 'C110P71ThinF_IMG_20150930_110052_cell_242.png',\n",
       " 'C110P71ThinF_IMG_20150930_110052_cell_243.png',\n",
       " 'C110P71ThinF_IMG_20150930_110404_cell_157.png',\n",
       " 'C110P71ThinF_IMG_20150930_110404_cell_158.png',\n",
       " 'C110P71ThinF_IMG_20150930_110404_cell_159.png',\n",
       " 'C110P71ThinF_IMG_20150930_110404_cell_160.png',\n",
       " 'C111P72ThinF_IMG_20150930_112430_cell_191.png',\n",
       " 'C111P72ThinF_IMG_20150930_112430_cell_192.png',\n",
       " 'C111P72ThinF_IMG_20150930_112430_cell_193.png',\n",
       " 'C111P72ThinF_IMG_20150930_112609_cell_169.png',\n",
       " 'C111P72ThinF_IMG_20150930_112609_cell_170.png',\n",
       " 'C111P72ThinF_IMG_20150930_112827_cell_176.png',\n",
       " 'C111P72ThinF_IMG_20150930_112827_cell_177.png',\n",
       " 'C111P72ThinF_IMG_20150930_112827_cell_178.png',\n",
       " 'C111P72ThinF_IMG_20150930_112827_cell_179.png',\n",
       " 'C111P72ThinF_IMG_20150930_113003_cell_182.png',\n",
       " 'C111P72ThinF_IMG_20150930_113049_cell_162.png',\n",
       " 'C111P72ThinF_IMG_20150930_113049_cell_163.png',\n",
       " 'C111P72ThinF_IMG_20150930_113049_cell_164.png',\n",
       " 'C111P72ThinF_IMG_20150930_113049_cell_165.png',\n",
       " 'C111P72ThinF_IMG_20150930_113049_cell_166.png',\n",
       " 'C111P72ThinF_IMG_20150930_113210_cell_171.png',\n",
       " 'C111P72ThinF_IMG_20150930_113610_cell_202.png',\n",
       " 'C111P72ThinF_IMG_20150930_113610_cell_203.png',\n",
       " 'C112P73ThinF_IMG_20150930_131254_cell_184.png',\n",
       " 'C112P73ThinF_IMG_20150930_131401_cell_165.png',\n",
       " 'C112P73ThinF_IMG_20150930_131401_cell_166.png',\n",
       " 'C112P73ThinF_IMG_20150930_131401_cell_167.png',\n",
       " 'C112P73ThinF_IMG_20150930_131401_cell_168.png',\n",
       " 'C112P73ThinF_IMG_20150930_131516_cell_177.png',\n",
       " 'C112P73ThinF_IMG_20150930_131516_cell_178.png',\n",
       " 'C112P73ThinF_IMG_20150930_131605_cell_181.png',\n",
       " 'C112P73ThinF_IMG_20150930_131605_cell_182.png',\n",
       " 'C112P73ThinF_IMG_20150930_131605_cell_183.png',\n",
       " 'C112P73ThinF_IMG_20150930_131659_cell_193.png',\n",
       " 'C112P73ThinF_IMG_20150930_131753_cell_167.png',\n",
       " 'C112P73ThinF_IMG_20150930_131900_cell_174.png',\n",
       " 'C112P73ThinF_IMG_20150930_131900_cell_175.png',\n",
       " 'C113P74ThinF_IMG_20150930_134355_cell_165.png',\n",
       " 'C113P74ThinF_IMG_20150930_134355_cell_166.png',\n",
       " 'C113P74ThinF_IMG_20150930_134355_cell_167.png',\n",
       " 'C113P74ThinF_IMG_20150930_134355_cell_168.png',\n",
       " 'C113P74ThinF_IMG_20150930_134355_cell_169.png',\n",
       " 'C113P74ThinF_IMG_20150930_134355_cell_170.png',\n",
       " 'C113P74ThinF_IMG_20150930_134355_cell_171.png',\n",
       " 'C113P74ThinF_IMG_20150930_134429_cell_176.png',\n",
       " 'C113P74ThinF_IMG_20150930_134429_cell_177.png',\n",
       " 'C113P74ThinF_IMG_20150930_134429_cell_178.png',\n",
       " 'C113P74ThinF_IMG_20150930_134429_cell_179.png',\n",
       " 'C113P74ThinF_IMG_20150930_134429_cell_180.png',\n",
       " 'C113P74ThinF_IMG_20150930_134429_cell_181.png',\n",
       " 'C113P74ThinF_IMG_20150930_134429_cell_182.png',\n",
       " 'C113P74ThinF_IMG_20150930_134429_cell_183.png',\n",
       " 'C113P74ThinF_IMG_20150930_134429_cell_184.png',\n",
       " 'C113P74ThinF_IMG_20150930_134614_cell_169.png',\n",
       " 'C113P74ThinF_IMG_20150930_134614_cell_170.png',\n",
       " 'C113P74ThinF_IMG_20150930_134614_cell_171.png',\n",
       " 'C113P74ThinF_IMG_20150930_134614_cell_174.png',\n",
       " 'C113P74ThinF_IMG_20150930_134614_cell_175.png',\n",
       " 'C113P74ThinF_IMG_20150930_134614_cell_176.png',\n",
       " 'C113P74ThinF_IMG_20150930_134751_cell_173.png',\n",
       " 'C113P74ThinF_IMG_20150930_134751_cell_174.png',\n",
       " 'C113P74ThinF_IMG_20150930_134751_cell_176.png',\n",
       " 'C113P74ThinF_IMG_20150930_134751_cell_177.png',\n",
       " 'C113P74ThinF_IMG_20150930_134751_cell_179.png',\n",
       " 'C113P74ThinF_IMG_20150930_134751_cell_180.png',\n",
       " 'C113P74ThinF_IMG_20150930_134751_cell_181.png',\n",
       " 'C113P74ThinF_IMG_20150930_134949_cell_158.png',\n",
       " 'C113P74ThinF_IMG_20150930_134949_cell_159.png',\n",
       " 'C113P74ThinF_IMG_20150930_134949_cell_160.png',\n",
       " 'C113P74ThinF_IMG_20150930_134949_cell_162.png',\n",
       " 'C113P74ThinF_IMG_20150930_135904_cell_180.png',\n",
       " 'C113P74ThinF_IMG_20150930_135904_cell_181.png',\n",
       " 'C113P74ThinF_IMG_20150930_135904_cell_182.png',\n",
       " 'C113P74ThinF_IMG_20150930_135904_cell_183.png',\n",
       " 'C113P74ThinF_IMG_20150930_135904_cell_184.png',\n",
       " 'C113P74ThinF_IMG_20150930_135904_cell_185.png',\n",
       " 'C113P74ThinF_IMG_20150930_135904_cell_187.png',\n",
       " 'C113P74ThinF_IMG_20150930_135904_cell_188.png',\n",
       " 'C113P74ThinF_IMG_20150930_135904_cell_189.png',\n",
       " 'C113P74ThinF_IMG_20150930_140646_cell_181.png',\n",
       " 'C113P74ThinF_IMG_20150930_140646_cell_182.png',\n",
       " 'C113P74ThinF_IMG_20150930_140646_cell_183.png',\n",
       " 'C113P74ThinF_IMG_20150930_140646_cell_184.png',\n",
       " 'C113P74ThinF_IMG_20150930_140646_cell_185.png',\n",
       " 'C113P74ThinF_IMG_20150930_140646_cell_186.png',\n",
       " 'C113P74ThinF_IMG_20150930_140646_cell_187.png',\n",
       " 'C113P74ThinF_IMG_20150930_140646_cell_188.png',\n",
       " 'C113P74ThinF_IMG_20150930_140646_cell_190.png',\n",
       " 'C114P75ThinF_IMG_20150930_150013_cell_195.png',\n",
       " 'C114P75ThinF_IMG_20150930_150013_cell_196.png',\n",
       " 'C114P75ThinF_IMG_20150930_150057_cell_172.png',\n",
       " 'C114P75ThinF_IMG_20150930_150145_cell_159.png',\n",
       " 'C114P75ThinF_IMG_20150930_150145_cell_160.png',\n",
       " 'C114P75ThinF_IMG_20150930_150555_cell_145.png',\n",
       " 'C114P75ThinF_IMG_20150930_150733_cell_149.png',\n",
       " 'C114P75ThinF_IMG_20150930_150733_cell_150.png',\n",
       " 'C114P75ThinF_IMG_20150930_150833_cell_164.png',\n",
       " 'C114P75ThinF_IMG_20150930_150833_cell_165.png',\n",
       " 'C114P75ThinF_IMG_20150930_151150_cell_177.png',\n",
       " 'C114P75ThinF_IMG_20150930_151150_cell_178.png',\n",
       " 'C114P75ThinF_IMG_20150930_151150_cell_179.png',\n",
       " 'C115P76ThinF_IMG_20150930_161825_cell_219.png',\n",
       " 'C115P76ThinF_IMG_20150930_161825_cell_221.png',\n",
       " 'C115P76ThinF_IMG_20150930_162038_cell_206.png',\n",
       " 'C115P76ThinF_IMG_20150930_162038_cell_207.png',\n",
       " 'C115P76ThinF_IMG_20150930_162038_cell_208.png',\n",
       " 'C115P76ThinF_IMG_20150930_162038_cell_209.png',\n",
       " 'C115P76ThinF_IMG_20150930_162038_cell_210.png',\n",
       " 'C115P76ThinF_IMG_20150930_162315_cell_256.png',\n",
       " 'C115P76ThinF_IMG_20150930_162315_cell_257.png',\n",
       " 'C115P76ThinF_IMG_20150930_163018_cell_252.png',\n",
       " 'C115P76ThinF_IMG_20150930_163156_cell_242.png',\n",
       " 'C115P76ThinF_IMG_20150930_163156_cell_243.png',\n",
       " 'C116P77ThinF_IMG_20150930_171219_cell_100.png',\n",
       " 'C116P77ThinF_IMG_20150930_171219_cell_101.png',\n",
       " 'C116P77ThinF_IMG_20150930_171219_cell_102.png',\n",
       " 'C116P77ThinF_IMG_20150930_171219_cell_104.png',\n",
       " 'C116P77ThinF_IMG_20150930_171219_cell_105.png',\n",
       " 'C116P77ThinF_IMG_20150930_171219_cell_106.png',\n",
       " 'C116P77ThinF_IMG_20150930_171219_cell_107.png',\n",
       " 'C116P77ThinF_IMG_20150930_171219_cell_109.png',\n",
       " 'C116P77ThinF_IMG_20150930_171219_cell_110.png',\n",
       " 'C116P77ThinF_IMG_20150930_171219_cell_111.png',\n",
       " 'C116P77ThinF_IMG_20150930_171219_cell_114.png',\n",
       " 'C116P77ThinF_IMG_20150930_171219_cell_76.png',\n",
       " 'C116P77ThinF_IMG_20150930_171219_cell_78.png',\n",
       " 'C116P77ThinF_IMG_20150930_171219_cell_79.png',\n",
       " 'C116P77ThinF_IMG_20150930_171219_cell_80.png',\n",
       " 'C116P77ThinF_IMG_20150930_171219_cell_81.png',\n",
       " 'C116P77ThinF_IMG_20150930_171219_cell_82.png',\n",
       " 'C116P77ThinF_IMG_20150930_171219_cell_83.png',\n",
       " 'C116P77ThinF_IMG_20150930_171219_cell_84.png',\n",
       " 'C116P77ThinF_IMG_20150930_171219_cell_85.png',\n",
       " 'C116P77ThinF_IMG_20150930_171219_cell_86.png',\n",
       " 'C116P77ThinF_IMG_20150930_171219_cell_87.png',\n",
       " 'C116P77ThinF_IMG_20150930_171219_cell_89.png',\n",
       " 'C116P77ThinF_IMG_20150930_171219_cell_90.png',\n",
       " 'C116P77ThinF_IMG_20150930_171219_cell_91.png',\n",
       " 'C116P77ThinF_IMG_20150930_171219_cell_92.png',\n",
       " 'C116P77ThinF_IMG_20150930_171219_cell_93.png',\n",
       " 'C116P77ThinF_IMG_20150930_171219_cell_94.png',\n",
       " 'C116P77ThinF_IMG_20150930_171219_cell_95.png',\n",
       " 'C116P77ThinF_IMG_20150930_171219_cell_96.png',\n",
       " 'C116P77ThinF_IMG_20150930_171219_cell_97.png',\n",
       " 'C116P77ThinF_IMG_20150930_171219_cell_98.png',\n",
       " 'C116P77ThinF_IMG_20150930_171219_cell_99.png',\n",
       " 'C116P77ThinF_IMG_20150930_171448_cell_100.png',\n",
       " 'C116P77ThinF_IMG_20150930_171448_cell_101.png',\n",
       " 'C116P77ThinF_IMG_20150930_171448_cell_102.png',\n",
       " 'C116P77ThinF_IMG_20150930_171448_cell_103.png',\n",
       " 'C116P77ThinF_IMG_20150930_171448_cell_104.png',\n",
       " 'C116P77ThinF_IMG_20150930_171448_cell_105.png',\n",
       " 'C116P77ThinF_IMG_20150930_171448_cell_106.png',\n",
       " 'C116P77ThinF_IMG_20150930_171448_cell_107.png',\n",
       " 'C116P77ThinF_IMG_20150930_171448_cell_108.png',\n",
       " 'C116P77ThinF_IMG_20150930_171448_cell_109.png',\n",
       " 'C116P77ThinF_IMG_20150930_171448_cell_110.png',\n",
       " 'C116P77ThinF_IMG_20150930_171448_cell_111.png',\n",
       " 'C116P77ThinF_IMG_20150930_171448_cell_112.png',\n",
       " 'C116P77ThinF_IMG_20150930_171448_cell_113.png',\n",
       " 'C116P77ThinF_IMG_20150930_171448_cell_115.png',\n",
       " 'C116P77ThinF_IMG_20150930_171448_cell_116.png',\n",
       " 'C116P77ThinF_IMG_20150930_171448_cell_117.png',\n",
       " 'C116P77ThinF_IMG_20150930_171448_cell_118.png',\n",
       " 'C116P77ThinF_IMG_20150930_171448_cell_119.png',\n",
       " 'C116P77ThinF_IMG_20150930_171448_cell_120.png',\n",
       " 'C116P77ThinF_IMG_20150930_171448_cell_121.png',\n",
       " 'C116P77ThinF_IMG_20150930_171448_cell_122.png',\n",
       " 'C116P77ThinF_IMG_20150930_171448_cell_123.png',\n",
       " 'C116P77ThinF_IMG_20150930_171448_cell_124.png',\n",
       " 'C116P77ThinF_IMG_20150930_171448_cell_125.png',\n",
       " 'C116P77ThinF_IMG_20150930_171448_cell_126.png',\n",
       " 'C116P77ThinF_IMG_20150930_171448_cell_127.png',\n",
       " 'C116P77ThinF_IMG_20150930_171448_cell_129.png',\n",
       " 'C116P77ThinF_IMG_20150930_171448_cell_130.png',\n",
       " 'C116P77ThinF_IMG_20150930_171448_cell_131.png',\n",
       " 'C116P77ThinF_IMG_20150930_171448_cell_132.png',\n",
       " 'C116P77ThinF_IMG_20150930_171448_cell_83.png',\n",
       " 'C116P77ThinF_IMG_20150930_171448_cell_84.png',\n",
       " 'C116P77ThinF_IMG_20150930_171448_cell_86.png',\n",
       " 'C116P77ThinF_IMG_20150930_171448_cell_89.png',\n",
       " 'C116P77ThinF_IMG_20150930_171448_cell_90.png',\n",
       " 'C116P77ThinF_IMG_20150930_171448_cell_91.png',\n",
       " 'C116P77ThinF_IMG_20150930_171448_cell_92.png',\n",
       " 'C116P77ThinF_IMG_20150930_171448_cell_93.png',\n",
       " 'C116P77ThinF_IMG_20150930_171448_cell_94.png',\n",
       " 'C116P77ThinF_IMG_20150930_171448_cell_95.png',\n",
       " 'C116P77ThinF_IMG_20150930_171448_cell_96.png',\n",
       " 'C116P77ThinF_IMG_20150930_171448_cell_97.png',\n",
       " 'C116P77ThinF_IMG_20150930_171448_cell_98.png',\n",
       " 'C116P77ThinF_IMG_20150930_171448_cell_99.png',\n",
       " 'C116P77ThinF_IMG_20150930_171558_cell_101.png',\n",
       " 'C116P77ThinF_IMG_20150930_171558_cell_102.png',\n",
       " 'C116P77ThinF_IMG_20150930_171558_cell_104.png',\n",
       " 'C116P77ThinF_IMG_20150930_171558_cell_105.png',\n",
       " 'C116P77ThinF_IMG_20150930_171558_cell_106.png',\n",
       " 'C116P77ThinF_IMG_20150930_171558_cell_107.png',\n",
       " 'C116P77ThinF_IMG_20150930_171558_cell_108.png',\n",
       " 'C116P77ThinF_IMG_20150930_171558_cell_109.png',\n",
       " 'C116P77ThinF_IMG_20150930_171558_cell_110.png',\n",
       " 'C116P77ThinF_IMG_20150930_171558_cell_111.png',\n",
       " 'C116P77ThinF_IMG_20150930_171558_cell_112.png',\n",
       " 'C116P77ThinF_IMG_20150930_171558_cell_115.png',\n",
       " 'C116P77ThinF_IMG_20150930_171558_cell_116.png',\n",
       " 'C116P77ThinF_IMG_20150930_171558_cell_117.png',\n",
       " 'C116P77ThinF_IMG_20150930_171558_cell_118.png',\n",
       " 'C116P77ThinF_IMG_20150930_171558_cell_119.png',\n",
       " 'C116P77ThinF_IMG_20150930_171558_cell_120.png',\n",
       " 'C116P77ThinF_IMG_20150930_171558_cell_121.png',\n",
       " 'C116P77ThinF_IMG_20150930_171558_cell_122.png',\n",
       " 'C116P77ThinF_IMG_20150930_171558_cell_123.png',\n",
       " 'C116P77ThinF_IMG_20150930_171558_cell_126.png',\n",
       " 'C116P77ThinF_IMG_20150930_171558_cell_128.png',\n",
       " 'C116P77ThinF_IMG_20150930_171558_cell_129.png',\n",
       " 'C116P77ThinF_IMG_20150930_171558_cell_130.png',\n",
       " 'C116P77ThinF_IMG_20150930_171558_cell_132.png',\n",
       " 'C116P77ThinF_IMG_20150930_171558_cell_133.png',\n",
       " 'C116P77ThinF_IMG_20150930_171558_cell_134.png',\n",
       " 'C116P77ThinF_IMG_20150930_171558_cell_135.png',\n",
       " 'C116P77ThinF_IMG_20150930_171558_cell_136.png',\n",
       " 'C116P77ThinF_IMG_20150930_171558_cell_137.png',\n",
       " 'C116P77ThinF_IMG_20150930_171558_cell_138.png',\n",
       " 'C116P77ThinF_IMG_20150930_171558_cell_139.png',\n",
       " 'C116P77ThinF_IMG_20150930_171558_cell_140.png',\n",
       " 'C116P77ThinF_IMG_20150930_171558_cell_141.png',\n",
       " 'C116P77ThinF_IMG_20150930_171558_cell_142.png',\n",
       " 'C116P77ThinF_IMG_20150930_171558_cell_144.png',\n",
       " 'C116P77ThinF_IMG_20150930_171558_cell_145.png',\n",
       " 'C116P77ThinF_IMG_20150930_171558_cell_146.png',\n",
       " 'C116P77ThinF_IMG_20150930_171558_cell_147.png',\n",
       " 'C116P77ThinF_IMG_20150930_171558_cell_148.png',\n",
       " 'C116P77ThinF_IMG_20150930_171558_cell_150.png',\n",
       " 'C116P77ThinF_IMG_20150930_171558_cell_151.png',\n",
       " 'C116P77ThinF_IMG_20150930_171558_cell_89.png',\n",
       " 'C116P77ThinF_IMG_20150930_171558_cell_90.png',\n",
       " 'C116P77ThinF_IMG_20150930_171558_cell_91.png',\n",
       " 'C116P77ThinF_IMG_20150930_171558_cell_92.png',\n",
       " 'C116P77ThinF_IMG_20150930_171558_cell_93.png',\n",
       " 'C116P77ThinF_IMG_20150930_171558_cell_95.png',\n",
       " 'C116P77ThinF_IMG_20150930_171558_cell_96.png',\n",
       " 'C116P77ThinF_IMG_20150930_171558_cell_97.png',\n",
       " 'C116P77ThinF_IMG_20150930_171558_cell_98.png',\n",
       " 'C116P77ThinF_IMG_20150930_171635_cell_100.png',\n",
       " 'C116P77ThinF_IMG_20150930_171635_cell_101.png',\n",
       " 'C116P77ThinF_IMG_20150930_171635_cell_102.png',\n",
       " 'C116P77ThinF_IMG_20150930_171635_cell_103.png',\n",
       " 'C116P77ThinF_IMG_20150930_171635_cell_105.png',\n",
       " 'C116P77ThinF_IMG_20150930_171635_cell_106.png',\n",
       " 'C116P77ThinF_IMG_20150930_171635_cell_107.png',\n",
       " 'C116P77ThinF_IMG_20150930_171635_cell_108.png',\n",
       " 'C116P77ThinF_IMG_20150930_171635_cell_109.png',\n",
       " 'C116P77ThinF_IMG_20150930_171635_cell_110.png',\n",
       " 'C116P77ThinF_IMG_20150930_171635_cell_111.png',\n",
       " 'C116P77ThinF_IMG_20150930_171635_cell_112.png',\n",
       " 'C116P77ThinF_IMG_20150930_171635_cell_113.png',\n",
       " 'C116P77ThinF_IMG_20150930_171635_cell_114.png',\n",
       " 'C116P77ThinF_IMG_20150930_171635_cell_115.png',\n",
       " 'C116P77ThinF_IMG_20150930_171635_cell_70.png',\n",
       " 'C116P77ThinF_IMG_20150930_171635_cell_71.png',\n",
       " 'C116P77ThinF_IMG_20150930_171635_cell_72.png',\n",
       " 'C116P77ThinF_IMG_20150930_171635_cell_73.png',\n",
       " 'C116P77ThinF_IMG_20150930_171635_cell_74.png',\n",
       " 'C116P77ThinF_IMG_20150930_171635_cell_75.png',\n",
       " 'C116P77ThinF_IMG_20150930_171635_cell_76.png',\n",
       " 'C116P77ThinF_IMG_20150930_171635_cell_77.png',\n",
       " 'C116P77ThinF_IMG_20150930_171635_cell_78.png',\n",
       " 'C116P77ThinF_IMG_20150930_171635_cell_79.png',\n",
       " 'C116P77ThinF_IMG_20150930_171635_cell_80.png',\n",
       " 'C116P77ThinF_IMG_20150930_171635_cell_81.png',\n",
       " 'C116P77ThinF_IMG_20150930_171635_cell_83.png',\n",
       " 'C116P77ThinF_IMG_20150930_171635_cell_84.png',\n",
       " 'C116P77ThinF_IMG_20150930_171635_cell_85.png',\n",
       " 'C116P77ThinF_IMG_20150930_171635_cell_86.png',\n",
       " 'C116P77ThinF_IMG_20150930_171635_cell_87.png',\n",
       " 'C116P77ThinF_IMG_20150930_171635_cell_89.png',\n",
       " 'C116P77ThinF_IMG_20150930_171635_cell_90.png',\n",
       " 'C116P77ThinF_IMG_20150930_171635_cell_91.png',\n",
       " 'C116P77ThinF_IMG_20150930_171635_cell_92.png',\n",
       " 'C116P77ThinF_IMG_20150930_171635_cell_93.png',\n",
       " 'C116P77ThinF_IMG_20150930_171635_cell_94.png',\n",
       " 'C116P77ThinF_IMG_20150930_171635_cell_95.png',\n",
       " 'C116P77ThinF_IMG_20150930_171635_cell_96.png',\n",
       " 'C116P77ThinF_IMG_20150930_171635_cell_97.png',\n",
       " 'C116P77ThinF_IMG_20150930_171635_cell_98.png',\n",
       " 'C116P77ThinF_IMG_20150930_171635_cell_99.png',\n",
       " 'C116P77ThinF_IMG_20150930_171739_cell_100.png',\n",
       " 'C116P77ThinF_IMG_20150930_171739_cell_101.png',\n",
       " 'C116P77ThinF_IMG_20150930_171739_cell_102.png',\n",
       " 'C116P77ThinF_IMG_20150930_171739_cell_103.png',\n",
       " 'C116P77ThinF_IMG_20150930_171739_cell_104.png',\n",
       " 'C116P77ThinF_IMG_20150930_171739_cell_105.png',\n",
       " 'C116P77ThinF_IMG_20150930_171739_cell_106.png',\n",
       " 'C116P77ThinF_IMG_20150930_171739_cell_107.png',\n",
       " 'C116P77ThinF_IMG_20150930_171739_cell_108.png',\n",
       " 'C116P77ThinF_IMG_20150930_171739_cell_111.png',\n",
       " 'C116P77ThinF_IMG_20150930_171739_cell_112.png',\n",
       " 'C116P77ThinF_IMG_20150930_171739_cell_113.png',\n",
       " 'C116P77ThinF_IMG_20150930_171739_cell_114.png',\n",
       " 'C116P77ThinF_IMG_20150930_171739_cell_115.png',\n",
       " 'C116P77ThinF_IMG_20150930_171739_cell_116.png',\n",
       " 'C116P77ThinF_IMG_20150930_171739_cell_117.png',\n",
       " 'C116P77ThinF_IMG_20150930_171739_cell_118.png',\n",
       " 'C116P77ThinF_IMG_20150930_171739_cell_75.png',\n",
       " 'C116P77ThinF_IMG_20150930_171739_cell_76.png',\n",
       " 'C116P77ThinF_IMG_20150930_171739_cell_77.png',\n",
       " 'C116P77ThinF_IMG_20150930_171739_cell_78.png',\n",
       " 'C116P77ThinF_IMG_20150930_171739_cell_80.png',\n",
       " 'C116P77ThinF_IMG_20150930_171739_cell_81.png',\n",
       " 'C116P77ThinF_IMG_20150930_171739_cell_82.png',\n",
       " 'C116P77ThinF_IMG_20150930_171739_cell_84.png',\n",
       " 'C116P77ThinF_IMG_20150930_171739_cell_86.png',\n",
       " 'C116P77ThinF_IMG_20150930_171739_cell_87.png',\n",
       " 'C116P77ThinF_IMG_20150930_171739_cell_88.png',\n",
       " 'C116P77ThinF_IMG_20150930_171739_cell_90.png',\n",
       " 'C116P77ThinF_IMG_20150930_171739_cell_91.png',\n",
       " 'C116P77ThinF_IMG_20150930_171739_cell_92.png',\n",
       " 'C116P77ThinF_IMG_20150930_171739_cell_93.png',\n",
       " 'C116P77ThinF_IMG_20150930_171739_cell_94.png',\n",
       " 'C116P77ThinF_IMG_20150930_171739_cell_95.png',\n",
       " 'C116P77ThinF_IMG_20150930_171739_cell_96.png',\n",
       " 'C116P77ThinF_IMG_20150930_171739_cell_97.png',\n",
       " 'C116P77ThinF_IMG_20150930_171739_cell_98.png',\n",
       " 'C116P77ThinF_IMG_20150930_171739_cell_99.png',\n",
       " 'C116P77ThinF_IMG_20150930_171809_cell_58.png',\n",
       " 'C116P77ThinF_IMG_20150930_171809_cell_59.png',\n",
       " 'C116P77ThinF_IMG_20150930_171809_cell_60.png',\n",
       " 'C116P77ThinF_IMG_20150930_171809_cell_61.png',\n",
       " 'C116P77ThinF_IMG_20150930_171809_cell_62.png',\n",
       " 'C116P77ThinF_IMG_20150930_171809_cell_64.png',\n",
       " 'C116P77ThinF_IMG_20150930_171809_cell_65.png',\n",
       " 'C116P77ThinF_IMG_20150930_171809_cell_66.png',\n",
       " 'C116P77ThinF_IMG_20150930_171809_cell_67.png',\n",
       " 'C116P77ThinF_IMG_20150930_171809_cell_68.png',\n",
       " 'C116P77ThinF_IMG_20150930_171809_cell_69.png',\n",
       " 'C116P77ThinF_IMG_20150930_171809_cell_70.png',\n",
       " 'C116P77ThinF_IMG_20150930_171809_cell_71.png',\n",
       " 'C116P77ThinF_IMG_20150930_171809_cell_72.png',\n",
       " 'C116P77ThinF_IMG_20150930_171809_cell_73.png',\n",
       " 'C116P77ThinF_IMG_20150930_171809_cell_74.png',\n",
       " 'C116P77ThinF_IMG_20150930_171809_cell_75.png',\n",
       " 'C116P77ThinF_IMG_20150930_171809_cell_76.png',\n",
       " 'C116P77ThinF_IMG_20150930_171809_cell_77.png',\n",
       " 'C116P77ThinF_IMG_20150930_171809_cell_78.png',\n",
       " 'C116P77ThinF_IMG_20150930_171809_cell_79.png',\n",
       " 'C116P77ThinF_IMG_20150930_171809_cell_80.png',\n",
       " 'C116P77ThinF_IMG_20150930_171809_cell_81.png',\n",
       " 'C116P77ThinF_IMG_20150930_171809_cell_82.png',\n",
       " 'C116P77ThinF_IMG_20150930_171809_cell_83.png',\n",
       " 'C116P77ThinF_IMG_20150930_171809_cell_84.png',\n",
       " 'C116P77ThinF_IMG_20150930_171809_cell_85.png',\n",
       " 'C116P77ThinF_IMG_20150930_171809_cell_86.png',\n",
       " 'C116P77ThinF_IMG_20150930_171809_cell_87.png',\n",
       " 'C116P77ThinF_IMG_20150930_171844_cell_100.png',\n",
       " 'C116P77ThinF_IMG_20150930_171844_cell_101.png',\n",
       " 'C116P77ThinF_IMG_20150930_171844_cell_102.png',\n",
       " 'C116P77ThinF_IMG_20150930_171844_cell_103.png',\n",
       " 'C116P77ThinF_IMG_20150930_171844_cell_104.png',\n",
       " 'C116P77ThinF_IMG_20150930_171844_cell_105.png',\n",
       " 'C116P77ThinF_IMG_20150930_171844_cell_106.png',\n",
       " 'C116P77ThinF_IMG_20150930_171844_cell_107.png',\n",
       " 'C116P77ThinF_IMG_20150930_171844_cell_108.png',\n",
       " 'C116P77ThinF_IMG_20150930_171844_cell_109.png',\n",
       " 'C116P77ThinF_IMG_20150930_171844_cell_110.png',\n",
       " 'C116P77ThinF_IMG_20150930_171844_cell_111.png',\n",
       " 'C116P77ThinF_IMG_20150930_171844_cell_112.png',\n",
       " 'C116P77ThinF_IMG_20150930_171844_cell_113.png',\n",
       " 'C116P77ThinF_IMG_20150930_171844_cell_114.png',\n",
       " 'C116P77ThinF_IMG_20150930_171844_cell_115.png',\n",
       " 'C116P77ThinF_IMG_20150930_171844_cell_116.png',\n",
       " 'C116P77ThinF_IMG_20150930_171844_cell_117.png',\n",
       " 'C116P77ThinF_IMG_20150930_171844_cell_118.png',\n",
       " 'C116P77ThinF_IMG_20150930_171844_cell_119.png',\n",
       " 'C116P77ThinF_IMG_20150930_171844_cell_120.png',\n",
       " 'C116P77ThinF_IMG_20150930_171844_cell_121.png',\n",
       " 'C116P77ThinF_IMG_20150930_171844_cell_122.png',\n",
       " 'C116P77ThinF_IMG_20150930_171844_cell_123.png',\n",
       " 'C116P77ThinF_IMG_20150930_171844_cell_124.png',\n",
       " 'C116P77ThinF_IMG_20150930_171844_cell_126.png',\n",
       " 'C116P77ThinF_IMG_20150930_171844_cell_127.png',\n",
       " 'C116P77ThinF_IMG_20150930_171844_cell_128.png',\n",
       " 'C116P77ThinF_IMG_20150930_171844_cell_82.png',\n",
       " 'C116P77ThinF_IMG_20150930_171844_cell_83.png',\n",
       " 'C116P77ThinF_IMG_20150930_171844_cell_84.png',\n",
       " 'C116P77ThinF_IMG_20150930_171844_cell_85.png',\n",
       " 'C116P77ThinF_IMG_20150930_171844_cell_86.png',\n",
       " 'C116P77ThinF_IMG_20150930_171844_cell_87.png',\n",
       " 'C116P77ThinF_IMG_20150930_171844_cell_88.png',\n",
       " 'C116P77ThinF_IMG_20150930_171844_cell_89.png',\n",
       " 'C116P77ThinF_IMG_20150930_171844_cell_90.png',\n",
       " 'C116P77ThinF_IMG_20150930_171844_cell_91.png',\n",
       " 'C116P77ThinF_IMG_20150930_171844_cell_93.png',\n",
       " 'C116P77ThinF_IMG_20150930_171844_cell_94.png',\n",
       " 'C116P77ThinF_IMG_20150930_171844_cell_95.png',\n",
       " 'C116P77ThinF_IMG_20150930_171844_cell_96.png',\n",
       " 'C116P77ThinF_IMG_20150930_171844_cell_97.png',\n",
       " 'C116P77ThinF_IMG_20150930_171844_cell_98.png',\n",
       " 'C116P77ThinF_IMG_20150930_171844_cell_99.png',\n",
       " 'C116P77ThinF_IMG_20150930_171954_cell_100.png',\n",
       " 'C116P77ThinF_IMG_20150930_171954_cell_101.png',\n",
       " 'C116P77ThinF_IMG_20150930_171954_cell_102.png',\n",
       " 'C116P77ThinF_IMG_20150930_171954_cell_103.png',\n",
       " 'C116P77ThinF_IMG_20150930_171954_cell_104.png',\n",
       " 'C116P77ThinF_IMG_20150930_171954_cell_105.png',\n",
       " 'C116P77ThinF_IMG_20150930_171954_cell_107.png',\n",
       " 'C116P77ThinF_IMG_20150930_171954_cell_108.png',\n",
       " 'C116P77ThinF_IMG_20150930_171954_cell_109.png',\n",
       " 'C116P77ThinF_IMG_20150930_171954_cell_111.png',\n",
       " 'C116P77ThinF_IMG_20150930_171954_cell_112.png',\n",
       " 'C116P77ThinF_IMG_20150930_171954_cell_113.png',\n",
       " 'C116P77ThinF_IMG_20150930_171954_cell_115.png',\n",
       " 'C116P77ThinF_IMG_20150930_171954_cell_73.png',\n",
       " 'C116P77ThinF_IMG_20150930_171954_cell_74.png',\n",
       " 'C116P77ThinF_IMG_20150930_171954_cell_75.png',\n",
       " 'C116P77ThinF_IMG_20150930_171954_cell_76.png',\n",
       " 'C116P77ThinF_IMG_20150930_171954_cell_77.png',\n",
       " 'C116P77ThinF_IMG_20150930_171954_cell_78.png',\n",
       " 'C116P77ThinF_IMG_20150930_171954_cell_79.png',\n",
       " 'C116P77ThinF_IMG_20150930_171954_cell_80.png',\n",
       " 'C116P77ThinF_IMG_20150930_171954_cell_81.png',\n",
       " 'C116P77ThinF_IMG_20150930_171954_cell_82.png',\n",
       " 'C116P77ThinF_IMG_20150930_171954_cell_83.png',\n",
       " 'C116P77ThinF_IMG_20150930_171954_cell_84.png',\n",
       " 'C116P77ThinF_IMG_20150930_171954_cell_85.png',\n",
       " 'C116P77ThinF_IMG_20150930_171954_cell_86.png',\n",
       " 'C116P77ThinF_IMG_20150930_171954_cell_87.png',\n",
       " 'C116P77ThinF_IMG_20150930_171954_cell_88.png',\n",
       " 'C116P77ThinF_IMG_20150930_171954_cell_90.png',\n",
       " 'C116P77ThinF_IMG_20150930_171954_cell_91.png',\n",
       " 'C116P77ThinF_IMG_20150930_171954_cell_92.png',\n",
       " 'C116P77ThinF_IMG_20150930_171954_cell_93.png',\n",
       " 'C116P77ThinF_IMG_20150930_171954_cell_94.png',\n",
       " 'C116P77ThinF_IMG_20150930_171954_cell_95.png',\n",
       " 'C116P77ThinF_IMG_20150930_171954_cell_96.png',\n",
       " 'C116P77ThinF_IMG_20150930_171954_cell_97.png',\n",
       " 'C116P77ThinF_IMG_20150930_171954_cell_98.png',\n",
       " 'C116P77ThinF_IMG_20150930_171954_cell_99.png',\n",
       " 'C116P77ThinF_IMG_20150930_172112_cell_100.png',\n",
       " 'C116P77ThinF_IMG_20150930_172112_cell_101.png',\n",
       " 'C116P77ThinF_IMG_20150930_172112_cell_102.png',\n",
       " 'C116P77ThinF_IMG_20150930_172112_cell_103.png',\n",
       " 'C116P77ThinF_IMG_20150930_172112_cell_104.png',\n",
       " 'C116P77ThinF_IMG_20150930_172112_cell_105.png',\n",
       " 'C116P77ThinF_IMG_20150930_172112_cell_106.png',\n",
       " 'C116P77ThinF_IMG_20150930_172112_cell_107.png',\n",
       " 'C116P77ThinF_IMG_20150930_172112_cell_109.png',\n",
       " 'C116P77ThinF_IMG_20150930_172112_cell_111.png',\n",
       " 'C116P77ThinF_IMG_20150930_172112_cell_112.png',\n",
       " 'C116P77ThinF_IMG_20150930_172112_cell_113.png',\n",
       " 'C116P77ThinF_IMG_20150930_172112_cell_114.png',\n",
       " 'C116P77ThinF_IMG_20150930_172112_cell_115.png',\n",
       " 'C116P77ThinF_IMG_20150930_172112_cell_65.png',\n",
       " 'C116P77ThinF_IMG_20150930_172112_cell_66.png',\n",
       " 'C116P77ThinF_IMG_20150930_172112_cell_67.png',\n",
       " 'C116P77ThinF_IMG_20150930_172112_cell_68.png',\n",
       " ...]"
      ]
     },
     "execution_count": 8,
     "metadata": {},
     "output_type": "execute_result"
    }
   ],
   "source": [
    "os.listdir(train_path+'\\\\parasitized')"
   ]
  },
  {
   "cell_type": "code",
   "execution_count": 9,
   "metadata": {},
   "outputs": [
    {
     "data": {
      "text/plain": [
       "'C100P61ThinF_IMG_20150918_144104_cell_169.png'"
      ]
     },
     "execution_count": 9,
     "metadata": {},
     "output_type": "execute_result"
    }
   ],
   "source": [
    "os.listdir(train_path+'\\\\parasitized')[7]"
   ]
  },
  {
   "cell_type": "code",
   "execution_count": 10,
   "metadata": {},
   "outputs": [],
   "source": [
    "para_cell = train_path+'\\\\parasitized'+'\\\\C100P61ThinF_IMG_20150918_144104_cell_169.png'"
   ]
  },
  {
   "cell_type": "code",
   "execution_count": 11,
   "metadata": {},
   "outputs": [
    {
     "data": {
      "text/plain": [
       "array([[[0., 0., 0.],\n",
       "        [0., 0., 0.],\n",
       "        [0., 0., 0.],\n",
       "        ...,\n",
       "        [0., 0., 0.],\n",
       "        [0., 0., 0.],\n",
       "        [0., 0., 0.]],\n",
       "\n",
       "       [[0., 0., 0.],\n",
       "        [0., 0., 0.],\n",
       "        [0., 0., 0.],\n",
       "        ...,\n",
       "        [0., 0., 0.],\n",
       "        [0., 0., 0.],\n",
       "        [0., 0., 0.]],\n",
       "\n",
       "       [[0., 0., 0.],\n",
       "        [0., 0., 0.],\n",
       "        [0., 0., 0.],\n",
       "        ...,\n",
       "        [0., 0., 0.],\n",
       "        [0., 0., 0.],\n",
       "        [0., 0., 0.]],\n",
       "\n",
       "       ...,\n",
       "\n",
       "       [[0., 0., 0.],\n",
       "        [0., 0., 0.],\n",
       "        [0., 0., 0.],\n",
       "        ...,\n",
       "        [0., 0., 0.],\n",
       "        [0., 0., 0.],\n",
       "        [0., 0., 0.]],\n",
       "\n",
       "       [[0., 0., 0.],\n",
       "        [0., 0., 0.],\n",
       "        [0., 0., 0.],\n",
       "        ...,\n",
       "        [0., 0., 0.],\n",
       "        [0., 0., 0.],\n",
       "        [0., 0., 0.]],\n",
       "\n",
       "       [[0., 0., 0.],\n",
       "        [0., 0., 0.],\n",
       "        [0., 0., 0.],\n",
       "        ...,\n",
       "        [0., 0., 0.],\n",
       "        [0., 0., 0.],\n",
       "        [0., 0., 0.]]], dtype=float32)"
      ]
     },
     "execution_count": 11,
     "metadata": {},
     "output_type": "execute_result"
    }
   ],
   "source": [
    "imread(para_cell)"
   ]
  },
  {
   "cell_type": "code",
   "execution_count": 12,
   "metadata": {},
   "outputs": [],
   "source": [
    "para_img= imread(para_cell)"
   ]
  },
  {
   "cell_type": "code",
   "execution_count": 13,
   "metadata": {},
   "outputs": [
    {
     "data": {
      "text/plain": [
       "<matplotlib.image.AxesImage at 0x1bec2f344f0>"
      ]
     },
     "execution_count": 13,
     "metadata": {},
     "output_type": "execute_result"
    },
    {
     "data": {
      "image/png": "[encoded data removed]",
      "text/plain": [
       "<Figure size 432x288 with 1 Axes>"
      ]
     },
     "metadata": {
      "needs_background": "light"
     },
     "output_type": "display_data"
    }
   ],
   "source": [
    "plt.imshow(para_img)"
   ]
  },
  {
   "cell_type": "code",
   "execution_count": 14,
   "metadata": {},
   "outputs": [
    {
     "data": {
      "text/plain": [
       "(124, 154, 3)"
      ]
     },
     "execution_count": 14,
     "metadata": {},
     "output_type": "execute_result"
    }
   ],
   "source": [
    "para_img.shape"
   ]
  },
  {
   "cell_type": "code",
   "execution_count": 15,
   "metadata": {},
   "outputs": [
    {
     "data": {
      "text/plain": [
       "['C100P61ThinF_IMG_20150918_144104_cell_128.png',\n",
       " 'C100P61ThinF_IMG_20150918_144104_cell_131.png',\n",
       " 'C100P61ThinF_IMG_20150918_144104_cell_144.png',\n",
       " 'C100P61ThinF_IMG_20150918_144104_cell_21.png',\n",
       " 'C100P61ThinF_IMG_20150918_144104_cell_25.png',\n",
       " 'C100P61ThinF_IMG_20150918_144104_cell_48.png',\n",
       " 'C100P61ThinF_IMG_20150918_144104_cell_65.png',\n",
       " 'C100P61ThinF_IMG_20150918_144348_cell_120.png',\n",
       " 'C100P61ThinF_IMG_20150918_144348_cell_125.png',\n",
       " 'C100P61ThinF_IMG_20150918_144348_cell_131.png',\n",
       " 'C100P61ThinF_IMG_20150918_144348_cell_2.png',\n",
       " 'C100P61ThinF_IMG_20150918_144348_cell_25.png',\n",
       " 'C100P61ThinF_IMG_20150918_144348_cell_40.png',\n",
       " 'C100P61ThinF_IMG_20150918_144348_cell_71.png',\n",
       " 'C100P61ThinF_IMG_20150918_144823_cell_126.png',\n",
       " 'C100P61ThinF_IMG_20150918_144823_cell_127.png',\n",
       " 'C100P61ThinF_IMG_20150918_144823_cell_139.png',\n",
       " 'C100P61ThinF_IMG_20150918_144823_cell_142.png',\n",
       " 'C100P61ThinF_IMG_20150918_144823_cell_151.png',\n",
       " 'C100P61ThinF_IMG_20150918_144823_cell_21.png',\n",
       " 'C100P61ThinF_IMG_20150918_144823_cell_34.png',\n",
       " 'C100P61ThinF_IMG_20150918_144823_cell_71.png',\n",
       " 'C100P61ThinF_IMG_20150918_145042_cell_161.png',\n",
       " 'C100P61ThinF_IMG_20150918_145042_cell_27.png',\n",
       " 'C100P61ThinF_IMG_20150918_145042_cell_5.png',\n",
       " 'C100P61ThinF_IMG_20150918_145042_cell_59.png',\n",
       " 'C100P61ThinF_IMG_20150918_145042_cell_7.png',\n",
       " 'C100P61ThinF_IMG_20150918_145042_cell_81.png',\n",
       " 'C100P61ThinF_IMG_20150918_145042_cell_94.png',\n",
       " 'C100P61ThinF_IMG_20150918_145422_cell_12.png',\n",
       " 'C100P61ThinF_IMG_20150918_145422_cell_136.png',\n",
       " 'C100P61ThinF_IMG_20150918_145422_cell_157.png',\n",
       " 'C100P61ThinF_IMG_20150918_145422_cell_21.png',\n",
       " 'C100P61ThinF_IMG_20150918_145422_cell_3.png',\n",
       " 'C100P61ThinF_IMG_20150918_145422_cell_37.png',\n",
       " 'C100P61ThinF_IMG_20150918_145422_cell_85.png',\n",
       " 'C100P61ThinF_IMG_20150918_145422_cell_86.png',\n",
       " 'C100P61ThinF_IMG_20150918_145609_cell_101.png',\n",
       " 'C100P61ThinF_IMG_20150918_145609_cell_113.png',\n",
       " 'C100P61ThinF_IMG_20150918_145609_cell_121.png',\n",
       " 'C100P61ThinF_IMG_20150918_145609_cell_30.png',\n",
       " 'C100P61ThinF_IMG_20150918_145609_cell_46.png',\n",
       " 'C100P61ThinF_IMG_20150918_145609_cell_48.png',\n",
       " 'C100P61ThinF_IMG_20150918_145609_cell_75.png',\n",
       " 'C100P61ThinF_IMG_20150918_145609_cell_91.png',\n",
       " 'C100P61ThinF_IMG_20150918_145609_cell_99.png',\n",
       " 'C100P61ThinF_IMG_20150918_145938_cell_138.png',\n",
       " 'C100P61ThinF_IMG_20150918_145938_cell_154.png',\n",
       " 'C100P61ThinF_IMG_20150918_145938_cell_63.png',\n",
       " 'C100P61ThinF_IMG_20150918_145938_cell_64.png',\n",
       " 'C100P61ThinF_IMG_20150918_145938_cell_67.png',\n",
       " 'C100P61ThinF_IMG_20150918_145938_cell_72.png',\n",
       " 'C100P61ThinF_IMG_20150918_145938_cell_75.png',\n",
       " 'C100P61ThinF_IMG_20150918_145938_cell_83.png',\n",
       " 'C100P61ThinF_IMG_20150918_150041_cell_108.png',\n",
       " 'C100P61ThinF_IMG_20150918_150041_cell_12.png',\n",
       " 'C100P61ThinF_IMG_20150918_150041_cell_125.png',\n",
       " 'C100P61ThinF_IMG_20150918_150041_cell_127.png',\n",
       " 'C100P61ThinF_IMG_20150918_150041_cell_15.png',\n",
       " 'C100P61ThinF_IMG_20150918_150041_cell_47.png',\n",
       " 'C100P61ThinF_IMG_20150918_150041_cell_76.png',\n",
       " 'C101P62ThinF_IMG_20150918_151006_cell_17.png',\n",
       " 'C101P62ThinF_IMG_20150918_151006_cell_29.png',\n",
       " 'C101P62ThinF_IMG_20150918_151006_cell_32.png',\n",
       " 'C101P62ThinF_IMG_20150918_151006_cell_53.png',\n",
       " 'C101P62ThinF_IMG_20150918_151006_cell_56.png',\n",
       " 'C101P62ThinF_IMG_20150918_151006_cell_59.png',\n",
       " 'C101P62ThinF_IMG_20150918_151006_cell_8.png',\n",
       " 'C101P62ThinF_IMG_20150918_151149_cell_23.png',\n",
       " 'C101P62ThinF_IMG_20150918_151149_cell_29.png',\n",
       " 'C101P62ThinF_IMG_20150918_151149_cell_32.png',\n",
       " 'C101P62ThinF_IMG_20150918_151149_cell_34.png',\n",
       " 'C101P62ThinF_IMG_20150918_151149_cell_61.png',\n",
       " 'C101P62ThinF_IMG_20150918_151149_cell_63.png',\n",
       " 'C101P62ThinF_IMG_20150918_151239_cell_14.png',\n",
       " 'C101P62ThinF_IMG_20150918_151239_cell_17.png',\n",
       " 'C101P62ThinF_IMG_20150918_151239_cell_25.png',\n",
       " 'C101P62ThinF_IMG_20150918_151239_cell_29.png',\n",
       " 'C101P62ThinF_IMG_20150918_151239_cell_41.png',\n",
       " 'C101P62ThinF_IMG_20150918_151239_cell_51.png',\n",
       " 'C101P62ThinF_IMG_20150918_151239_cell_59.png',\n",
       " 'C101P62ThinF_IMG_20150918_151239_cell_69.png',\n",
       " 'C101P62ThinF_IMG_20150918_151335_cell_13.png',\n",
       " 'C101P62ThinF_IMG_20150918_151335_cell_16.png',\n",
       " 'C101P62ThinF_IMG_20150918_151335_cell_22.png',\n",
       " 'C101P62ThinF_IMG_20150918_151335_cell_24.png',\n",
       " 'C101P62ThinF_IMG_20150918_151335_cell_38.png',\n",
       " 'C101P62ThinF_IMG_20150918_151335_cell_44.png',\n",
       " 'C101P62ThinF_IMG_20150918_151335_cell_49.png',\n",
       " 'C101P62ThinF_IMG_20150918_151507_cell_10.png',\n",
       " 'C101P62ThinF_IMG_20150918_151507_cell_11.png',\n",
       " 'C101P62ThinF_IMG_20150918_151507_cell_15.png',\n",
       " 'C101P62ThinF_IMG_20150918_151507_cell_21.png',\n",
       " 'C101P62ThinF_IMG_20150918_151507_cell_27.png',\n",
       " 'C101P62ThinF_IMG_20150918_151507_cell_32.png',\n",
       " 'C101P62ThinF_IMG_20150918_151507_cell_40.png',\n",
       " 'C101P62ThinF_IMG_20150918_151507_cell_48.png',\n",
       " 'C101P62ThinF_IMG_20150918_151942_cell_18.png',\n",
       " 'C101P62ThinF_IMG_20150918_151942_cell_28.png',\n",
       " 'C101P62ThinF_IMG_20150918_151942_cell_4.png',\n",
       " 'C101P62ThinF_IMG_20150918_151942_cell_52.png',\n",
       " 'C101P62ThinF_IMG_20150918_151942_cell_53.png',\n",
       " 'C101P62ThinF_IMG_20150918_151942_cell_56.png',\n",
       " 'C101P62ThinF_IMG_20150918_151942_cell_57.png',\n",
       " 'C101P62ThinF_IMG_20150918_155731_cell_12.png',\n",
       " 'C101P62ThinF_IMG_20150918_155731_cell_19.png',\n",
       " 'C101P62ThinF_IMG_20150918_155731_cell_24.png',\n",
       " 'C101P62ThinF_IMG_20150918_155731_cell_25.png',\n",
       " 'C101P62ThinF_IMG_20150918_155731_cell_37.png',\n",
       " 'C101P62ThinF_IMG_20150918_155731_cell_56.png',\n",
       " 'C101P62ThinF_IMG_20150918_155731_cell_57.png',\n",
       " 'C101P62ThinF_IMG_20150923_170246_cell_1.png',\n",
       " 'C101P62ThinF_IMG_20150923_170246_cell_14.png',\n",
       " 'C101P62ThinF_IMG_20150923_170246_cell_19.png',\n",
       " 'C101P62ThinF_IMG_20150923_170246_cell_27.png',\n",
       " 'C101P62ThinF_IMG_20150923_170246_cell_30.png',\n",
       " 'C101P62ThinF_IMG_20150923_170246_cell_42.png',\n",
       " 'C101P62ThinF_IMG_20150923_170246_cell_44.png',\n",
       " 'C101P62ThinF_IMG_20150923_170246_cell_5.png',\n",
       " 'C101P62ThinF_IMG_20150923_170246_cell_7.png',\n",
       " 'C101P62ThinF_IMG_20150923_170344_cell_27.png',\n",
       " 'C101P62ThinF_IMG_20150923_170344_cell_31.png',\n",
       " 'C101P62ThinF_IMG_20150923_170344_cell_41.png',\n",
       " 'C101P62ThinF_IMG_20150923_170344_cell_55.png',\n",
       " 'C101P62ThinF_IMG_20150923_170344_cell_61.png',\n",
       " 'C101P62ThinF_IMG_20150923_170344_cell_69.png',\n",
       " 'C101P62ThinF_IMG_20150923_170344_cell_70.png',\n",
       " 'C102P63ThinF_IMG_20150918_161508_cell_101.png',\n",
       " 'C102P63ThinF_IMG_20150918_161508_cell_113.png',\n",
       " 'C102P63ThinF_IMG_20150918_161508_cell_133.png',\n",
       " 'C102P63ThinF_IMG_20150918_161508_cell_14.png',\n",
       " 'C102P63ThinF_IMG_20150918_161508_cell_143.png',\n",
       " 'C102P63ThinF_IMG_20150918_161508_cell_150.png',\n",
       " 'C102P63ThinF_IMG_20150918_161508_cell_172.png',\n",
       " 'C102P63ThinF_IMG_20150918_161508_cell_175.png',\n",
       " 'C102P63ThinF_IMG_20150918_161508_cell_37.png',\n",
       " 'C102P63ThinF_IMG_20150918_161508_cell_71.png',\n",
       " 'C102P63ThinF_IMG_20150918_161826_cell_152.png',\n",
       " 'C102P63ThinF_IMG_20150918_161826_cell_154.png',\n",
       " 'C102P63ThinF_IMG_20150918_161826_cell_19.png',\n",
       " 'C102P63ThinF_IMG_20150918_161826_cell_41.png',\n",
       " 'C102P63ThinF_IMG_20150918_161826_cell_54.png',\n",
       " 'C102P63ThinF_IMG_20150918_161826_cell_63.png',\n",
       " 'C102P63ThinF_IMG_20150918_161826_cell_65.png',\n",
       " 'C102P63ThinF_IMG_20150918_161826_cell_70.png',\n",
       " 'C102P63ThinF_IMG_20150918_162051_cell_1.png',\n",
       " 'C102P63ThinF_IMG_20150918_162051_cell_100.png',\n",
       " 'C102P63ThinF_IMG_20150918_162051_cell_130.png',\n",
       " 'C102P63ThinF_IMG_20150918_162051_cell_19.png',\n",
       " 'C102P63ThinF_IMG_20150918_162051_cell_29.png',\n",
       " 'C102P63ThinF_IMG_20150918_162051_cell_32.png',\n",
       " 'C102P63ThinF_IMG_20150918_162051_cell_34.png',\n",
       " 'C102P63ThinF_IMG_20150918_162051_cell_65.png',\n",
       " 'C102P63ThinF_IMG_20150918_162051_cell_79.png',\n",
       " 'C102P63ThinF_IMG_20150918_162051_cell_9.png',\n",
       " 'C102P63ThinF_IMG_20150918_162155_cell_116.png',\n",
       " 'C102P63ThinF_IMG_20150918_162155_cell_117.png',\n",
       " 'C102P63ThinF_IMG_20150918_162155_cell_119.png',\n",
       " 'C102P63ThinF_IMG_20150918_162155_cell_32.png',\n",
       " 'C102P63ThinF_IMG_20150918_162155_cell_51.png',\n",
       " 'C102P63ThinF_IMG_20150918_162155_cell_76.png',\n",
       " 'C102P63ThinF_IMG_20150918_162155_cell_88.png',\n",
       " 'C102P63ThinF_IMG_20150918_162300_cell_111.png',\n",
       " 'C102P63ThinF_IMG_20150918_162300_cell_12.png',\n",
       " 'C102P63ThinF_IMG_20150918_162300_cell_129.png',\n",
       " 'C102P63ThinF_IMG_20150918_162300_cell_13.png',\n",
       " 'C102P63ThinF_IMG_20150918_162300_cell_137.png',\n",
       " 'C102P63ThinF_IMG_20150918_162300_cell_15.png',\n",
       " 'C102P63ThinF_IMG_20150918_162300_cell_29.png',\n",
       " 'C102P63ThinF_IMG_20150918_162300_cell_4.png',\n",
       " 'C102P63ThinF_IMG_20150918_162300_cell_63.png',\n",
       " 'C102P63ThinF_IMG_20150918_162300_cell_89.png',\n",
       " 'C102P63ThinF_IMG_20150918_162511_cell_102.png',\n",
       " 'C102P63ThinF_IMG_20150918_162511_cell_131.png',\n",
       " 'C102P63ThinF_IMG_20150918_162511_cell_133.png',\n",
       " 'C102P63ThinF_IMG_20150918_162511_cell_157.png',\n",
       " 'C102P63ThinF_IMG_20150918_162511_cell_163.png',\n",
       " 'C102P63ThinF_IMG_20150918_162511_cell_36.png',\n",
       " 'C102P63ThinF_IMG_20150918_162511_cell_59.png',\n",
       " 'C102P63ThinF_IMG_20150918_162511_cell_93.png',\n",
       " 'C102P63ThinF_IMG_20150918_163054_cell_127.png',\n",
       " 'C102P63ThinF_IMG_20150918_163054_cell_134.png',\n",
       " 'C102P63ThinF_IMG_20150918_163054_cell_144.png',\n",
       " 'C102P63ThinF_IMG_20150918_163054_cell_159.png',\n",
       " 'C102P63ThinF_IMG_20150918_163054_cell_25.png',\n",
       " 'C102P63ThinF_IMG_20150918_163054_cell_6.png',\n",
       " 'C102P63ThinF_IMG_20150918_163054_cell_71.png',\n",
       " 'C102P63ThinF_IMG_20150918_163054_cell_76.png',\n",
       " 'C102P63ThinF_IMG_20150918_163054_cell_83.png',\n",
       " 'C102P63ThinF_IMG_20150918_163054_cell_87.png',\n",
       " 'C103P64ThinF_IMG_20150918_164250_cell_121.png',\n",
       " 'C103P64ThinF_IMG_20150918_164250_cell_128.png',\n",
       " 'C103P64ThinF_IMG_20150918_164250_cell_15.png',\n",
       " 'C103P64ThinF_IMG_20150918_164250_cell_153.png',\n",
       " 'C103P64ThinF_IMG_20150918_164250_cell_164.png',\n",
       " 'C103P64ThinF_IMG_20150918_164250_cell_19.png',\n",
       " 'C103P64ThinF_IMG_20150918_164250_cell_28.png',\n",
       " 'C103P64ThinF_IMG_20150918_164250_cell_39.png',\n",
       " 'C103P64ThinF_IMG_20150918_164250_cell_67.png',\n",
       " 'C103P64ThinF_IMG_20150918_164250_cell_74.png',\n",
       " 'C103P64ThinF_IMG_20150918_164250_cell_85.png',\n",
       " 'C103P64ThinF_IMG_20150918_164331_cell_116.png',\n",
       " 'C103P64ThinF_IMG_20150918_164331_cell_119.png',\n",
       " 'C103P64ThinF_IMG_20150918_164331_cell_129.png',\n",
       " 'C103P64ThinF_IMG_20150918_164331_cell_153.png',\n",
       " 'C103P64ThinF_IMG_20150918_164331_cell_172.png',\n",
       " 'C103P64ThinF_IMG_20150918_164331_cell_27.png',\n",
       " 'C103P64ThinF_IMG_20150918_164331_cell_3.png',\n",
       " 'C103P64ThinF_IMG_20150918_164331_cell_35.png',\n",
       " 'C103P64ThinF_IMG_20150918_164331_cell_87.png',\n",
       " 'C103P64ThinF_IMG_20150918_164553_cell_133.png',\n",
       " 'C103P64ThinF_IMG_20150918_164553_cell_145.png',\n",
       " 'C103P64ThinF_IMG_20150918_164553_cell_148.png',\n",
       " 'C103P64ThinF_IMG_20150918_164553_cell_155.png',\n",
       " 'C103P64ThinF_IMG_20150918_164553_cell_160.png',\n",
       " 'C103P64ThinF_IMG_20150918_164553_cell_35.png',\n",
       " 'C103P64ThinF_IMG_20150918_164553_cell_42.png',\n",
       " 'C103P64ThinF_IMG_20150918_164553_cell_45.png',\n",
       " 'C103P64ThinF_IMG_20150918_164553_cell_46.png',\n",
       " 'C103P64ThinF_IMG_20150918_164553_cell_54.png',\n",
       " 'C103P64ThinF_IMG_20150918_164553_cell_80.png',\n",
       " 'C103P64ThinF_IMG_20150918_165016_cell_107.png',\n",
       " 'C103P64ThinF_IMG_20150918_165016_cell_11.png',\n",
       " 'C103P64ThinF_IMG_20150918_165016_cell_130.png',\n",
       " 'C103P64ThinF_IMG_20150918_165016_cell_139.png',\n",
       " 'C103P64ThinF_IMG_20150918_165016_cell_3.png',\n",
       " 'C103P64ThinF_IMG_20150918_165016_cell_31.png',\n",
       " 'C103P64ThinF_IMG_20150918_165016_cell_34.png',\n",
       " 'C103P64ThinF_IMG_20150918_165016_cell_77.png',\n",
       " 'C103P64ThinF_IMG_20150918_165016_cell_84.png',\n",
       " 'C103P64ThinF_IMG_20150918_165016_cell_92.png',\n",
       " 'C103P64ThinF_IMG_20150918_165125_cell_105.png',\n",
       " 'C103P64ThinF_IMG_20150918_165125_cell_106.png',\n",
       " 'C103P64ThinF_IMG_20150918_165125_cell_117.png',\n",
       " 'C103P64ThinF_IMG_20150918_165125_cell_12.png',\n",
       " 'C103P64ThinF_IMG_20150918_165125_cell_121.png',\n",
       " 'C103P64ThinF_IMG_20150918_165125_cell_132.png',\n",
       " 'C103P64ThinF_IMG_20150918_165125_cell_138.png',\n",
       " 'C103P64ThinF_IMG_20150918_165125_cell_143.png',\n",
       " 'C103P64ThinF_IMG_20150918_165125_cell_149.png',\n",
       " 'C103P64ThinF_IMG_20150918_165125_cell_156.png',\n",
       " 'C103P64ThinF_IMG_20150918_165125_cell_87.png',\n",
       " 'C103P64ThinF_IMG_20150918_165510_cell_130.png',\n",
       " 'C103P64ThinF_IMG_20150918_165510_cell_138.png',\n",
       " 'C103P64ThinF_IMG_20150918_165510_cell_14.png',\n",
       " 'C103P64ThinF_IMG_20150918_165510_cell_146.png',\n",
       " 'C103P64ThinF_IMG_20150918_165510_cell_161.png',\n",
       " 'C103P64ThinF_IMG_20150918_165510_cell_163.png',\n",
       " 'C103P64ThinF_IMG_20150918_165510_cell_28.png',\n",
       " 'C103P64ThinF_IMG_20150918_165510_cell_65.png',\n",
       " 'C103P64ThinF_IMG_20150918_165510_cell_67.png',\n",
       " 'C103P64ThinF_IMG_20150918_165510_cell_94.png',\n",
       " 'C104P65ThinF_IMG_20150918_170850_cell_140.png',\n",
       " 'C104P65ThinF_IMG_20150918_170850_cell_167.png',\n",
       " 'C104P65ThinF_IMG_20150918_170850_cell_174.png',\n",
       " 'C104P65ThinF_IMG_20150918_170850_cell_189.png',\n",
       " 'C104P65ThinF_IMG_20150918_170850_cell_29.png',\n",
       " 'C104P65ThinF_IMG_20150918_170850_cell_32.png',\n",
       " 'C104P65ThinF_IMG_20150918_170850_cell_66.png',\n",
       " 'C104P65ThinF_IMG_20150918_170850_cell_68.png',\n",
       " 'C104P65ThinF_IMG_20150918_170850_cell_83.png',\n",
       " 'C104P65ThinF_IMG_20150918_171154_cell_141.png',\n",
       " 'C104P65ThinF_IMG_20150918_171154_cell_144.png',\n",
       " 'C104P65ThinF_IMG_20150918_171154_cell_154.png',\n",
       " 'C104P65ThinF_IMG_20150918_171154_cell_163.png',\n",
       " 'C104P65ThinF_IMG_20150918_171154_cell_190.png',\n",
       " 'C104P65ThinF_IMG_20150918_171154_cell_3.png',\n",
       " 'C104P65ThinF_IMG_20150918_171154_cell_4.png',\n",
       " 'C104P65ThinF_IMG_20150918_171154_cell_88.png',\n",
       " 'C104P65ThinF_IMG_20150918_171154_cell_93.png',\n",
       " 'C104P65ThinF_IMG_20150918_171751_cell_102.png',\n",
       " 'C104P65ThinF_IMG_20150918_171751_cell_105.png',\n",
       " 'C104P65ThinF_IMG_20150918_171751_cell_106.png',\n",
       " 'C104P65ThinF_IMG_20150918_171751_cell_109.png',\n",
       " 'C104P65ThinF_IMG_20150918_171751_cell_113.png',\n",
       " 'C104P65ThinF_IMG_20150918_171751_cell_175.png',\n",
       " 'C104P65ThinF_IMG_20150918_171751_cell_31.png',\n",
       " 'C104P65ThinF_IMG_20150918_171751_cell_49.png',\n",
       " 'C104P65ThinF_IMG_20150918_171751_cell_54.png',\n",
       " 'C104P65ThinF_IMG_20150918_172053_cell_114.png',\n",
       " 'C104P65ThinF_IMG_20150918_172053_cell_159.png',\n",
       " 'C104P65ThinF_IMG_20150918_172053_cell_160.png',\n",
       " 'C104P65ThinF_IMG_20150918_172053_cell_17.png',\n",
       " 'C104P65ThinF_IMG_20150918_172053_cell_184.png',\n",
       " 'C104P65ThinF_IMG_20150918_172053_cell_31.png',\n",
       " 'C104P65ThinF_IMG_20150918_172053_cell_35.png',\n",
       " 'C104P65ThinF_IMG_20150918_172053_cell_98.png',\n",
       " 'C104P65ThinF_IMG_20150918_172214_cell_1.png',\n",
       " 'C104P65ThinF_IMG_20150918_172214_cell_134.png',\n",
       " 'C104P65ThinF_IMG_20150918_172214_cell_147.png',\n",
       " 'C104P65ThinF_IMG_20150918_172214_cell_153.png',\n",
       " 'C104P65ThinF_IMG_20150918_172214_cell_25.png',\n",
       " 'C104P65ThinF_IMG_20150918_172214_cell_27.png',\n",
       " 'C104P65ThinF_IMG_20150918_172214_cell_50.png',\n",
       " 'C104P65ThinF_IMG_20150918_172214_cell_66.png',\n",
       " 'C104P65ThinF_IMG_20150918_172214_cell_91.png',\n",
       " 'C104P65ThinF_IMG_20150918_172214_cell_99.png',\n",
       " 'C104P65ThinF_IMG_20150918_172247_cell_1.png',\n",
       " 'C104P65ThinF_IMG_20150918_172247_cell_12.png',\n",
       " 'C104P65ThinF_IMG_20150918_172247_cell_125.png',\n",
       " 'C104P65ThinF_IMG_20150918_172247_cell_126.png',\n",
       " 'C104P65ThinF_IMG_20150918_172247_cell_135.png',\n",
       " 'C104P65ThinF_IMG_20150918_172247_cell_145.png',\n",
       " 'C104P65ThinF_IMG_20150918_172247_cell_158.png',\n",
       " 'C104P65ThinF_IMG_20150918_172247_cell_69.png',\n",
       " 'C104P65ThinF_IMG_20150918_172247_cell_85.png',\n",
       " 'C104P65ThinF_IMG_20150918_172537_cell_107.png',\n",
       " 'C104P65ThinF_IMG_20150918_172537_cell_111.png',\n",
       " 'C104P65ThinF_IMG_20150918_172537_cell_126.png',\n",
       " 'C104P65ThinF_IMG_20150918_172537_cell_132.png',\n",
       " 'C104P65ThinF_IMG_20150918_172537_cell_133.png',\n",
       " 'C104P65ThinF_IMG_20150918_172537_cell_53.png',\n",
       " 'C104P65ThinF_IMG_20150918_172537_cell_67.png',\n",
       " 'C104P65ThinF_IMG_20150918_172537_cell_75.png',\n",
       " 'C104P65ThinF_IMG_20150918_172639_cell_120.png',\n",
       " 'C104P65ThinF_IMG_20150918_172639_cell_144.png',\n",
       " 'C104P65ThinF_IMG_20150918_172639_cell_167.png',\n",
       " 'C104P65ThinF_IMG_20150918_172639_cell_34.png',\n",
       " 'C104P65ThinF_IMG_20150918_172639_cell_44.png',\n",
       " 'C104P65ThinF_IMG_20150918_172639_cell_93.png',\n",
       " 'C104P65ThinF_IMG_20150918_172639_cell_95.png',\n",
       " 'C105P66ThinF_IMG_20150924_094800_cell_132.png',\n",
       " 'C105P66ThinF_IMG_20150924_094800_cell_30.png',\n",
       " 'C105P66ThinF_IMG_20150924_094800_cell_39.png',\n",
       " 'C105P66ThinF_IMG_20150924_094800_cell_62.png',\n",
       " 'C105P66ThinF_IMG_20150924_094800_cell_63.png',\n",
       " 'C105P66ThinF_IMG_20150924_094800_cell_70.png',\n",
       " 'C105P66ThinF_IMG_20150924_094800_cell_74.png',\n",
       " 'C105P66ThinF_IMG_20150924_094800_cell_90.png',\n",
       " 'C105P66ThinF_IMG_20150924_094944_cell_14.png',\n",
       " 'C105P66ThinF_IMG_20150924_094944_cell_19.png',\n",
       " 'C105P66ThinF_IMG_20150924_094944_cell_25.png',\n",
       " 'C105P66ThinF_IMG_20150924_094944_cell_3.png',\n",
       " 'C105P66ThinF_IMG_20150924_094944_cell_37.png',\n",
       " 'C105P66ThinF_IMG_20150924_094944_cell_41.png',\n",
       " 'C105P66ThinF_IMG_20150924_094944_cell_72.png',\n",
       " 'C105P66ThinF_IMG_20150924_095034_cell_1.png',\n",
       " 'C105P66ThinF_IMG_20150924_095034_cell_105.png',\n",
       " 'C105P66ThinF_IMG_20150924_095034_cell_112.png',\n",
       " 'C105P66ThinF_IMG_20150924_095034_cell_127.png',\n",
       " 'C105P66ThinF_IMG_20150924_095034_cell_133.png',\n",
       " 'C105P66ThinF_IMG_20150924_095034_cell_23.png',\n",
       " 'C105P66ThinF_IMG_20150924_095034_cell_29.png',\n",
       " 'C105P66ThinF_IMG_20150924_095034_cell_53.png',\n",
       " 'C105P66ThinF_IMG_20150924_095034_cell_75.png',\n",
       " 'C105P66ThinF_IMG_20150924_095130_cell_108.png',\n",
       " 'C105P66ThinF_IMG_20150924_095130_cell_148.png',\n",
       " 'C105P66ThinF_IMG_20150924_095130_cell_23.png',\n",
       " 'C105P66ThinF_IMG_20150924_095130_cell_4.png',\n",
       " 'C105P66ThinF_IMG_20150924_095130_cell_44.png',\n",
       " 'C105P66ThinF_IMG_20150924_095130_cell_58.png',\n",
       " 'C105P66ThinF_IMG_20150924_095130_cell_97.png',\n",
       " 'C105P66ThinF_IMG_20150924_095633_cell_104.png',\n",
       " 'C105P66ThinF_IMG_20150924_095633_cell_111.png',\n",
       " 'C105P66ThinF_IMG_20150924_095633_cell_2.png',\n",
       " 'C105P66ThinF_IMG_20150924_095633_cell_4.png',\n",
       " 'C105P66ThinF_IMG_20150924_095633_cell_5.png',\n",
       " 'C105P66ThinF_IMG_20150924_095633_cell_71.png',\n",
       " 'C105P66ThinF_IMG_20150924_095633_cell_82.png',\n",
       " 'C105P66ThinF_IMG_20150924_095633_cell_87.png',\n",
       " 'C105P66ThinF_IMG_20150924_095716_cell_3.png',\n",
       " 'C105P66ThinF_IMG_20150924_095716_cell_41.png',\n",
       " 'C105P66ThinF_IMG_20150924_095716_cell_49.png',\n",
       " 'C105P66ThinF_IMG_20150924_095716_cell_56.png',\n",
       " 'C105P66ThinF_IMG_20150924_095716_cell_57.png',\n",
       " 'C105P66ThinF_IMG_20150924_095716_cell_98.png',\n",
       " 'C105P66ThinF_IMG_20150924_095913_cell_2.png',\n",
       " 'C105P66ThinF_IMG_20150924_095913_cell_36.png',\n",
       " 'C105P66ThinF_IMG_20150924_095913_cell_50.png',\n",
       " 'C105P66ThinF_IMG_20150924_095913_cell_65.png',\n",
       " 'C105P66ThinF_IMG_20150924_095913_cell_7.png',\n",
       " 'C105P66ThinF_IMG_20150924_095913_cell_84.png',\n",
       " 'C105P66ThinF_IMG_20150924_095913_cell_88.png',\n",
       " 'C105P66ThinF_IMG_20150924_095913_cell_91.png',\n",
       " 'C105P66ThinF_IMG_20150924_095913_cell_98.png',\n",
       " 'C105P66ThinF_IMG_20150924_100655_cell_109.png',\n",
       " 'C105P66ThinF_IMG_20150924_100655_cell_33.png',\n",
       " 'C105P66ThinF_IMG_20150924_100655_cell_64.png',\n",
       " 'C105P66ThinF_IMG_20150924_100655_cell_75.png',\n",
       " 'C105P66ThinF_IMG_20150924_100655_cell_80.png',\n",
       " 'C105P66ThinF_IMG_20150924_100655_cell_81.png',\n",
       " 'C105P66ThinF_IMG_20150924_100655_cell_93.png',\n",
       " 'C105P66ThinF_IMG_20150924_100655_cell_96.png',\n",
       " 'C106P67ThinF_IMG_20150924_102245_cell_123.png',\n",
       " 'C106P67ThinF_IMG_20150924_102245_cell_149.png',\n",
       " 'C106P67ThinF_IMG_20150924_102245_cell_152.png',\n",
       " 'C106P67ThinF_IMG_20150924_102245_cell_30.png',\n",
       " 'C106P67ThinF_IMG_20150924_102245_cell_44.png',\n",
       " 'C106P67ThinF_IMG_20150924_102245_cell_63.png',\n",
       " 'C106P67ThinF_IMG_20150924_102245_cell_64.png',\n",
       " 'C106P67ThinF_IMG_20150924_102245_cell_69.png',\n",
       " 'C106P67ThinF_IMG_20150924_102245_cell_76.png',\n",
       " 'C106P67ThinF_IMG_20150924_102245_cell_86.png',\n",
       " 'C106P67ThinF_IMG_20150924_102413_cell_114.png',\n",
       " 'C106P67ThinF_IMG_20150924_102413_cell_121.png',\n",
       " 'C106P67ThinF_IMG_20150924_102413_cell_129.png',\n",
       " 'C106P67ThinF_IMG_20150924_102413_cell_175.png',\n",
       " 'C106P67ThinF_IMG_20150924_102413_cell_176.png',\n",
       " 'C106P67ThinF_IMG_20150924_102413_cell_24.png',\n",
       " 'C106P67ThinF_IMG_20150924_102413_cell_49.png',\n",
       " 'C106P67ThinF_IMG_20150924_102413_cell_9.png',\n",
       " 'C106P67ThinF_IMG_20150924_102826_cell_1.png',\n",
       " 'C106P67ThinF_IMG_20150924_102826_cell_108.png',\n",
       " 'C106P67ThinF_IMG_20150924_102826_cell_137.png',\n",
       " 'C106P67ThinF_IMG_20150924_102826_cell_140.png',\n",
       " 'C106P67ThinF_IMG_20150924_102826_cell_39.png',\n",
       " 'C106P67ThinF_IMG_20150924_102826_cell_46.png',\n",
       " 'C106P67ThinF_IMG_20150924_102826_cell_76.png',\n",
       " 'C106P67ThinF_IMG_20150924_102826_cell_85.png',\n",
       " 'C106P67ThinF_IMG_20150924_102826_cell_91.png',\n",
       " 'C106P67ThinF_IMG_20150924_103245_cell_109.png',\n",
       " 'C106P67ThinF_IMG_20150924_103245_cell_110.png',\n",
       " 'C106P67ThinF_IMG_20150924_103245_cell_127.png',\n",
       " 'C106P67ThinF_IMG_20150924_103245_cell_142.png',\n",
       " 'C106P67ThinF_IMG_20150924_103245_cell_26.png',\n",
       " 'C106P67ThinF_IMG_20150924_103245_cell_32.png',\n",
       " 'C106P67ThinF_IMG_20150924_103636_cell_10.png',\n",
       " 'C106P67ThinF_IMG_20150924_103636_cell_108.png',\n",
       " 'C106P67ThinF_IMG_20150924_103636_cell_149.png',\n",
       " 'C106P67ThinF_IMG_20150924_103636_cell_162.png',\n",
       " 'C106P67ThinF_IMG_20150924_103636_cell_163.png',\n",
       " 'C106P67ThinF_IMG_20150924_103636_cell_65.png',\n",
       " 'C106P67ThinF_IMG_20150924_103636_cell_7.png',\n",
       " 'C106P67ThinF_IMG_20150924_103636_cell_94.png',\n",
       " 'C106P67ThinF_IMG_20150924_103636_cell_99.png',\n",
       " 'C106P67ThinF_IMG_20150924_103811_cell_107.png',\n",
       " 'C106P67ThinF_IMG_20150924_103811_cell_123.png',\n",
       " 'C106P67ThinF_IMG_20150924_103811_cell_132.png',\n",
       " 'C106P67ThinF_IMG_20150924_103811_cell_137.png',\n",
       " 'C106P67ThinF_IMG_20150924_103811_cell_56.png',\n",
       " 'C106P67ThinF_IMG_20150924_103811_cell_70.png',\n",
       " 'C106P67ThinF_IMG_20150924_103811_cell_9.png',\n",
       " 'C106P67ThinF_IMG_20150924_104044_cell_115.png',\n",
       " 'C106P67ThinF_IMG_20150924_104044_cell_144.png',\n",
       " 'C106P67ThinF_IMG_20150924_104044_cell_159.png',\n",
       " 'C106P67ThinF_IMG_20150924_104044_cell_164.png',\n",
       " 'C106P67ThinF_IMG_20150924_104044_cell_26.png',\n",
       " 'C106P67ThinF_IMG_20150924_104044_cell_40.png',\n",
       " 'C106P67ThinF_IMG_20150924_104044_cell_49.png',\n",
       " 'C106P67ThinF_IMG_20150924_104044_cell_67.png',\n",
       " 'C106P67ThinF_IMG_20150924_104044_cell_90.png',\n",
       " 'C107P68ThinF_IMG_20150924_221632_cell_11.png',\n",
       " 'C107P68ThinF_IMG_20150924_221632_cell_23.png',\n",
       " 'C107P68ThinF_IMG_20150924_221632_cell_31.png',\n",
       " 'C107P68ThinF_IMG_20150924_221632_cell_33.png',\n",
       " 'C107P68ThinF_IMG_20150924_221632_cell_35.png',\n",
       " 'C107P68ThinF_IMG_20150924_221632_cell_40.png',\n",
       " 'C107P68ThinF_IMG_20150924_221632_cell_42.png',\n",
       " 'C107P68ThinF_IMG_20150924_221632_cell_61.png',\n",
       " 'C107P68ThinF_IMG_20150924_221632_cell_69.png',\n",
       " 'C107P68ThinF_IMG_20150924_221632_cell_96.png',\n",
       " 'C107P68ThinF_IMG_20150924_221909_cell_102.png',\n",
       " 'C107P68ThinF_IMG_20150924_221909_cell_113.png',\n",
       " 'C107P68ThinF_IMG_20150924_221909_cell_122.png',\n",
       " 'C107P68ThinF_IMG_20150924_221909_cell_34.png',\n",
       " 'C107P68ThinF_IMG_20150924_221909_cell_41.png',\n",
       " 'C107P68ThinF_IMG_20150924_221909_cell_61.png',\n",
       " 'C107P68ThinF_IMG_20150924_221909_cell_66.png',\n",
       " 'C107P68ThinF_IMG_20150924_221909_cell_69.png',\n",
       " 'C107P68ThinF_IMG_20150924_221909_cell_9.png',\n",
       " 'C107P68ThinF_IMG_20150924_222233_cell_109.png',\n",
       " 'C107P68ThinF_IMG_20150924_222233_cell_138.png',\n",
       " 'C107P68ThinF_IMG_20150924_222233_cell_20.png',\n",
       " 'C107P68ThinF_IMG_20150924_222233_cell_30.png',\n",
       " 'C107P68ThinF_IMG_20150924_222233_cell_36.png',\n",
       " 'C107P68ThinF_IMG_20150924_222233_cell_66.png',\n",
       " 'C107P68ThinF_IMG_20150924_222233_cell_77.png',\n",
       " 'C107P68ThinF_IMG_20150924_222233_cell_81.png',\n",
       " 'C107P68ThinF_IMG_20150924_222233_cell_89.png',\n",
       " 'C107P68ThinF_IMG_20150924_222233_cell_93.png',\n",
       " 'C107P68ThinF_IMG_20150924_222415_cell_1.png',\n",
       " 'C107P68ThinF_IMG_20150924_222415_cell_102.png',\n",
       " 'C107P68ThinF_IMG_20150924_222415_cell_121.png',\n",
       " 'C107P68ThinF_IMG_20150924_222415_cell_147.png',\n",
       " 'C107P68ThinF_IMG_20150924_222415_cell_164.png',\n",
       " 'C107P68ThinF_IMG_20150924_222415_cell_61.png',\n",
       " 'C107P68ThinF_IMG_20150924_222415_cell_63.png',\n",
       " 'C107P68ThinF_IMG_20150924_222415_cell_7.png',\n",
       " 'C107P68ThinF_IMG_20150924_222415_cell_90.png',\n",
       " 'C107P68ThinF_IMG_20150924_222535_cell_123.png',\n",
       " 'C107P68ThinF_IMG_20150924_222535_cell_13.png',\n",
       " 'C107P68ThinF_IMG_20150924_222535_cell_38.png',\n",
       " 'C107P68ThinF_IMG_20150924_222535_cell_55.png',\n",
       " 'C107P68ThinF_IMG_20150924_222535_cell_57.png',\n",
       " 'C107P68ThinF_IMG_20150924_222535_cell_59.png',\n",
       " 'C107P68ThinF_IMG_20150924_222535_cell_70.png',\n",
       " 'C107P68ThinF_IMG_20150924_222535_cell_84.png',\n",
       " 'C107P68ThinF_IMG_20150924_222535_cell_85.png',\n",
       " 'C107P68ThinF_IMG_20150924_222535_cell_88.png',\n",
       " 'C107P68ThinF_IMG_20150924_222630_cell_105.png',\n",
       " 'C107P68ThinF_IMG_20150924_222630_cell_12.png',\n",
       " 'C107P68ThinF_IMG_20150924_222630_cell_123.png',\n",
       " 'C107P68ThinF_IMG_20150924_222630_cell_129.png',\n",
       " 'C107P68ThinF_IMG_20150924_222630_cell_143.png',\n",
       " 'C107P68ThinF_IMG_20150924_222630_cell_151.png',\n",
       " 'C107P68ThinF_IMG_20150924_222630_cell_169.png',\n",
       " 'C107P68ThinF_IMG_20150924_222630_cell_170.png',\n",
       " 'C107P68ThinF_IMG_20150924_222630_cell_23.png',\n",
       " 'C107P68ThinF_IMG_20150924_222630_cell_50.png',\n",
       " 'C107P68ThinF_IMG_20150924_222630_cell_74.png',\n",
       " 'C108P69ThinF_IMG_20150924_223834_cell_117.png',\n",
       " 'C108P69ThinF_IMG_20150924_223834_cell_136.png',\n",
       " 'C108P69ThinF_IMG_20150924_223834_cell_154.png',\n",
       " 'C108P69ThinF_IMG_20150924_223834_cell_179.png',\n",
       " 'C108P69ThinF_IMG_20150924_223834_cell_204.png',\n",
       " 'C108P69ThinF_IMG_20150924_223834_cell_22.png',\n",
       " 'C108P69ThinF_IMG_20150924_223834_cell_39.png',\n",
       " 'C108P69ThinF_IMG_20150924_223834_cell_44.png',\n",
       " 'C108P69ThinF_IMG_20150924_223834_cell_52.png',\n",
       " 'C108P69ThinF_IMG_20150924_223834_cell_71.png',\n",
       " 'C108P69ThinF_IMG_20150924_224038_cell_121.png',\n",
       " 'C108P69ThinF_IMG_20150924_224038_cell_124.png',\n",
       " 'C108P69ThinF_IMG_20150924_224038_cell_174.png',\n",
       " 'C108P69ThinF_IMG_20150924_224038_cell_186.png',\n",
       " 'C108P69ThinF_IMG_20150924_224038_cell_25.png',\n",
       " 'C108P69ThinF_IMG_20150924_224038_cell_36.png',\n",
       " 'C108P69ThinF_IMG_20150924_224038_cell_49.png',\n",
       " 'C108P69ThinF_IMG_20150924_224038_cell_6.png',\n",
       " 'C108P69ThinF_IMG_20150924_224038_cell_85.png',\n",
       " 'C108P69ThinF_IMG_20150924_224616_cell_1.png',\n",
       " 'C108P69ThinF_IMG_20150924_224616_cell_102.png',\n",
       " 'C108P69ThinF_IMG_20150924_224616_cell_115.png',\n",
       " 'C108P69ThinF_IMG_20150924_224616_cell_14.png',\n",
       " 'C108P69ThinF_IMG_20150924_224616_cell_163.png',\n",
       " 'C108P69ThinF_IMG_20150924_224616_cell_171.png',\n",
       " 'C108P69ThinF_IMG_20150924_224616_cell_193.png',\n",
       " 'C108P69ThinF_IMG_20150924_224616_cell_45.png',\n",
       " 'C108P69ThinF_IMG_20150924_224616_cell_48.png',\n",
       " 'C108P69ThinF_IMG_20150924_224616_cell_54.png',\n",
       " 'C108P69ThinF_IMG_20150924_224616_cell_77.png',\n",
       " 'C108P69ThinF_IMG_20150924_224616_cell_79.png',\n",
       " 'C108P69ThinF_IMG_20150924_224616_cell_90.png',\n",
       " 'C108P69ThinF_IMG_20150924_224909_cell_133.png',\n",
       " 'C108P69ThinF_IMG_20150924_224909_cell_15.png',\n",
       " 'C108P69ThinF_IMG_20150924_224909_cell_168.png',\n",
       " 'C108P69ThinF_IMG_20150924_224909_cell_192.png',\n",
       " 'C108P69ThinF_IMG_20150924_224909_cell_210.png',\n",
       " 'C108P69ThinF_IMG_20150924_224909_cell_215.png',\n",
       " 'C108P69ThinF_IMG_20150924_224909_cell_223.png',\n",
       " 'C108P69ThinF_IMG_20150924_224909_cell_47.png',\n",
       " 'C108P69ThinF_IMG_20150924_225004_cell_109.png',\n",
       " 'C108P69ThinF_IMG_20150924_225004_cell_114.png',\n",
       " 'C108P69ThinF_IMG_20150924_225004_cell_196.png',\n",
       " 'C108P69ThinF_IMG_20150924_225004_cell_20.png',\n",
       " 'C108P69ThinF_IMG_20150924_225004_cell_212.png',\n",
       " 'C108P69ThinF_IMG_20150924_225004_cell_25.png',\n",
       " 'C108P69ThinF_IMG_20150924_225004_cell_39.png',\n",
       " 'C108P69ThinF_IMG_20150924_225004_cell_45.png',\n",
       " 'C108P69ThinF_IMG_20150924_225004_cell_46.png',\n",
       " 'C108P69ThinF_IMG_20150924_225004_cell_57.png',\n",
       " 'C108P69ThinF_IMG_20150924_225004_cell_8.png',\n",
       " 'C108P69ThinF_IMG_20150924_225511_cell_1.png',\n",
       " 'C108P69ThinF_IMG_20150924_225511_cell_10.png',\n",
       " 'C108P69ThinF_IMG_20150924_225511_cell_128.png',\n",
       " 'C108P69ThinF_IMG_20150924_225511_cell_135.png',\n",
       " 'C108P69ThinF_IMG_20150924_225511_cell_139.png',\n",
       " 'C108P69ThinF_IMG_20150924_225511_cell_145.png',\n",
       " 'C108P69ThinF_IMG_20150924_225511_cell_159.png',\n",
       " 'C108P69ThinF_IMG_20150924_225511_cell_160.png',\n",
       " 'C108P69ThinF_IMG_20150924_225511_cell_180.png',\n",
       " 'C108P69ThinF_IMG_20150924_225511_cell_24.png',\n",
       " 'C108P69ThinF_IMG_20150924_225511_cell_99.png',\n",
       " 'C109P70ThinF_IMG_20150930_102716_cell_162.png',\n",
       " 'C109P70ThinF_IMG_20150930_102716_cell_183.png',\n",
       " 'C109P70ThinF_IMG_20150930_102716_cell_30.png',\n",
       " 'C109P70ThinF_IMG_20150930_102716_cell_46.png',\n",
       " 'C109P70ThinF_IMG_20150930_102716_cell_49.png',\n",
       " 'C109P70ThinF_IMG_20150930_102716_cell_63.png',\n",
       " 'C109P70ThinF_IMG_20150930_102716_cell_86.png',\n",
       " 'C109P70ThinF_IMG_20150930_102716_cell_90.png',\n",
       " 'C109P70ThinF_IMG_20150930_102812_cell_135.png',\n",
       " 'C109P70ThinF_IMG_20150930_102812_cell_136.png',\n",
       " 'C109P70ThinF_IMG_20150930_102812_cell_154.png',\n",
       " 'C109P70ThinF_IMG_20150930_102812_cell_164.png',\n",
       " 'C109P70ThinF_IMG_20150930_102812_cell_36.png',\n",
       " 'C109P70ThinF_IMG_20150930_102812_cell_45.png',\n",
       " 'C109P70ThinF_IMG_20150930_102812_cell_50.png',\n",
       " 'C109P70ThinF_IMG_20150930_102812_cell_51.png',\n",
       " 'C109P70ThinF_IMG_20150930_102812_cell_67.png',\n",
       " 'C109P70ThinF_IMG_20150930_102812_cell_72.png',\n",
       " 'C109P70ThinF_IMG_20150930_102944_cell_121.png',\n",
       " 'C109P70ThinF_IMG_20150930_102944_cell_127.png',\n",
       " 'C109P70ThinF_IMG_20150930_102944_cell_138.png',\n",
       " 'C109P70ThinF_IMG_20150930_102944_cell_148.png',\n",
       " 'C109P70ThinF_IMG_20150930_102944_cell_152.png',\n",
       " 'C109P70ThinF_IMG_20150930_102944_cell_155.png',\n",
       " 'C109P70ThinF_IMG_20150930_102944_cell_33.png',\n",
       " 'C109P70ThinF_IMG_20150930_102944_cell_46.png',\n",
       " 'C109P70ThinF_IMG_20150930_102944_cell_70.png',\n",
       " 'C109P70ThinF_IMG_20150930_103113_cell_103.png',\n",
       " 'C109P70ThinF_IMG_20150930_103113_cell_104.png',\n",
       " 'C109P70ThinF_IMG_20150930_103113_cell_136.png',\n",
       " 'C109P70ThinF_IMG_20150930_103113_cell_137.png',\n",
       " 'C109P70ThinF_IMG_20150930_103113_cell_15.png',\n",
       " 'C109P70ThinF_IMG_20150930_103113_cell_3.png',\n",
       " 'C109P70ThinF_IMG_20150930_103113_cell_56.png',\n",
       " 'C109P70ThinF_IMG_20150930_103214_cell_124.png',\n",
       " 'C109P70ThinF_IMG_20150930_103214_cell_14.png',\n",
       " 'C109P70ThinF_IMG_20150930_103214_cell_148.png',\n",
       " 'C109P70ThinF_IMG_20150930_103214_cell_161.png',\n",
       " 'C109P70ThinF_IMG_20150930_103214_cell_38.png',\n",
       " 'C109P70ThinF_IMG_20150930_103214_cell_54.png',\n",
       " 'C109P70ThinF_IMG_20150930_103214_cell_75.png',\n",
       " 'C109P70ThinF_IMG_20150930_103214_cell_83.png',\n",
       " 'C109P70ThinF_IMG_20150930_103214_cell_85.png',\n",
       " 'C109P70ThinF_IMG_20150930_103645_cell_10.png',\n",
       " 'C109P70ThinF_IMG_20150930_103645_cell_146.png',\n",
       " 'C109P70ThinF_IMG_20150930_103645_cell_155.png',\n",
       " 'C109P70ThinF_IMG_20150930_103645_cell_165.png',\n",
       " 'C109P70ThinF_IMG_20150930_103645_cell_167.png',\n",
       " 'C109P70ThinF_IMG_20150930_103645_cell_25.png',\n",
       " 'C109P70ThinF_IMG_20150930_103645_cell_76.png',\n",
       " 'C109P70ThinF_IMG_20150930_103645_cell_87.png',\n",
       " 'C109P70ThinF_IMG_20150930_103811_cell_104.png',\n",
       " 'C109P70ThinF_IMG_20150930_103811_cell_114.png',\n",
       " 'C109P70ThinF_IMG_20150930_103811_cell_126.png',\n",
       " 'C109P70ThinF_IMG_20150930_103811_cell_130.png',\n",
       " 'C109P70ThinF_IMG_20150930_103811_cell_31.png',\n",
       " 'C109P70ThinF_IMG_20150930_103811_cell_37.png',\n",
       " 'C109P70ThinF_IMG_20150930_103811_cell_63.png',\n",
       " 'C109P70ThinF_IMG_20150930_103811_cell_65.png',\n",
       " 'C109P70ThinF_IMG_20150930_103811_cell_66.png',\n",
       " 'C109P70ThinF_IMG_20150930_103811_cell_71.png',\n",
       " 'C110P71ThinF_IMG_20150930_105319_cell_103.png',\n",
       " 'C110P71ThinF_IMG_20150930_105319_cell_135.png',\n",
       " 'C110P71ThinF_IMG_20150930_105319_cell_137.png',\n",
       " 'C110P71ThinF_IMG_20150930_105319_cell_144.png',\n",
       " 'C110P71ThinF_IMG_20150930_105319_cell_145.png',\n",
       " 'C110P71ThinF_IMG_20150930_105319_cell_158.png',\n",
       " 'C110P71ThinF_IMG_20150930_105319_cell_163.png',\n",
       " 'C110P71ThinF_IMG_20150930_105319_cell_37.png',\n",
       " 'C110P71ThinF_IMG_20150930_105319_cell_5.png',\n",
       " 'C110P71ThinF_IMG_20150930_105319_cell_94.png',\n",
       " 'C110P71ThinF_IMG_20150930_105319_cell_97.png',\n",
       " 'C110P71ThinF_IMG_20150930_105559_cell_115.png',\n",
       " 'C110P71ThinF_IMG_20150930_105559_cell_137.png',\n",
       " 'C110P71ThinF_IMG_20150930_105559_cell_147.png',\n",
       " 'C110P71ThinF_IMG_20150930_105559_cell_156.png',\n",
       " 'C110P71ThinF_IMG_20150930_105559_cell_185.png',\n",
       " 'C110P71ThinF_IMG_20150930_105559_cell_186.png',\n",
       " 'C110P71ThinF_IMG_20150930_105559_cell_192.png',\n",
       " 'C110P71ThinF_IMG_20150930_105559_cell_45.png',\n",
       " 'C110P71ThinF_IMG_20150930_105559_cell_97.png',\n",
       " 'C110P71ThinF_IMG_20150930_105729_cell_117.png',\n",
       " 'C110P71ThinF_IMG_20150930_105729_cell_121.png',\n",
       " 'C110P71ThinF_IMG_20150930_105729_cell_156.png',\n",
       " 'C110P71ThinF_IMG_20150930_105729_cell_162.png',\n",
       " 'C110P71ThinF_IMG_20150930_105729_cell_167.png',\n",
       " 'C110P71ThinF_IMG_20150930_105729_cell_18.png',\n",
       " 'C110P71ThinF_IMG_20150930_105729_cell_201.png',\n",
       " 'C110P71ThinF_IMG_20150930_105729_cell_206.png',\n",
       " 'C110P71ThinF_IMG_20150930_105729_cell_33.png',\n",
       " 'C110P71ThinF_IMG_20150930_105925_cell_111.png',\n",
       " 'C110P71ThinF_IMG_20150930_105925_cell_12.png',\n",
       " 'C110P71ThinF_IMG_20150930_105925_cell_120.png',\n",
       " 'C110P71ThinF_IMG_20150930_105925_cell_124.png',\n",
       " 'C110P71ThinF_IMG_20150930_105925_cell_163.png',\n",
       " 'C110P71ThinF_IMG_20150930_105925_cell_209.png',\n",
       " 'C110P71ThinF_IMG_20150930_105925_cell_28.png',\n",
       " 'C110P71ThinF_IMG_20150930_105925_cell_40.png',\n",
       " 'C110P71ThinF_IMG_20150930_105925_cell_72.png',\n",
       " 'C110P71ThinF_IMG_20150930_105925_cell_86.png',\n",
       " 'C110P71ThinF_IMG_20150930_110052_cell_119.png',\n",
       " 'C110P71ThinF_IMG_20150930_110052_cell_130.png',\n",
       " 'C110P71ThinF_IMG_20150930_110052_cell_149.png',\n",
       " 'C110P71ThinF_IMG_20150930_110052_cell_166.png',\n",
       " 'C110P71ThinF_IMG_20150930_110052_cell_190.png',\n",
       " 'C110P71ThinF_IMG_20150930_110052_cell_196.png',\n",
       " 'C110P71ThinF_IMG_20150930_110052_cell_198.png',\n",
       " 'C110P71ThinF_IMG_20150930_110052_cell_20.png',\n",
       " 'C110P71ThinF_IMG_20150930_110052_cell_28.png',\n",
       " 'C110P71ThinF_IMG_20150930_110052_cell_54.png',\n",
       " 'C110P71ThinF_IMG_20150930_110052_cell_75.png',\n",
       " 'C110P71ThinF_IMG_20150930_110052_cell_83.png',\n",
       " 'C110P71ThinF_IMG_20150930_110404_cell_100.png',\n",
       " 'C110P71ThinF_IMG_20150930_110404_cell_117.png',\n",
       " 'C110P71ThinF_IMG_20150930_110404_cell_126.png',\n",
       " 'C110P71ThinF_IMG_20150930_110404_cell_13.png',\n",
       " 'C110P71ThinF_IMG_20150930_110404_cell_18.png',\n",
       " 'C110P71ThinF_IMG_20150930_110404_cell_30.png',\n",
       " 'C110P71ThinF_IMG_20150930_110404_cell_32.png',\n",
       " 'C110P71ThinF_IMG_20150930_110404_cell_70.png',\n",
       " 'C110P71ThinF_IMG_20150930_110404_cell_76.png',\n",
       " 'C110P71ThinF_IMG_20150930_110404_cell_8.png',\n",
       " 'C111P72ThinF_IMG_20150930_112430_cell_107.png',\n",
       " 'C111P72ThinF_IMG_20150930_112430_cell_114.png',\n",
       " 'C111P72ThinF_IMG_20150930_112430_cell_119.png',\n",
       " 'C111P72ThinF_IMG_20150930_112430_cell_161.png',\n",
       " 'C111P72ThinF_IMG_20150930_112430_cell_173.png',\n",
       " 'C111P72ThinF_IMG_20150930_112430_cell_175.png',\n",
       " 'C111P72ThinF_IMG_20150930_112430_cell_186.png',\n",
       " 'C111P72ThinF_IMG_20150930_112430_cell_45.png',\n",
       " 'C111P72ThinF_IMG_20150930_112609_cell_103.png',\n",
       " 'C111P72ThinF_IMG_20150930_112609_cell_107.png',\n",
       " 'C111P72ThinF_IMG_20150930_112609_cell_122.png',\n",
       " 'C111P72ThinF_IMG_20150930_112609_cell_155.png',\n",
       " 'C111P72ThinF_IMG_20150930_112609_cell_161.png',\n",
       " 'C111P72ThinF_IMG_20150930_112609_cell_55.png',\n",
       " 'C111P72ThinF_IMG_20150930_112609_cell_56.png',\n",
       " 'C111P72ThinF_IMG_20150930_112609_cell_69.png',\n",
       " 'C111P72ThinF_IMG_20150930_112609_cell_88.png',\n",
       " 'C111P72ThinF_IMG_20150930_112827_cell_1.png',\n",
       " 'C111P72ThinF_IMG_20150930_112827_cell_128.png',\n",
       " 'C111P72ThinF_IMG_20150930_112827_cell_141.png',\n",
       " 'C111P72ThinF_IMG_20150930_112827_cell_144.png',\n",
       " 'C111P72ThinF_IMG_20150930_112827_cell_15.png',\n",
       " 'C111P72ThinF_IMG_20150930_112827_cell_164.png',\n",
       " 'C111P72ThinF_IMG_20150930_112827_cell_37.png',\n",
       " 'C111P72ThinF_IMG_20150930_112827_cell_41.png',\n",
       " 'C111P72ThinF_IMG_20150930_112827_cell_64.png',\n",
       " 'C111P72ThinF_IMG_20150930_113003_cell_106.png',\n",
       " 'C111P72ThinF_IMG_20150930_113003_cell_125.png',\n",
       " 'C111P72ThinF_IMG_20150930_113003_cell_135.png',\n",
       " 'C111P72ThinF_IMG_20150930_113003_cell_136.png',\n",
       " 'C111P72ThinF_IMG_20150930_113003_cell_144.png',\n",
       " 'C111P72ThinF_IMG_20150930_113003_cell_156.png',\n",
       " 'C111P72ThinF_IMG_20150930_113003_cell_16.png',\n",
       " 'C111P72ThinF_IMG_20150930_113003_cell_41.png',\n",
       " 'C111P72ThinF_IMG_20150930_113003_cell_50.png',\n",
       " 'C111P72ThinF_IMG_20150930_113003_cell_75.png',\n",
       " 'C111P72ThinF_IMG_20150930_113049_cell_102.png',\n",
       " 'C111P72ThinF_IMG_20150930_113049_cell_12.png',\n",
       " 'C111P72ThinF_IMG_20150930_113049_cell_144.png',\n",
       " 'C111P72ThinF_IMG_20150930_113049_cell_2.png',\n",
       " 'C111P72ThinF_IMG_20150930_113049_cell_20.png',\n",
       " 'C111P72ThinF_IMG_20150930_113049_cell_30.png',\n",
       " 'C111P72ThinF_IMG_20150930_113049_cell_37.png',\n",
       " 'C111P72ThinF_IMG_20150930_113049_cell_66.png',\n",
       " 'C111P72ThinF_IMG_20150930_113049_cell_71.png',\n",
       " 'C111P72ThinF_IMG_20150930_113210_cell_145.png',\n",
       " 'C111P72ThinF_IMG_20150930_113210_cell_153.png',\n",
       " 'C111P72ThinF_IMG_20150930_113210_cell_160.png',\n",
       " 'C111P72ThinF_IMG_20150930_113210_cell_164.png',\n",
       " 'C111P72ThinF_IMG_20150930_113210_cell_18.png',\n",
       " 'C111P72ThinF_IMG_20150930_113210_cell_34.png',\n",
       " 'C111P72ThinF_IMG_20150930_113210_cell_4.png',\n",
       " 'C111P72ThinF_IMG_20150930_113210_cell_41.png',\n",
       " 'C111P72ThinF_IMG_20150930_113210_cell_45.png',\n",
       " 'C111P72ThinF_IMG_20150930_113610_cell_128.png',\n",
       " 'C111P72ThinF_IMG_20150930_113610_cell_134.png',\n",
       " 'C111P72ThinF_IMG_20150930_113610_cell_169.png',\n",
       " 'C111P72ThinF_IMG_20150930_113610_cell_196.png',\n",
       " 'C111P72ThinF_IMG_20150930_113610_cell_198.png',\n",
       " 'C111P72ThinF_IMG_20150930_113610_cell_29.png',\n",
       " 'C111P72ThinF_IMG_20150930_113610_cell_62.png',\n",
       " 'C111P72ThinF_IMG_20150930_113610_cell_9.png',\n",
       " 'C111P72ThinF_IMG_20150930_113610_cell_98.png',\n",
       " 'C111P72ThinF_IMG_20150930_113610_cell_99.png',\n",
       " 'C112P73ThinF_IMG_20150930_131254_cell_126.png',\n",
       " 'C112P73ThinF_IMG_20150930_131254_cell_137.png',\n",
       " 'C112P73ThinF_IMG_20150930_131254_cell_155.png',\n",
       " 'C112P73ThinF_IMG_20150930_131254_cell_167.png',\n",
       " 'C112P73ThinF_IMG_20150930_131254_cell_30.png',\n",
       " 'C112P73ThinF_IMG_20150930_131254_cell_37.png',\n",
       " 'C112P73ThinF_IMG_20150930_131254_cell_4.png',\n",
       " 'C112P73ThinF_IMG_20150930_131254_cell_46.png',\n",
       " 'C112P73ThinF_IMG_20150930_131254_cell_93.png',\n",
       " 'C112P73ThinF_IMG_20150930_131401_cell_14.png',\n",
       " 'C112P73ThinF_IMG_20150930_131401_cell_152.png',\n",
       " 'C112P73ThinF_IMG_20150930_131401_cell_160.png',\n",
       " 'C112P73ThinF_IMG_20150930_131401_cell_49.png',\n",
       " 'C112P73ThinF_IMG_20150930_131401_cell_62.png',\n",
       " 'C112P73ThinF_IMG_20150930_131401_cell_95.png',\n",
       " 'C112P73ThinF_IMG_20150930_131516_cell_1.png',\n",
       " 'C112P73ThinF_IMG_20150930_131516_cell_108.png',\n",
       " 'C112P73ThinF_IMG_20150930_131516_cell_109.png',\n",
       " 'C112P73ThinF_IMG_20150930_131516_cell_112.png',\n",
       " 'C112P73ThinF_IMG_20150930_131516_cell_119.png',\n",
       " 'C112P73ThinF_IMG_20150930_131516_cell_125.png',\n",
       " 'C112P73ThinF_IMG_20150930_131516_cell_156.png',\n",
       " 'C112P73ThinF_IMG_20150930_131516_cell_157.png',\n",
       " 'C112P73ThinF_IMG_20150930_131516_cell_57.png',\n",
       " 'C112P73ThinF_IMG_20150930_131516_cell_76.png',\n",
       " 'C112P73ThinF_IMG_20150930_131516_cell_93.png',\n",
       " 'C112P73ThinF_IMG_20150930_131605_cell_111.png',\n",
       " 'C112P73ThinF_IMG_20150930_131605_cell_117.png',\n",
       " 'C112P73ThinF_IMG_20150930_131605_cell_121.png',\n",
       " 'C112P73ThinF_IMG_20150930_131605_cell_142.png',\n",
       " 'C112P73ThinF_IMG_20150930_131605_cell_143.png',\n",
       " 'C112P73ThinF_IMG_20150930_131605_cell_146.png',\n",
       " 'C112P73ThinF_IMG_20150930_131605_cell_165.png',\n",
       " 'C112P73ThinF_IMG_20150930_131605_cell_176.png',\n",
       " 'C112P73ThinF_IMG_20150930_131605_cell_98.png',\n",
       " 'C112P73ThinF_IMG_20150930_131659_cell_125.png',\n",
       " 'C112P73ThinF_IMG_20150930_131659_cell_137.png',\n",
       " 'C112P73ThinF_IMG_20150930_131659_cell_143.png',\n",
       " 'C112P73ThinF_IMG_20150930_131659_cell_151.png',\n",
       " 'C112P73ThinF_IMG_20150930_131659_cell_190.png',\n",
       " 'C112P73ThinF_IMG_20150930_131659_cell_44.png',\n",
       " 'C112P73ThinF_IMG_20150930_131659_cell_54.png',\n",
       " 'C112P73ThinF_IMG_20150930_131659_cell_94.png',\n",
       " 'C112P73ThinF_IMG_20150930_131753_cell_104.png',\n",
       " 'C112P73ThinF_IMG_20150930_131753_cell_107.png',\n",
       " 'C112P73ThinF_IMG_20150930_131753_cell_22.png',\n",
       " 'C112P73ThinF_IMG_20150930_131753_cell_32.png',\n",
       " 'C112P73ThinF_IMG_20150930_131753_cell_60.png',\n",
       " 'C112P73ThinF_IMG_20150930_131753_cell_66.png',\n",
       " 'C112P73ThinF_IMG_20150930_131753_cell_72.png',\n",
       " 'C112P73ThinF_IMG_20150930_131753_cell_80.png',\n",
       " 'C112P73ThinF_IMG_20150930_131900_cell_111.png',\n",
       " 'C112P73ThinF_IMG_20150930_131900_cell_167.png',\n",
       " 'C112P73ThinF_IMG_20150930_131900_cell_172.png',\n",
       " 'C112P73ThinF_IMG_20150930_131900_cell_46.png',\n",
       " 'C112P73ThinF_IMG_20150930_131900_cell_62.png',\n",
       " 'C112P73ThinF_IMG_20150930_131900_cell_95.png',\n",
       " 'C113P74ThinF_IMG_20150930_134355_cell_117.png',\n",
       " 'C113P74ThinF_IMG_20150930_134355_cell_129.png',\n",
       " 'C113P74ThinF_IMG_20150930_134355_cell_16.png',\n",
       " 'C113P74ThinF_IMG_20150930_134355_cell_24.png',\n",
       " 'C113P74ThinF_IMG_20150930_134355_cell_42.png',\n",
       " 'C113P74ThinF_IMG_20150930_134355_cell_5.png',\n",
       " 'C113P74ThinF_IMG_20150930_134355_cell_77.png',\n",
       " 'C113P74ThinF_IMG_20150930_134355_cell_89.png',\n",
       " 'C113P74ThinF_IMG_20150930_134429_cell_114.png',\n",
       " 'C113P74ThinF_IMG_20150930_134429_cell_127.png',\n",
       " 'C113P74ThinF_IMG_20150930_134429_cell_152.png',\n",
       " 'C113P74ThinF_IMG_20150930_134429_cell_16.png',\n",
       " 'C113P74ThinF_IMG_20150930_134429_cell_31.png',\n",
       " 'C113P74ThinF_IMG_20150930_134429_cell_32.png',\n",
       " 'C113P74ThinF_IMG_20150930_134614_cell_138.png',\n",
       " 'C113P74ThinF_IMG_20150930_134614_cell_157.png',\n",
       " 'C113P74ThinF_IMG_20150930_134614_cell_4.png',\n",
       " 'C113P74ThinF_IMG_20150930_134614_cell_61.png',\n",
       " 'C113P74ThinF_IMG_20150930_134614_cell_78.png',\n",
       " 'C113P74ThinF_IMG_20150930_134614_cell_8.png',\n",
       " 'C113P74ThinF_IMG_20150930_134614_cell_81.png',\n",
       " 'C113P74ThinF_IMG_20150930_134614_cell_90.png',\n",
       " 'C113P74ThinF_IMG_20150930_134751_cell_105.png',\n",
       " 'C113P74ThinF_IMG_20150930_134751_cell_132.png',\n",
       " 'C113P74ThinF_IMG_20150930_134751_cell_149.png',\n",
       " 'C113P74ThinF_IMG_20150930_134751_cell_164.png',\n",
       " 'C113P74ThinF_IMG_20150930_134751_cell_30.png',\n",
       " 'C113P74ThinF_IMG_20150930_134751_cell_51.png',\n",
       " 'C113P74ThinF_IMG_20150930_134751_cell_57.png',\n",
       " 'C113P74ThinF_IMG_20150930_134751_cell_61.png',\n",
       " 'C113P74ThinF_IMG_20150930_134751_cell_83.png',\n",
       " 'C113P74ThinF_IMG_20150930_134751_cell_87.png',\n",
       " 'C113P74ThinF_IMG_20150930_134949_cell_108.png',\n",
       " 'C113P74ThinF_IMG_20150930_134949_cell_11.png',\n",
       " 'C113P74ThinF_IMG_20150930_134949_cell_129.png',\n",
       " 'C113P74ThinF_IMG_20150930_134949_cell_135.png',\n",
       " 'C113P74ThinF_IMG_20150930_134949_cell_157.png',\n",
       " 'C113P74ThinF_IMG_20150930_134949_cell_36.png',\n",
       " 'C113P74ThinF_IMG_20150930_134949_cell_38.png',\n",
       " 'C113P74ThinF_IMG_20150930_134949_cell_47.png',\n",
       " 'C113P74ThinF_IMG_20150930_134949_cell_60.png',\n",
       " 'C113P74ThinF_IMG_20150930_134949_cell_77.png',\n",
       " 'C113P74ThinF_IMG_20150930_135904_cell_126.png',\n",
       " 'C113P74ThinF_IMG_20150930_135904_cell_129.png',\n",
       " 'C113P74ThinF_IMG_20150930_135904_cell_147.png',\n",
       " 'C113P74ThinF_IMG_20150930_135904_cell_162.png',\n",
       " 'C113P74ThinF_IMG_20150930_135904_cell_18.png',\n",
       " 'C113P74ThinF_IMG_20150930_135904_cell_23.png',\n",
       " 'C113P74ThinF_IMG_20150930_135904_cell_25.png',\n",
       " 'C113P74ThinF_IMG_20150930_135904_cell_46.png',\n",
       " 'C113P74ThinF_IMG_20150930_135904_cell_60.png',\n",
       " 'C113P74ThinF_IMG_20150930_135904_cell_94.png',\n",
       " 'C113P74ThinF_IMG_20150930_140646_cell_111.png',\n",
       " 'C113P74ThinF_IMG_20150930_140646_cell_122.png',\n",
       " 'C113P74ThinF_IMG_20150930_140646_cell_147.png',\n",
       " 'C113P74ThinF_IMG_20150930_140646_cell_161.png',\n",
       " 'C113P74ThinF_IMG_20150930_140646_cell_28.png',\n",
       " 'C113P74ThinF_IMG_20150930_140646_cell_31.png',\n",
       " 'C113P74ThinF_IMG_20150930_140646_cell_52.png',\n",
       " 'C113P74ThinF_IMG_20150930_140646_cell_96.png',\n",
       " 'C114P75ThinF_IMG_20150930_150013_cell_102.png',\n",
       " 'C114P75ThinF_IMG_20150930_150013_cell_104.png',\n",
       " 'C114P75ThinF_IMG_20150930_150013_cell_107.png',\n",
       " 'C114P75ThinF_IMG_20150930_150013_cell_117.png',\n",
       " 'C114P75ThinF_IMG_20150930_150013_cell_130.png',\n",
       " 'C114P75ThinF_IMG_20150930_150013_cell_192.png',\n",
       " 'C114P75ThinF_IMG_20150930_150013_cell_68.png',\n",
       " 'C114P75ThinF_IMG_20150930_150057_cell_103.png',\n",
       " 'C114P75ThinF_IMG_20150930_150057_cell_113.png',\n",
       " 'C114P75ThinF_IMG_20150930_150057_cell_125.png',\n",
       " 'C114P75ThinF_IMG_20150930_150057_cell_139.png',\n",
       " 'C114P75ThinF_IMG_20150930_150057_cell_160.png',\n",
       " 'C114P75ThinF_IMG_20150930_150057_cell_22.png',\n",
       " 'C114P75ThinF_IMG_20150930_150057_cell_48.png',\n",
       " 'C114P75ThinF_IMG_20150930_150057_cell_93.png',\n",
       " 'C114P75ThinF_IMG_20150930_150145_cell_11.png',\n",
       " 'C114P75ThinF_IMG_20150930_150145_cell_111.png',\n",
       " 'C114P75ThinF_IMG_20150930_150145_cell_123.png',\n",
       " 'C114P75ThinF_IMG_20150930_150145_cell_154.png',\n",
       " 'C114P75ThinF_IMG_20150930_150145_cell_29.png',\n",
       " 'C114P75ThinF_IMG_20150930_150145_cell_40.png',\n",
       " 'C114P75ThinF_IMG_20150930_150145_cell_48.png',\n",
       " 'C114P75ThinF_IMG_20150930_150145_cell_6.png',\n",
       " 'C114P75ThinF_IMG_20150930_150145_cell_77.png',\n",
       " 'C114P75ThinF_IMG_20150930_150555_cell_102.png',\n",
       " 'C114P75ThinF_IMG_20150930_150555_cell_127.png',\n",
       " 'C114P75ThinF_IMG_20150930_150555_cell_129.png',\n",
       " 'C114P75ThinF_IMG_20150930_150555_cell_141.png',\n",
       " 'C114P75ThinF_IMG_20150930_150555_cell_24.png',\n",
       " 'C114P75ThinF_IMG_20150930_150555_cell_32.png',\n",
       " 'C114P75ThinF_IMG_20150930_150555_cell_46.png',\n",
       " 'C114P75ThinF_IMG_20150930_150555_cell_6.png',\n",
       " 'C114P75ThinF_IMG_20150930_150555_cell_78.png',\n",
       " 'C114P75ThinF_IMG_20150930_150555_cell_87.png',\n",
       " 'C114P75ThinF_IMG_20150930_150733_cell_116.png',\n",
       " 'C114P75ThinF_IMG_20150930_150733_cell_120.png',\n",
       " 'C114P75ThinF_IMG_20150930_150733_cell_127.png',\n",
       " 'C114P75ThinF_IMG_20150930_150733_cell_19.png',\n",
       " 'C114P75ThinF_IMG_20150930_150733_cell_21.png',\n",
       " 'C114P75ThinF_IMG_20150930_150733_cell_5.png',\n",
       " 'C114P75ThinF_IMG_20150930_150733_cell_62.png',\n",
       " 'C114P75ThinF_IMG_20150930_150733_cell_7.png',\n",
       " 'C114P75ThinF_IMG_20150930_150733_cell_76.png',\n",
       " 'C114P75ThinF_IMG_20150930_150733_cell_80.png',\n",
       " 'C114P75ThinF_IMG_20150930_150833_cell_100.png',\n",
       " 'C114P75ThinF_IMG_20150930_150833_cell_103.png',\n",
       " 'C114P75ThinF_IMG_20150930_150833_cell_140.png',\n",
       " 'C114P75ThinF_IMG_20150930_150833_cell_23.png',\n",
       " 'C114P75ThinF_IMG_20150930_150833_cell_26.png',\n",
       " 'C114P75ThinF_IMG_20150930_150833_cell_34.png',\n",
       " 'C114P75ThinF_IMG_20150930_150833_cell_36.png',\n",
       " 'C114P75ThinF_IMG_20150930_150833_cell_58.png',\n",
       " 'C114P75ThinF_IMG_20150930_150833_cell_73.png',\n",
       " 'C114P75ThinF_IMG_20150930_151150_cell_104.png',\n",
       " 'C114P75ThinF_IMG_20150930_151150_cell_111.png',\n",
       " 'C114P75ThinF_IMG_20150930_151150_cell_153.png',\n",
       " 'C114P75ThinF_IMG_20150930_151150_cell_19.png',\n",
       " 'C114P75ThinF_IMG_20150930_151150_cell_24.png',\n",
       " 'C114P75ThinF_IMG_20150930_151150_cell_37.png',\n",
       " 'C114P75ThinF_IMG_20150930_151150_cell_48.png',\n",
       " 'C114P75ThinF_IMG_20150930_151150_cell_74.png',\n",
       " 'C115P76ThinF_IMG_20150930_161825_cell_108.png',\n",
       " 'C115P76ThinF_IMG_20150930_161825_cell_119.png',\n",
       " 'C115P76ThinF_IMG_20150930_161825_cell_125.png',\n",
       " 'C115P76ThinF_IMG_20150930_161825_cell_126.png',\n",
       " 'C115P76ThinF_IMG_20150930_161825_cell_128.png',\n",
       " 'C115P76ThinF_IMG_20150930_161825_cell_167.png',\n",
       " 'C115P76ThinF_IMG_20150930_161825_cell_191.png',\n",
       " 'C115P76ThinF_IMG_20150930_161825_cell_198.png',\n",
       " 'C115P76ThinF_IMG_20150930_161825_cell_2.png',\n",
       " 'C115P76ThinF_IMG_20150930_161825_cell_25.png',\n",
       " 'C115P76ThinF_IMG_20150930_161825_cell_51.png',\n",
       " 'C115P76ThinF_IMG_20150930_161825_cell_94.png',\n",
       " 'C115P76ThinF_IMG_20150930_162038_cell_121.png',\n",
       " 'C115P76ThinF_IMG_20150930_162038_cell_15.png',\n",
       " 'C115P76ThinF_IMG_20150930_162038_cell_156.png',\n",
       " 'C115P76ThinF_IMG_20150930_162038_cell_167.png',\n",
       " 'C115P76ThinF_IMG_20150930_162038_cell_171.png',\n",
       " 'C115P76ThinF_IMG_20150930_162038_cell_18.png',\n",
       " 'C115P76ThinF_IMG_20150930_162038_cell_183.png',\n",
       " 'C115P76ThinF_IMG_20150930_162038_cell_198.png',\n",
       " 'C115P76ThinF_IMG_20150930_162038_cell_25.png',\n",
       " 'C115P76ThinF_IMG_20150930_162038_cell_36.png',\n",
       " 'C115P76ThinF_IMG_20150930_162038_cell_62.png',\n",
       " 'C115P76ThinF_IMG_20150930_162038_cell_68.png',\n",
       " 'C115P76ThinF_IMG_20150930_162038_cell_9.png',\n",
       " 'C115P76ThinF_IMG_20150930_162315_cell_151.png',\n",
       " 'C115P76ThinF_IMG_20150930_162315_cell_215.png',\n",
       " 'C115P76ThinF_IMG_20150930_162315_cell_218.png',\n",
       " 'C115P76ThinF_IMG_20150930_162315_cell_230.png',\n",
       " 'C115P76ThinF_IMG_20150930_162315_cell_243.png',\n",
       " 'C115P76ThinF_IMG_20150930_162315_cell_25.png',\n",
       " 'C115P76ThinF_IMG_20150930_162315_cell_254.png',\n",
       " 'C115P76ThinF_IMG_20150930_162315_cell_45.png',\n",
       " 'C115P76ThinF_IMG_20150930_162315_cell_9.png',\n",
       " 'C115P76ThinF_IMG_20150930_162315_cell_91.png',\n",
       " 'C115P76ThinF_IMG_20150930_162315_cell_99.png',\n",
       " 'C115P76ThinF_IMG_20150930_163018_cell_103.png',\n",
       " 'C115P76ThinF_IMG_20150930_163018_cell_113.png',\n",
       " 'C115P76ThinF_IMG_20150930_163018_cell_123.png',\n",
       " 'C115P76ThinF_IMG_20150930_163018_cell_147.png',\n",
       " 'C115P76ThinF_IMG_20150930_163018_cell_157.png',\n",
       " 'C115P76ThinF_IMG_20150930_163018_cell_177.png',\n",
       " 'C115P76ThinF_IMG_20150930_163018_cell_187.png',\n",
       " 'C115P76ThinF_IMG_20150930_163018_cell_208.png',\n",
       " 'C115P76ThinF_IMG_20150930_163018_cell_211.png',\n",
       " 'C115P76ThinF_IMG_20150930_163018_cell_221.png',\n",
       " 'C115P76ThinF_IMG_20150930_163018_cell_232.png',\n",
       " 'C115P76ThinF_IMG_20150930_163018_cell_36.png',\n",
       " 'C115P76ThinF_IMG_20150930_163156_cell_163.png',\n",
       " 'C115P76ThinF_IMG_20150930_163156_cell_197.png',\n",
       " 'C115P76ThinF_IMG_20150930_163156_cell_204.png',\n",
       " 'C115P76ThinF_IMG_20150930_163156_cell_214.png',\n",
       " 'C115P76ThinF_IMG_20150930_163156_cell_221.png',\n",
       " 'C115P76ThinF_IMG_20150930_163156_cell_229.png',\n",
       " 'C115P76ThinF_IMG_20150930_163156_cell_25.png',\n",
       " 'C115P76ThinF_IMG_20150930_163156_cell_75.png',\n",
       " 'C115P76ThinF_IMG_20150930_163156_cell_76.png',\n",
       " 'C115P76ThinF_IMG_20150930_163156_cell_80.png',\n",
       " 'C115P76ThinF_IMG_20150930_163156_cell_85.png',\n",
       " 'C115P76ThinF_IMG_20150930_163156_cell_90.png',\n",
       " 'C116P77ThinF_IMG_20150930_171219_cell_10.png',\n",
       " 'C116P77ThinF_IMG_20150930_171219_cell_21.png',\n",
       " 'C116P77ThinF_IMG_20150930_171219_cell_33.png',\n",
       " 'C116P77ThinF_IMG_20150930_171219_cell_34.png',\n",
       " 'C116P77ThinF_IMG_20150930_171219_cell_39.png',\n",
       " 'C116P77ThinF_IMG_20150930_171219_cell_6.png',\n",
       " 'C116P77ThinF_IMG_20150930_171219_cell_65.png',\n",
       " 'C116P77ThinF_IMG_20150930_171219_cell_69.png',\n",
       " 'C116P77ThinF_IMG_20150930_171448_cell_39.png',\n",
       " 'C116P77ThinF_IMG_20150930_171448_cell_48.png',\n",
       " 'C116P77ThinF_IMG_20150930_171448_cell_53.png',\n",
       " 'C116P77ThinF_IMG_20150930_171448_cell_7.png',\n",
       " 'C116P77ThinF_IMG_20150930_171448_cell_72.png',\n",
       " 'C116P77ThinF_IMG_20150930_171448_cell_81.png',\n",
       " ...]"
      ]
     },
     "execution_count": 15,
     "metadata": {},
     "output_type": "execute_result"
    }
   ],
   "source": [
    "os.listdir(train_path+'\\\\uninfected')"
   ]
  },
  {
   "cell_type": "code",
   "execution_count": 16,
   "metadata": {},
   "outputs": [],
   "source": [
    "uninfected_cell_path = train_path+'\\\\uninfected\\\\'+os.listdir(train_path+'\\\\uninfected')[7]"
   ]
  },
  {
   "cell_type": "code",
   "execution_count": 17,
   "metadata": {
    "collapsed": true
   },
   "outputs": [
    {
     "data": {
      "text/plain": [
       "array([[[0., 0., 0.],\n",
       "        [0., 0., 0.],\n",
       "        [0., 0., 0.],\n",
       "        ...,\n",
       "        [0., 0., 0.],\n",
       "        [0., 0., 0.],\n",
       "        [0., 0., 0.]],\n",
       "\n",
       "       [[0., 0., 0.],\n",
       "        [0., 0., 0.],\n",
       "        [0., 0., 0.],\n",
       "        ...,\n",
       "        [0., 0., 0.],\n",
       "        [0., 0., 0.],\n",
       "        [0., 0., 0.]],\n",
       "\n",
       "       [[0., 0., 0.],\n",
       "        [0., 0., 0.],\n",
       "        [0., 0., 0.],\n",
       "        ...,\n",
       "        [0., 0., 0.],\n",
       "        [0., 0., 0.],\n",
       "        [0., 0., 0.]],\n",
       "\n",
       "       ...,\n",
       "\n",
       "       [[0., 0., 0.],\n",
       "        [0., 0., 0.],\n",
       "        [0., 0., 0.],\n",
       "        ...,\n",
       "        [0., 0., 0.],\n",
       "        [0., 0., 0.],\n",
       "        [0., 0., 0.]],\n",
       "\n",
       "       [[0., 0., 0.],\n",
       "        [0., 0., 0.],\n",
       "        [0., 0., 0.],\n",
       "        ...,\n",
       "        [0., 0., 0.],\n",
       "        [0., 0., 0.],\n",
       "        [0., 0., 0.]],\n",
       "\n",
       "       [[0., 0., 0.],\n",
       "        [0., 0., 0.],\n",
       "        [0., 0., 0.],\n",
       "        ...,\n",
       "        [0., 0., 0.],\n",
       "        [0., 0., 0.],\n",
       "        [0., 0., 0.]]], dtype=float32)"
      ]
     },
     "execution_count": 17,
     "metadata": {},
     "output_type": "execute_result"
    }
   ],
   "source": [
    "imread(uninfected_cell_path)"
   ]
  },
  {
   "cell_type": "code",
   "execution_count": 22,
   "metadata": {},
   "outputs": [
    {
     "data": {
      "image/png": "[encoded data removed]",
      "text/plain": [
       "<Figure size 432x288 with 1 Axes>"
      ]
     },
     "metadata": {
      "needs_background": "light"
     },
     "output_type": "display_data"
    }
   ],
   "source": [
    "unifected_cell = imread(uninfected_cell_path)\n",
    "plt.imshow(unifected_cell);"
   ]
  },
  {
   "cell_type": "markdown",
   "metadata": {},
   "source": [
    "**Let's check how many images there are.**"
   ]
  },
  {
   "cell_type": "code",
   "execution_count": 23,
   "metadata": {},
   "outputs": [
    {
     "data": {
      "text/plain": [
       "12479"
      ]
     },
     "execution_count": 23,
     "metadata": {},
     "output_type": "execute_result"
    }
   ],
   "source": [
    "len(os.listdir(train_path+'\\\\parasitized'))"
   ]
  },
  {
   "cell_type": "code",
   "execution_count": 24,
   "metadata": {},
   "outputs": [
    {
     "data": {
      "text/plain": [
       "12479"
      ]
     },
     "execution_count": 24,
     "metadata": {},
     "output_type": "execute_result"
    }
   ],
   "source": [
    "len(os.listdir(train_path+'\\\\uninfected'))"
   ]
  },
  {
   "cell_type": "markdown",
   "metadata": {},
   "source": [
    "**Let's find out the average dimensions of these images.**"
   ]
  },
  {
   "cell_type": "code",
   "execution_count": 25,
   "metadata": {},
   "outputs": [
    {
     "data": {
      "text/plain": [
       "(136, 148, 3)"
      ]
     },
     "execution_count": 25,
     "metadata": {},
     "output_type": "execute_result"
    }
   ],
   "source": [
    "unifected_cell.shape"
   ]
  },
  {
   "cell_type": "code",
   "execution_count": 26,
   "metadata": {},
   "outputs": [
    {
     "data": {
      "text/plain": [
       "(124, 154, 3)"
      ]
     },
     "execution_count": 26,
     "metadata": {},
     "output_type": "execute_result"
    }
   ],
   "source": [
    "para_img.shape"
   ]
  },
  {
   "cell_type": "code",
   "execution_count": 27,
   "metadata": {},
   "outputs": [],
   "source": [
    "x= []\n",
    "y = []\n",
    "for image in os.listdir(test_path+'\\\\uninfected'):\n",
    "    \n",
    "    img = imread(test_path+'\\\\uninfected'+'\\\\'+image)\n",
    "    d1, d2, colors = img.shape\n",
    "    x.append(d1)\n",
    "    y.append(d2)"
   ]
  },
  {
   "cell_type": "code",
   "execution_count": 28,
   "metadata": {},
   "outputs": [
    {
     "data": {
      "text/plain": [
       "1300"
      ]
     },
     "execution_count": 28,
     "metadata": {},
     "output_type": "execute_result"
    }
   ],
   "source": [
    "len(y)"
   ]
  },
  {
   "cell_type": "code",
   "execution_count": 29,
   "metadata": {},
   "outputs": [
    {
     "data": {
      "text/plain": [
       "1300"
      ]
     },
     "execution_count": 29,
     "metadata": {},
     "output_type": "execute_result"
    }
   ],
   "source": [
    "len(x)"
   ]
  },
  {
   "cell_type": "code",
   "execution_count": 30,
   "metadata": {},
   "outputs": [
    {
     "data": {
      "text/plain": [
       "<AxesSubplot:>"
      ]
     },
     "execution_count": 30,
     "metadata": {},
     "output_type": "execute_result"
    },
    {
     "data": {
      "image/png": "[encoded data removed]",
      "text/plain": [
       "<Figure size 432x288 with 1 Axes>"
      ]
     },
     "metadata": {
      "needs_background": "light"
     },
     "output_type": "display_data"
    }
   ],
   "source": [
    "sns.scatterplot(x,y, hue=y)"
   ]
  },
  {
   "cell_type": "code",
   "execution_count": 31,
   "metadata": {},
   "outputs": [
    {
     "data": {
      "text/plain": [
       "130.92538461538462"
      ]
     },
     "execution_count": 31,
     "metadata": {},
     "output_type": "execute_result"
    }
   ],
   "source": [
    "np.mean(x)"
   ]
  },
  {
   "cell_type": "code",
   "execution_count": 32,
   "metadata": {},
   "outputs": [
    {
     "data": {
      "text/plain": [
       "130.75"
      ]
     },
     "execution_count": 32,
     "metadata": {},
     "output_type": "execute_result"
    }
   ],
   "source": [
    "np.mean(y)"
   ]
  },
  {
   "cell_type": "code",
   "execution_count": 33,
   "metadata": {},
   "outputs": [],
   "source": [
    "image_shape = (130,130,3)"
   ]
  },
  {
   "cell_type": "markdown",
   "metadata": {},
   "source": [
    "## Preparing the Data for the model"
   ]
  },
  {
   "cell_type": "code",
   "execution_count": 34,
   "metadata": {},
   "outputs": [
    {
     "data": {
      "text/plain": [
       "0.88235295"
      ]
     },
     "execution_count": 34,
     "metadata": {},
     "output_type": "execute_result"
    }
   ],
   "source": [
    "unifected_cell.max()"
   ]
  },
  {
   "cell_type": "code",
   "execution_count": 35,
   "metadata": {},
   "outputs": [
    {
     "data": {
      "text/plain": [
       "0.8901961"
      ]
     },
     "execution_count": 35,
     "metadata": {},
     "output_type": "execute_result"
    }
   ],
   "source": [
    "para_img.max()"
   ]
  },
  {
   "cell_type": "code",
   "execution_count": 36,
   "metadata": {},
   "outputs": [],
   "source": [
    "from tensorflow.keras.preprocessing.image import ImageDataGenerator"
   ]
  },
  {
   "cell_type": "code",
   "execution_count": 32,
   "metadata": {},
   "outputs": [],
   "source": [
    "#help(ImageDataGenerator)"
   ]
  },
  {
   "cell_type": "code",
   "execution_count": 37,
   "metadata": {},
   "outputs": [],
   "source": [
    "image_gen = ImageDataGenerator(rotation_range=15, \n",
    "                               width_shift_range=0.10, \n",
    "                               height_shift_range=0.10, \n",
    "                               #rescale=1/255, \n",
    "                               shear_range=0.1, \n",
    "                               zoom_range=0.1, \n",
    "                               horizontal_flip=True, \n",
    "                               fill_mode='nearest')"
   ]
  },
  {
   "cell_type": "code",
   "execution_count": 45,
   "metadata": {},
   "outputs": [
    {
     "data": {
      "text/plain": [
       "<matplotlib.image.AxesImage at 0x1f5e7b9f460>"
      ]
     },
     "execution_count": 45,
     "metadata": {},
     "output_type": "execute_result"
    },
    {
     "data": {
      "image/png": "[encoded data removed]",
      "text/plain": [
       "<Figure size 432x288 with 1 Axes>"
      ]
     },
     "metadata": {
      "needs_background": "light"
     },
     "output_type": "display_data"
    }
   ],
   "source": [
    "plt.imshow(para_img)"
   ]
  },
  {
   "cell_type": "code",
   "execution_count": 46,
   "metadata": {},
   "outputs": [
    {
     "data": {
      "text/plain": [
       "<matplotlib.image.AxesImage at 0x1f5e8bc2a90>"
      ]
     },
     "execution_count": 46,
     "metadata": {},
     "output_type": "execute_result"
    },
    {
     "data": {
      "image/png": "[encoded data removed]",
      "text/plain": [
       "<Figure size 432x288 with 1 Axes>"
      ]
     },
     "metadata": {
      "needs_background": "light"
     },
     "output_type": "display_data"
    }
   ],
   "source": [
    "plt.imshow(image_gen.random_transform(para_img))"
   ]
  },
  {
   "cell_type": "code",
   "execution_count": 38,
   "metadata": {},
   "outputs": [
    {
     "name": "stdout",
     "output_type": "stream",
     "text": [
      "Found 24958 images belonging to 2 classes.\n"
     ]
    },
    {
     "data": {
      "text/plain": [
       "<keras.preprocessing.image.DirectoryIterator at 0x1bec122e1f0>"
      ]
     },
     "execution_count": 38,
     "metadata": {},
     "output_type": "execute_result"
    }
   ],
   "source": [
    "image_gen.flow_from_directory(train_path)"
   ]
  },
  {
   "cell_type": "code",
   "execution_count": 39,
   "metadata": {},
   "outputs": [
    {
     "name": "stdout",
     "output_type": "stream",
     "text": [
      "Found 2600 images belonging to 2 classes.\n"
     ]
    },
    {
     "data": {
      "text/plain": [
       "<keras.preprocessing.image.DirectoryIterator at 0x1bec2f34850>"
      ]
     },
     "execution_count": 39,
     "metadata": {},
     "output_type": "execute_result"
    }
   ],
   "source": [
    "image_gen.flow_from_directory(test_path)"
   ]
  },
  {
   "cell_type": "markdown",
   "metadata": {},
   "source": [
    "# Creating the Model"
   ]
  },
  {
   "cell_type": "code",
   "execution_count": 40,
   "metadata": {},
   "outputs": [],
   "source": [
    "from tensorflow.keras.models import Sequential\n",
    "from tensorflow.keras.layers import Activation, Dropout, Flatten, Dense, Conv2D, MaxPooling2D"
   ]
  },
  {
   "cell_type": "code",
   "execution_count": 41,
   "metadata": {},
   "outputs": [],
   "source": [
    "model = Sequential()\n",
    "\n",
    "model.add(Conv2D(filters=32, \n",
    "                 kernel_size=(3,3),\n",
    "                 input_shape=image_shape, \n",
    "                 activation='relu',))\n",
    "model.add(MaxPooling2D(pool_size=(2, 2)))\n",
    "\n",
    "model.add(Conv2D(filters=64, \n",
    "                 kernel_size=(3,3),\n",
    "                 input_shape=image_shape, \n",
    "                 activation='relu',))\n",
    "model.add(MaxPooling2D(pool_size=(2, 2)))\n",
    "\n",
    "model.add(Conv2D(filters=64, \n",
    "                 kernel_size=(3,3),\n",
    "                 input_shape=image_shape, \n",
    "                 activation='relu',))\n",
    "model.add(MaxPooling2D(pool_size=(2, 2)))\n",
    "\n",
    "model.add(Flatten())\n",
    "\n",
    "model.add(Dense(128))\n",
    "model.add(Activation('relu'))\n",
    "model.add(Dropout(0.5))\n",
    "\n",
    "model.add(Dense(1))\n",
    "model.add(Activation('sigmoid'))\n",
    "\n",
    "model.compile(loss='binary_crossentropy',\n",
    "              optimizer='adam',\n",
    "              metrics=['accuracy'])"
   ]
  },
  {
   "cell_type": "code",
   "execution_count": 42,
   "metadata": {},
   "outputs": [
    {
     "name": "stdout",
     "output_type": "stream",
     "text": [
      "Model: \"sequential\"\n",
      "_________________________________________________________________\n",
      "Layer (type)                 Output Shape              Param #   \n",
      "=================================================================\n",
      "conv2d (Conv2D)              (None, 128, 128, 32)      896       \n",
      "_________________________________________________________________\n",
      "max_pooling2d (MaxPooling2D) (None, 64, 64, 32)        0         \n",
      "_________________________________________________________________\n",
      "conv2d_1 (Conv2D)            (None, 62, 62, 64)        18496     \n",
      "_________________________________________________________________\n",
      "max_pooling2d_1 (MaxPooling2 (None, 31, 31, 64)        0         \n",
      "_________________________________________________________________\n",
      "conv2d_2 (Conv2D)            (None, 29, 29, 64)        36928     \n",
      "_________________________________________________________________\n",
      "max_pooling2d_2 (MaxPooling2 (None, 14, 14, 64)        0         \n",
      "_________________________________________________________________\n",
      "flatten (Flatten)            (None, 12544)             0         \n",
      "_________________________________________________________________\n",
      "dense (Dense)                (None, 128)               1605760   \n",
      "_________________________________________________________________\n",
      "activation (Activation)      (None, 128)               0         \n",
      "_________________________________________________________________\n",
      "dropout (Dropout)            (None, 128)               0         \n",
      "_________________________________________________________________\n",
      "dense_1 (Dense)              (None, 1)                 129       \n",
      "_________________________________________________________________\n",
      "activation_1 (Activation)    (None, 1)                 0         \n",
      "=================================================================\n",
      "Total params: 1,662,209\n",
      "Trainable params: 1,662,209\n",
      "Non-trainable params: 0\n",
      "_________________________________________________________________\n"
     ]
    }
   ],
   "source": [
    "model.summary()"
   ]
  },
  {
   "cell_type": "markdown",
   "metadata": {},
   "source": [
    "## Early Stopping"
   ]
  },
  {
   "cell_type": "code",
   "execution_count": 43,
   "metadata": {},
   "outputs": [],
   "source": [
    "from tensorflow.keras.callbacks import EarlyStopping"
   ]
  },
  {
   "cell_type": "code",
   "execution_count": 44,
   "metadata": {},
   "outputs": [],
   "source": [
    "early_stop = EarlyStopping(monitor='val_loss',patience=2)"
   ]
  },
  {
   "cell_type": "markdown",
   "metadata": {},
   "source": [
    "## Training the Model"
   ]
  },
  {
   "cell_type": "code",
   "execution_count": 45,
   "metadata": {},
   "outputs": [],
   "source": [
    "#help(image_gen.flow_from_directory)"
   ]
  },
  {
   "cell_type": "code",
   "execution_count": 46,
   "metadata": {},
   "outputs": [
    {
     "data": {
      "text/plain": [
       "(130, 130)"
      ]
     },
     "execution_count": 46,
     "metadata": {},
     "output_type": "execute_result"
    }
   ],
   "source": [
    "image_shape[:2]"
   ]
  },
  {
   "cell_type": "code",
   "execution_count": 48,
   "metadata": {},
   "outputs": [
    {
     "name": "stdout",
     "output_type": "stream",
     "text": [
      "Found 24958 images belonging to 2 classes.\n"
     ]
    }
   ],
   "source": [
    "batch_size = 16\n",
    "train_image_gen = image_gen.flow_from_directory(train_path,\n",
    "                                               target_size=image_shape[:2],\n",
    "                                                color_mode='rgb',\n",
    "                                               batch_size=batch_size,\n",
    "                                               class_mode='binary')"
   ]
  },
  {
   "cell_type": "code",
   "execution_count": 49,
   "metadata": {},
   "outputs": [
    {
     "name": "stdout",
     "output_type": "stream",
     "text": [
      "Found 2600 images belonging to 2 classes.\n"
     ]
    }
   ],
   "source": [
    "test_image_gen = image_gen.flow_from_directory(test_path,\n",
    "                                               target_size=image_shape[:2],\n",
    "                                               color_mode='rgb',\n",
    "                                               batch_size=batch_size,\n",
    "                                               class_mode='binary',shuffle=False)"
   ]
  },
  {
   "cell_type": "code",
   "execution_count": 50,
   "metadata": {},
   "outputs": [
    {
     "data": {
      "text/plain": [
       "{'parasitized': 0, 'uninfected': 1}"
      ]
     },
     "execution_count": 50,
     "metadata": {},
     "output_type": "execute_result"
    }
   ],
   "source": [
    "train_image_gen.class_indices"
   ]
  },
  {
   "cell_type": "code",
   "execution_count": 51,
   "metadata": {
    "scrolled": false
   },
   "outputs": [
    {
     "name": "stdout",
     "output_type": "stream",
     "text": [
      "Epoch 1/20\n",
      "1560/1560 [==============================] - 272s 174ms/step - loss: 0.7957 - accuracy: 0.5511 - val_loss: 0.6818 - val_accuracy: 0.5785\n",
      "Epoch 2/20\n",
      "1560/1560 [==============================] - 156s 100ms/step - loss: 0.6795 - accuracy: 0.5802 - val_loss: 0.6800 - val_accuracy: 0.5827\n",
      "Epoch 3/20\n",
      "1560/1560 [==============================] - 155s 99ms/step - loss: 0.6747 - accuracy: 0.5840 - val_loss: 0.6731 - val_accuracy: 0.5977\n",
      "Epoch 4/20\n",
      "1560/1560 [==============================] - 156s 100ms/step - loss: 0.6852 - accuracy: 0.5896 - val_loss: 0.6747 - val_accuracy: 0.5915\n",
      "Epoch 5/20\n",
      "1560/1560 [==============================] - 160s 103ms/step - loss: 0.6672 - accuracy: 0.6025 - val_loss: 0.6554 - val_accuracy: 0.6135\n",
      "Epoch 6/20\n",
      "1560/1560 [==============================] - 160s 103ms/step - loss: 0.4045 - accuracy: 0.8113 - val_loss: 0.2039 - val_accuracy: 0.9323\n",
      "Epoch 7/20\n",
      "1560/1560 [==============================] - 163s 105ms/step - loss: 0.1911 - accuracy: 0.9399 - val_loss: 0.1943 - val_accuracy: 0.9285\n",
      "Epoch 8/20\n",
      "1560/1560 [==============================] - 159s 102ms/step - loss: 0.1870 - accuracy: 0.9405 - val_loss: 0.1973 - val_accuracy: 0.9431\n",
      "Epoch 9/20\n",
      "1560/1560 [==============================] - 153s 98ms/step - loss: 0.1835 - accuracy: 0.9428 - val_loss: 0.1676 - val_accuracy: 0.9446\n",
      "Epoch 10/20\n",
      "1560/1560 [==============================] - 151s 97ms/step - loss: 0.1704 - accuracy: 0.9470 - val_loss: 0.1690 - val_accuracy: 0.9465\n",
      "Epoch 11/20\n",
      "1560/1560 [==============================] - 150s 96ms/step - loss: 0.1687 - accuracy: 0.9473 - val_loss: 0.1599 - val_accuracy: 0.9458\n",
      "Epoch 12/20\n",
      "1560/1560 [==============================] - 152s 97ms/step - loss: 0.1686 - accuracy: 0.9468 - val_loss: 0.1832 - val_accuracy: 0.9419\n",
      "Epoch 13/20\n",
      "1560/1560 [==============================] - 148s 95ms/step - loss: 0.1704 - accuracy: 0.9469 - val_loss: 0.1787 - val_accuracy: 0.9462\n"
     ]
    }
   ],
   "source": [
    "results = model.fit_generator(train_image_gen,\n",
    "                              epochs=20,\n",
    "                              validation_data=test_image_gen, \n",
    "                              callbacks=[early_stop])"
   ]
  },
  {
   "cell_type": "markdown",
   "metadata": {},
   "source": [
    "# Evaluating the Model"
   ]
  },
  {
   "cell_type": "code",
   "execution_count": 61,
   "metadata": {},
   "outputs": [
    {
     "data": {
      "text/html": [
       "<div>\n",
       "<style scoped>\n",
       "    .dataframe tbody tr th:only-of-type {\n",
       "        vertical-align: middle;\n",
       "    }\n",
       "\n",
       "    .dataframe tbody tr th {\n",
       "        vertical-align: top;\n",
       "    }\n",
       "\n",
       "    .dataframe thead th {\n",
       "        text-align: right;\n",
       "    }\n",
       "</style>\n",
       "<table border=\"1\" class=\"dataframe\">\n",
       "  <thead>\n",
       "    <tr style=\"text-align: right;\">\n",
       "      <th></th>\n",
       "    </tr>\n",
       "  </thead>\n",
       "  <tbody>\n",
       "  </tbody>\n",
       "</table>\n",
       "</div>"
      ],
      "text/plain": [
       "Empty DataFrame\n",
       "Columns: []\n",
       "Index: []"
      ]
     },
     "execution_count": 61,
     "metadata": {},
     "output_type": "execute_result"
    }
   ],
   "source": [
    "summary = pd.DataFrame(model.history.history)\n",
    "summary.head()"
   ]
  },
  {
   "cell_type": "code",
   "execution_count": 60,
   "metadata": {},
   "outputs": [
    {
     "ename": "AttributeError",
     "evalue": "'DataFrame' object has no attribute 'loss'",
     "output_type": "error",
     "traceback": [
      "\u001b[1;31m---------------------------------------------------------------------------\u001b[0m",
      "\u001b[1;31mAttributeError\u001b[0m                            Traceback (most recent call last)",
      "\u001b[1;32m<ipython-input-60-a50e5e305f29>\u001b[0m in \u001b[0;36m<module>\u001b[1;34m\u001b[0m\n\u001b[0;32m      1\u001b[0m \u001b[0mplt\u001b[0m\u001b[1;33m.\u001b[0m\u001b[0mfigure\u001b[0m\u001b[1;33m(\u001b[0m\u001b[0mfigsize\u001b[0m\u001b[1;33m=\u001b[0m\u001b[1;33m(\u001b[0m\u001b[1;36m10\u001b[0m\u001b[1;33m,\u001b[0m\u001b[1;36m6\u001b[0m\u001b[1;33m)\u001b[0m\u001b[1;33m)\u001b[0m\u001b[1;33m\u001b[0m\u001b[1;33m\u001b[0m\u001b[0m\n\u001b[1;32m----> 2\u001b[1;33m \u001b[0mplt\u001b[0m\u001b[1;33m.\u001b[0m\u001b[0mplot\u001b[0m\u001b[1;33m(\u001b[0m\u001b[0msummary\u001b[0m\u001b[1;33m.\u001b[0m\u001b[0mloss\u001b[0m\u001b[1;33m,\u001b[0m \u001b[0mlabel\u001b[0m\u001b[1;33m=\u001b[0m\u001b[1;34m\"loss\"\u001b[0m\u001b[1;33m)\u001b[0m\u001b[1;33m\u001b[0m\u001b[1;33m\u001b[0m\u001b[0m\n\u001b[0m\u001b[0;32m      3\u001b[0m \u001b[0mplt\u001b[0m\u001b[1;33m.\u001b[0m\u001b[0mplot\u001b[0m\u001b[1;33m(\u001b[0m\u001b[0msummary\u001b[0m\u001b[1;33m.\u001b[0m\u001b[0mval_loss\u001b[0m\u001b[1;33m,\u001b[0m \u001b[0mlabel\u001b[0m\u001b[1;33m=\u001b[0m\u001b[1;34m\"val_loss\"\u001b[0m\u001b[1;33m)\u001b[0m\u001b[1;33m\u001b[0m\u001b[1;33m\u001b[0m\u001b[0m\n\u001b[0;32m      4\u001b[0m \u001b[0mplt\u001b[0m\u001b[1;33m.\u001b[0m\u001b[0mlegend\u001b[0m\u001b[1;33m(\u001b[0m\u001b[0mloc\u001b[0m\u001b[1;33m=\u001b[0m\u001b[1;34m\"upper right\"\u001b[0m\u001b[1;33m)\u001b[0m\u001b[1;33m\u001b[0m\u001b[1;33m\u001b[0m\u001b[0m\n\u001b[0;32m      5\u001b[0m \u001b[0mplt\u001b[0m\u001b[1;33m.\u001b[0m\u001b[0mylabel\u001b[0m\u001b[1;33m(\u001b[0m\u001b[1;34m\"Loss\"\u001b[0m\u001b[1;33m)\u001b[0m\u001b[1;33m\u001b[0m\u001b[1;33m\u001b[0m\u001b[0m\n",
      "\u001b[1;32m~\\anaconda3\\lib\\site-packages\\pandas\\core\\generic.py\u001b[0m in \u001b[0;36m__getattr__\u001b[1;34m(self, name)\u001b[0m\n\u001b[0;32m   5463\u001b[0m             \u001b[1;32mif\u001b[0m \u001b[0mself\u001b[0m\u001b[1;33m.\u001b[0m\u001b[0m_info_axis\u001b[0m\u001b[1;33m.\u001b[0m\u001b[0m_can_hold_identifiers_and_holds_name\u001b[0m\u001b[1;33m(\u001b[0m\u001b[0mname\u001b[0m\u001b[1;33m)\u001b[0m\u001b[1;33m:\u001b[0m\u001b[1;33m\u001b[0m\u001b[1;33m\u001b[0m\u001b[0m\n\u001b[0;32m   5464\u001b[0m                 \u001b[1;32mreturn\u001b[0m \u001b[0mself\u001b[0m\u001b[1;33m[\u001b[0m\u001b[0mname\u001b[0m\u001b[1;33m]\u001b[0m\u001b[1;33m\u001b[0m\u001b[1;33m\u001b[0m\u001b[0m\n\u001b[1;32m-> 5465\u001b[1;33m             \u001b[1;32mreturn\u001b[0m \u001b[0mobject\u001b[0m\u001b[1;33m.\u001b[0m\u001b[0m__getattribute__\u001b[0m\u001b[1;33m(\u001b[0m\u001b[0mself\u001b[0m\u001b[1;33m,\u001b[0m \u001b[0mname\u001b[0m\u001b[1;33m)\u001b[0m\u001b[1;33m\u001b[0m\u001b[1;33m\u001b[0m\u001b[0m\n\u001b[0m\u001b[0;32m   5466\u001b[0m \u001b[1;33m\u001b[0m\u001b[0m\n\u001b[0;32m   5467\u001b[0m     \u001b[1;32mdef\u001b[0m \u001b[0m__setattr__\u001b[0m\u001b[1;33m(\u001b[0m\u001b[0mself\u001b[0m\u001b[1;33m,\u001b[0m \u001b[0mname\u001b[0m\u001b[1;33m:\u001b[0m \u001b[0mstr\u001b[0m\u001b[1;33m,\u001b[0m \u001b[0mvalue\u001b[0m\u001b[1;33m)\u001b[0m \u001b[1;33m->\u001b[0m \u001b[1;32mNone\u001b[0m\u001b[1;33m:\u001b[0m\u001b[1;33m\u001b[0m\u001b[1;33m\u001b[0m\u001b[0m\n",
      "\u001b[1;31mAttributeError\u001b[0m: 'DataFrame' object has no attribute 'loss'"
     ]
    },
    {
     "data": {
      "text/plain": [
       "<Figure size 720x432 with 0 Axes>"
      ]
     },
     "metadata": {},
     "output_type": "display_data"
    }
   ],
   "source": [
    "plt.figure(figsize=(10,6))\n",
    "plt.plot(summary.loss, label=\"loss\")\n",
    "plt.plot(summary.val_loss, label=\"val_loss\")\n",
    "plt.legend(loc=\"upper right\")\n",
    "plt.ylabel(\"Loss\")\n",
    "plt.xlabel(\"Epoch\")\n",
    "plt.show()"
   ]
  },
  {
   "cell_type": "code",
   "execution_count": 62,
   "metadata": {},
   "outputs": [
    {
     "ename": "AttributeError",
     "evalue": "'DataFrame' object has no attribute 'accuracy'",
     "output_type": "error",
     "traceback": [
      "\u001b[1;31m---------------------------------------------------------------------------\u001b[0m",
      "\u001b[1;31mAttributeError\u001b[0m                            Traceback (most recent call last)",
      "\u001b[1;32m<ipython-input-62-32e1edb039ff>\u001b[0m in \u001b[0;36m<module>\u001b[1;34m\u001b[0m\n\u001b[0;32m      1\u001b[0m \u001b[0mplt\u001b[0m\u001b[1;33m.\u001b[0m\u001b[0mfigure\u001b[0m\u001b[1;33m(\u001b[0m\u001b[0mfigsize\u001b[0m\u001b[1;33m=\u001b[0m\u001b[1;33m(\u001b[0m\u001b[1;36m10\u001b[0m\u001b[1;33m,\u001b[0m\u001b[1;36m6\u001b[0m\u001b[1;33m)\u001b[0m\u001b[1;33m)\u001b[0m\u001b[1;33m\u001b[0m\u001b[1;33m\u001b[0m\u001b[0m\n\u001b[1;32m----> 2\u001b[1;33m \u001b[0mplt\u001b[0m\u001b[1;33m.\u001b[0m\u001b[0mplot\u001b[0m\u001b[1;33m(\u001b[0m\u001b[0msummary\u001b[0m\u001b[1;33m.\u001b[0m\u001b[0maccuracy\u001b[0m\u001b[1;33m,\u001b[0m \u001b[0mlabel\u001b[0m\u001b[1;33m=\u001b[0m\u001b[1;34m\"accuracy\"\u001b[0m\u001b[1;33m)\u001b[0m\u001b[1;33m\u001b[0m\u001b[1;33m\u001b[0m\u001b[0m\n\u001b[0m\u001b[0;32m      3\u001b[0m \u001b[0mplt\u001b[0m\u001b[1;33m.\u001b[0m\u001b[0mplot\u001b[0m\u001b[1;33m(\u001b[0m\u001b[0msummary\u001b[0m\u001b[1;33m.\u001b[0m\u001b[0mval_accuracy\u001b[0m\u001b[1;33m,\u001b[0m \u001b[0mlabel\u001b[0m\u001b[1;33m=\u001b[0m\u001b[1;34m\"val_accuracy\"\u001b[0m\u001b[1;33m)\u001b[0m\u001b[1;33m\u001b[0m\u001b[1;33m\u001b[0m\u001b[0m\n\u001b[0;32m      4\u001b[0m \u001b[0mplt\u001b[0m\u001b[1;33m.\u001b[0m\u001b[0mlegend\u001b[0m\u001b[1;33m(\u001b[0m\u001b[0mloc\u001b[0m\u001b[1;33m=\u001b[0m\u001b[1;34m\"upper left\"\u001b[0m\u001b[1;33m)\u001b[0m\u001b[1;33m\u001b[0m\u001b[1;33m\u001b[0m\u001b[0m\n\u001b[0;32m      5\u001b[0m \u001b[0mplt\u001b[0m\u001b[1;33m.\u001b[0m\u001b[0mylabel\u001b[0m\u001b[1;33m(\u001b[0m\u001b[1;34m\"Accuracy\"\u001b[0m\u001b[1;33m)\u001b[0m\u001b[1;33m\u001b[0m\u001b[1;33m\u001b[0m\u001b[0m\n",
      "\u001b[1;32m~\\anaconda3\\lib\\site-packages\\pandas\\core\\generic.py\u001b[0m in \u001b[0;36m__getattr__\u001b[1;34m(self, name)\u001b[0m\n\u001b[0;32m   5463\u001b[0m             \u001b[1;32mif\u001b[0m \u001b[0mself\u001b[0m\u001b[1;33m.\u001b[0m\u001b[0m_info_axis\u001b[0m\u001b[1;33m.\u001b[0m\u001b[0m_can_hold_identifiers_and_holds_name\u001b[0m\u001b[1;33m(\u001b[0m\u001b[0mname\u001b[0m\u001b[1;33m)\u001b[0m\u001b[1;33m:\u001b[0m\u001b[1;33m\u001b[0m\u001b[1;33m\u001b[0m\u001b[0m\n\u001b[0;32m   5464\u001b[0m                 \u001b[1;32mreturn\u001b[0m \u001b[0mself\u001b[0m\u001b[1;33m[\u001b[0m\u001b[0mname\u001b[0m\u001b[1;33m]\u001b[0m\u001b[1;33m\u001b[0m\u001b[1;33m\u001b[0m\u001b[0m\n\u001b[1;32m-> 5465\u001b[1;33m             \u001b[1;32mreturn\u001b[0m \u001b[0mobject\u001b[0m\u001b[1;33m.\u001b[0m\u001b[0m__getattribute__\u001b[0m\u001b[1;33m(\u001b[0m\u001b[0mself\u001b[0m\u001b[1;33m,\u001b[0m \u001b[0mname\u001b[0m\u001b[1;33m)\u001b[0m\u001b[1;33m\u001b[0m\u001b[1;33m\u001b[0m\u001b[0m\n\u001b[0m\u001b[0;32m   5466\u001b[0m \u001b[1;33m\u001b[0m\u001b[0m\n\u001b[0;32m   5467\u001b[0m     \u001b[1;32mdef\u001b[0m \u001b[0m__setattr__\u001b[0m\u001b[1;33m(\u001b[0m\u001b[0mself\u001b[0m\u001b[1;33m,\u001b[0m \u001b[0mname\u001b[0m\u001b[1;33m:\u001b[0m \u001b[0mstr\u001b[0m\u001b[1;33m,\u001b[0m \u001b[0mvalue\u001b[0m\u001b[1;33m)\u001b[0m \u001b[1;33m->\u001b[0m \u001b[1;32mNone\u001b[0m\u001b[1;33m:\u001b[0m\u001b[1;33m\u001b[0m\u001b[1;33m\u001b[0m\u001b[0m\n",
      "\u001b[1;31mAttributeError\u001b[0m: 'DataFrame' object has no attribute 'accuracy'"
     ]
    },
    {
     "data": {
      "text/plain": [
       "<Figure size 720x432 with 0 Axes>"
      ]
     },
     "metadata": {},
     "output_type": "display_data"
    }
   ],
   "source": [
    "plt.figure(figsize=(10,6))\n",
    "plt.plot(summary.accuracy, label=\"accuracy\")\n",
    "plt.plot(summary.val_accuracy, label=\"val_accuracy\")\n",
    "plt.legend(loc=\"upper left\")\n",
    "plt.ylabel(\"Accuracy\")\n",
    "plt.xlabel(\"Epoch\")\n",
    "plt.show()"
   ]
  },
  {
   "cell_type": "code",
   "execution_count": 63,
   "metadata": {},
   "outputs": [
    {
     "data": {
      "text/plain": [
       "['loss', 'accuracy']"
      ]
     },
     "execution_count": 63,
     "metadata": {},
     "output_type": "execute_result"
    }
   ],
   "source": [
    "model.metrics_names"
   ]
  },
  {
   "cell_type": "code",
   "execution_count": 64,
   "metadata": {},
   "outputs": [
    {
     "data": {
      "text/plain": [
       "[0.17969009280204773, 0.9449999928474426]"
      ]
     },
     "execution_count": 64,
     "metadata": {},
     "output_type": "execute_result"
    }
   ],
   "source": [
    "model.evaluate_generator(test_image_gen)"
   ]
  },
  {
   "cell_type": "code",
   "execution_count": 65,
   "metadata": {},
   "outputs": [],
   "source": [
    "from tensorflow.keras.preprocessing import image"
   ]
  },
  {
   "cell_type": "code",
   "execution_count": 66,
   "metadata": {},
   "outputs": [],
   "source": [
    "preds = model.predict_generator(test_image_gen)"
   ]
  },
  {
   "cell_type": "code",
   "execution_count": 67,
   "metadata": {},
   "outputs": [
    {
     "data": {
      "text/plain": [
       "array([[1.4666170e-02],\n",
       "       [4.4482433e-05],\n",
       "       [9.4956958e-05],\n",
       "       ...,\n",
       "       [9.6812081e-01],\n",
       "       [9.4027114e-01],\n",
       "       [9.8428953e-01]], dtype=float32)"
      ]
     },
     "execution_count": 67,
     "metadata": {},
     "output_type": "execute_result"
    }
   ],
   "source": [
    "preds"
   ]
  },
  {
   "cell_type": "code",
   "execution_count": 68,
   "metadata": {},
   "outputs": [
    {
     "data": {
      "text/plain": [
       "array([0, 0, 0, ..., 1, 1, 1])"
      ]
     },
     "execution_count": 68,
     "metadata": {},
     "output_type": "execute_result"
    }
   ],
   "source": [
    "test_image_gen.classes"
   ]
  },
  {
   "cell_type": "code",
   "execution_count": 69,
   "metadata": {},
   "outputs": [],
   "source": [
    "predictions = preds > 0.5"
   ]
  },
  {
   "cell_type": "code",
   "execution_count": 70,
   "metadata": {},
   "outputs": [
    {
     "data": {
      "text/plain": [
       "array([[False],\n",
       "       [False],\n",
       "       [False],\n",
       "       ...,\n",
       "       [ True],\n",
       "       [ True],\n",
       "       [ True]])"
      ]
     },
     "execution_count": 70,
     "metadata": {},
     "output_type": "execute_result"
    }
   ],
   "source": [
    "predictions"
   ]
  },
  {
   "cell_type": "code",
   "execution_count": 88,
   "metadata": {},
   "outputs": [],
   "source": [
    "from sklearn.metrics import classification_report,confusion_matrix"
   ]
  },
  {
   "cell_type": "code",
   "execution_count": 72,
   "metadata": {},
   "outputs": [
    {
     "name": "stdout",
     "output_type": "stream",
     "text": [
      "              precision    recall  f1-score   support\n",
      "\n",
      "           0       0.97      0.91      0.94      1300\n",
      "           1       0.92      0.97      0.94      1300\n",
      "\n",
      "    accuracy                           0.94      2600\n",
      "   macro avg       0.94      0.94      0.94      2600\n",
      "weighted avg       0.94      0.94      0.94      2600\n",
      "\n"
     ]
    }
   ],
   "source": [
    "print(classification_report(test_image_gen.classes,predictions))"
   ]
  },
  {
   "cell_type": "code",
   "execution_count": 73,
   "metadata": {},
   "outputs": [
    {
     "data": {
      "text/plain": [
       "array([[1183,  117],\n",
       "       [  35, 1265]], dtype=int64)"
      ]
     },
     "execution_count": 73,
     "metadata": {},
     "output_type": "execute_result"
    }
   ],
   "source": [
    "confusion_matrix(test_image_gen.classes,predictions)"
   ]
  },
  {
   "cell_type": "code",
   "execution_count": 65,
   "metadata": {},
   "outputs": [],
   "source": [
    "#model.save('malaria_model.h5')"
   ]
  },
  {
   "cell_type": "markdown",
   "metadata": {},
   "source": [
    "# Predicting on an Image"
   ]
  },
  {
   "cell_type": "code",
   "execution_count": 74,
   "metadata": {},
   "outputs": [
    {
     "data": {
      "text/plain": [
       "'C:\\\\Users\\\\bunyaminkeles\\\\Documents\\\\_IT\\\\02_DataScience\\\\02_DeepLearning\\\\CNN_4\\\\cell_images\\\\train\\\\\\\\parasitized\\\\C100P61ThinF_IMG_20150918_144104_cell_169.png'"
      ]
     },
     "execution_count": 74,
     "metadata": {},
     "output_type": "execute_result"
    }
   ],
   "source": [
    "para_cell"
   ]
  },
  {
   "cell_type": "code",
   "execution_count": 75,
   "metadata": {},
   "outputs": [],
   "source": [
    "my_image = image.load_img(para_cell,target_size=image_shape)"
   ]
  },
  {
   "cell_type": "code",
   "execution_count": 76,
   "metadata": {},
   "outputs": [
    {
     "data": {
      "image/png": "[encoded data removed]",
      "text/plain": [
       "<PIL.Image.Image image mode=RGB size=130x130 at 0x1BED662D820>"
      ]
     },
     "execution_count": 76,
     "metadata": {},
     "output_type": "execute_result"
    }
   ],
   "source": [
    "my_image"
   ]
  },
  {
   "cell_type": "code",
   "execution_count": 77,
   "metadata": {},
   "outputs": [
    {
     "data": {
      "text/plain": [
       "PIL.Image.Image"
      ]
     },
     "execution_count": 77,
     "metadata": {},
     "output_type": "execute_result"
    }
   ],
   "source": [
    "type(my_image)"
   ]
  },
  {
   "cell_type": "code",
   "execution_count": 78,
   "metadata": {},
   "outputs": [],
   "source": [
    "my_image = image.img_to_array(my_image)"
   ]
  },
  {
   "cell_type": "code",
   "execution_count": 79,
   "metadata": {},
   "outputs": [
    {
     "data": {
      "text/plain": [
       "numpy.ndarray"
      ]
     },
     "execution_count": 79,
     "metadata": {},
     "output_type": "execute_result"
    }
   ],
   "source": [
    "type(my_image)"
   ]
  },
  {
   "cell_type": "code",
   "execution_count": 80,
   "metadata": {},
   "outputs": [
    {
     "data": {
      "text/plain": [
       "(130, 130, 3)"
      ]
     },
     "execution_count": 80,
     "metadata": {},
     "output_type": "execute_result"
    }
   ],
   "source": [
    "my_image.shape"
   ]
  },
  {
   "cell_type": "code",
   "execution_count": 81,
   "metadata": {},
   "outputs": [],
   "source": [
    "my_image = np.expand_dims(my_image, axis=0)"
   ]
  },
  {
   "cell_type": "code",
   "execution_count": 82,
   "metadata": {},
   "outputs": [
    {
     "data": {
      "text/plain": [
       "(1, 130, 130, 3)"
      ]
     },
     "execution_count": 82,
     "metadata": {},
     "output_type": "execute_result"
    }
   ],
   "source": [
    "my_image.shape"
   ]
  },
  {
   "cell_type": "code",
   "execution_count": 83,
   "metadata": {},
   "outputs": [
    {
     "data": {
      "text/plain": [
       "array([[0.05313948]], dtype=float32)"
      ]
     },
     "execution_count": 83,
     "metadata": {},
     "output_type": "execute_result"
    }
   ],
   "source": [
    "model.predict(my_image)"
   ]
  },
  {
   "cell_type": "code",
   "execution_count": 84,
   "metadata": {},
   "outputs": [
    {
     "data": {
      "text/plain": [
       "{'parasitized': 0, 'uninfected': 1}"
      ]
     },
     "execution_count": 84,
     "metadata": {},
     "output_type": "execute_result"
    }
   ],
   "source": [
    "train_image_gen.class_indices"
   ]
  },
  {
   "cell_type": "code",
   "execution_count": 85,
   "metadata": {},
   "outputs": [
    {
     "data": {
      "text/plain": [
       "{'parasitized': 0, 'uninfected': 1}"
      ]
     },
     "execution_count": 85,
     "metadata": {},
     "output_type": "execute_result"
    }
   ],
   "source": [
    "test_image_gen.class_indices"
   ]
  },
  {
   "cell_type": "code",
   "execution_count": 92,
   "metadata": {},
   "outputs": [
    {
     "ename": "TypeError",
     "evalue": "Invalid shape (1, 130, 130, 3) for image data",
     "output_type": "error",
     "traceback": [
      "\u001b[1;31m---------------------------------------------------------------------------\u001b[0m",
      "\u001b[1;31mTypeError\u001b[0m                                 Traceback (most recent call last)",
      "\u001b[1;32m<ipython-input-92-d1501a855ccc>\u001b[0m in \u001b[0;36m<module>\u001b[1;34m\u001b[0m\n\u001b[1;32m----> 1\u001b[1;33m \u001b[0mplt\u001b[0m\u001b[1;33m.\u001b[0m\u001b[0mimshow\u001b[0m\u001b[1;33m(\u001b[0m\u001b[0mmy_image\u001b[0m\u001b[1;33m)\u001b[0m\u001b[1;33m\u001b[0m\u001b[1;33m\u001b[0m\u001b[0m\n\u001b[0m",
      "\u001b[1;32m~\\anaconda3\\lib\\site-packages\\matplotlib\\pyplot.py\u001b[0m in \u001b[0;36mimshow\u001b[1;34m(X, cmap, norm, aspect, interpolation, alpha, vmin, vmax, origin, extent, filternorm, filterrad, resample, url, data, **kwargs)\u001b[0m\n\u001b[0;32m   2722\u001b[0m         \u001b[0mfilternorm\u001b[0m\u001b[1;33m=\u001b[0m\u001b[1;32mTrue\u001b[0m\u001b[1;33m,\u001b[0m \u001b[0mfilterrad\u001b[0m\u001b[1;33m=\u001b[0m\u001b[1;36m4.0\u001b[0m\u001b[1;33m,\u001b[0m \u001b[0mresample\u001b[0m\u001b[1;33m=\u001b[0m\u001b[1;32mNone\u001b[0m\u001b[1;33m,\u001b[0m \u001b[0murl\u001b[0m\u001b[1;33m=\u001b[0m\u001b[1;32mNone\u001b[0m\u001b[1;33m,\u001b[0m\u001b[1;33m\u001b[0m\u001b[1;33m\u001b[0m\u001b[0m\n\u001b[0;32m   2723\u001b[0m         data=None, **kwargs):\n\u001b[1;32m-> 2724\u001b[1;33m     __ret = gca().imshow(\n\u001b[0m\u001b[0;32m   2725\u001b[0m         \u001b[0mX\u001b[0m\u001b[1;33m,\u001b[0m \u001b[0mcmap\u001b[0m\u001b[1;33m=\u001b[0m\u001b[0mcmap\u001b[0m\u001b[1;33m,\u001b[0m \u001b[0mnorm\u001b[0m\u001b[1;33m=\u001b[0m\u001b[0mnorm\u001b[0m\u001b[1;33m,\u001b[0m \u001b[0maspect\u001b[0m\u001b[1;33m=\u001b[0m\u001b[0maspect\u001b[0m\u001b[1;33m,\u001b[0m\u001b[1;33m\u001b[0m\u001b[1;33m\u001b[0m\u001b[0m\n\u001b[0;32m   2726\u001b[0m         \u001b[0minterpolation\u001b[0m\u001b[1;33m=\u001b[0m\u001b[0minterpolation\u001b[0m\u001b[1;33m,\u001b[0m \u001b[0malpha\u001b[0m\u001b[1;33m=\u001b[0m\u001b[0malpha\u001b[0m\u001b[1;33m,\u001b[0m \u001b[0mvmin\u001b[0m\u001b[1;33m=\u001b[0m\u001b[0mvmin\u001b[0m\u001b[1;33m,\u001b[0m\u001b[1;33m\u001b[0m\u001b[1;33m\u001b[0m\u001b[0m\n",
      "\u001b[1;32m~\\anaconda3\\lib\\site-packages\\matplotlib\\__init__.py\u001b[0m in \u001b[0;36minner\u001b[1;34m(ax, data, *args, **kwargs)\u001b[0m\n\u001b[0;32m   1445\u001b[0m     \u001b[1;32mdef\u001b[0m \u001b[0minner\u001b[0m\u001b[1;33m(\u001b[0m\u001b[0max\u001b[0m\u001b[1;33m,\u001b[0m \u001b[1;33m*\u001b[0m\u001b[0margs\u001b[0m\u001b[1;33m,\u001b[0m \u001b[0mdata\u001b[0m\u001b[1;33m=\u001b[0m\u001b[1;32mNone\u001b[0m\u001b[1;33m,\u001b[0m \u001b[1;33m**\u001b[0m\u001b[0mkwargs\u001b[0m\u001b[1;33m)\u001b[0m\u001b[1;33m:\u001b[0m\u001b[1;33m\u001b[0m\u001b[1;33m\u001b[0m\u001b[0m\n\u001b[0;32m   1446\u001b[0m         \u001b[1;32mif\u001b[0m \u001b[0mdata\u001b[0m \u001b[1;32mis\u001b[0m \u001b[1;32mNone\u001b[0m\u001b[1;33m:\u001b[0m\u001b[1;33m\u001b[0m\u001b[1;33m\u001b[0m\u001b[0m\n\u001b[1;32m-> 1447\u001b[1;33m             \u001b[1;32mreturn\u001b[0m \u001b[0mfunc\u001b[0m\u001b[1;33m(\u001b[0m\u001b[0max\u001b[0m\u001b[1;33m,\u001b[0m \u001b[1;33m*\u001b[0m\u001b[0mmap\u001b[0m\u001b[1;33m(\u001b[0m\u001b[0msanitize_sequence\u001b[0m\u001b[1;33m,\u001b[0m \u001b[0margs\u001b[0m\u001b[1;33m)\u001b[0m\u001b[1;33m,\u001b[0m \u001b[1;33m**\u001b[0m\u001b[0mkwargs\u001b[0m\u001b[1;33m)\u001b[0m\u001b[1;33m\u001b[0m\u001b[1;33m\u001b[0m\u001b[0m\n\u001b[0m\u001b[0;32m   1448\u001b[0m \u001b[1;33m\u001b[0m\u001b[0m\n\u001b[0;32m   1449\u001b[0m         \u001b[0mbound\u001b[0m \u001b[1;33m=\u001b[0m \u001b[0mnew_sig\u001b[0m\u001b[1;33m.\u001b[0m\u001b[0mbind\u001b[0m\u001b[1;33m(\u001b[0m\u001b[0max\u001b[0m\u001b[1;33m,\u001b[0m \u001b[1;33m*\u001b[0m\u001b[0margs\u001b[0m\u001b[1;33m,\u001b[0m \u001b[1;33m**\u001b[0m\u001b[0mkwargs\u001b[0m\u001b[1;33m)\u001b[0m\u001b[1;33m\u001b[0m\u001b[1;33m\u001b[0m\u001b[0m\n",
      "\u001b[1;32m~\\anaconda3\\lib\\site-packages\\matplotlib\\axes\\_axes.py\u001b[0m in \u001b[0;36mimshow\u001b[1;34m(self, X, cmap, norm, aspect, interpolation, alpha, vmin, vmax, origin, extent, filternorm, filterrad, resample, url, **kwargs)\u001b[0m\n\u001b[0;32m   5521\u001b[0m                               resample=resample, **kwargs)\n\u001b[0;32m   5522\u001b[0m \u001b[1;33m\u001b[0m\u001b[0m\n\u001b[1;32m-> 5523\u001b[1;33m         \u001b[0mim\u001b[0m\u001b[1;33m.\u001b[0m\u001b[0mset_data\u001b[0m\u001b[1;33m(\u001b[0m\u001b[0mX\u001b[0m\u001b[1;33m)\u001b[0m\u001b[1;33m\u001b[0m\u001b[1;33m\u001b[0m\u001b[0m\n\u001b[0m\u001b[0;32m   5524\u001b[0m         \u001b[0mim\u001b[0m\u001b[1;33m.\u001b[0m\u001b[0mset_alpha\u001b[0m\u001b[1;33m(\u001b[0m\u001b[0malpha\u001b[0m\u001b[1;33m)\u001b[0m\u001b[1;33m\u001b[0m\u001b[1;33m\u001b[0m\u001b[0m\n\u001b[0;32m   5525\u001b[0m         \u001b[1;32mif\u001b[0m \u001b[0mim\u001b[0m\u001b[1;33m.\u001b[0m\u001b[0mget_clip_path\u001b[0m\u001b[1;33m(\u001b[0m\u001b[1;33m)\u001b[0m \u001b[1;32mis\u001b[0m \u001b[1;32mNone\u001b[0m\u001b[1;33m:\u001b[0m\u001b[1;33m\u001b[0m\u001b[1;33m\u001b[0m\u001b[0m\n",
      "\u001b[1;32m~\\anaconda3\\lib\\site-packages\\matplotlib\\image.py\u001b[0m in \u001b[0;36mset_data\u001b[1;34m(self, A)\u001b[0m\n\u001b[0;32m    709\u001b[0m         if not (self._A.ndim == 2\n\u001b[0;32m    710\u001b[0m                 or self._A.ndim == 3 and self._A.shape[-1] in [3, 4]):\n\u001b[1;32m--> 711\u001b[1;33m             raise TypeError(\"Invalid shape {} for image data\"\n\u001b[0m\u001b[0;32m    712\u001b[0m                             .format(self._A.shape))\n\u001b[0;32m    713\u001b[0m \u001b[1;33m\u001b[0m\u001b[0m\n",
      "\u001b[1;31mTypeError\u001b[0m: Invalid shape (1, 130, 130, 3) for image data"
     ]
    },
    {
     "data": {
      "image/png": "[encoded data removed]",
      "text/plain": [
       "<Figure size 432x288 with 1 Axes>"
      ]
     },
     "metadata": {
      "needs_background": "light"
     },
     "output_type": "display_data"
    }
   ],
   "source": [
    "plt.imshow(my_image)"
   ]
  },
  {
   "cell_type": "code",
   "execution_count": null,
   "metadata": {},
   "outputs": [],
   "source": []
  }
 ],
 "metadata": {
  "kernelspec": {
   "display_name": "Python 3",
   "language": "python",
   "name": "python3"
  },
  "language_info": {
   "codemirror_mode": {
    "name": "ipython",
    "version": 3
   },
   "file_extension": ".py",
   "mimetype": "text/x-python",
   "name": "python",
   "nbconvert_exporter": "python",
   "pygments_lexer": "ipython3",
   "version": "3.8.8"
  }
 },
 "nbformat": 4,
 "nbformat_minor": 2
}
